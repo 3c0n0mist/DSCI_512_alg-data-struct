{
 "cells": [
  {
   "cell_type": "markdown",
   "metadata": {},
   "source": [
    "# DSCI 512 Lab 3\n",
    "\n",
    "\n"
   ]
  },
  {
   "cell_type": "markdown",
   "metadata": {},
   "source": [
    "### Instructions\n",
    "rubric={mechanics:3}\n",
    "\n",
    "Follow the [general lab instructions](https://ubc-mds.github.io/resources_pages/general_lab_instructions/)."
   ]
  },
  {
   "cell_type": "code",
   "execution_count": 1,
   "metadata": {},
   "outputs": [],
   "source": [
    "import altair as alt\n",
    "from functools import reduce\n",
    "import networkx as nx\n",
    "from hashlib import sha1\n",
    "import pandas as pd\n",
    "import numpy as np\n",
    "import matplotlib.pyplot as plt\n",
    "%matplotlib inline"
   ]
  },
  {
   "cell_type": "code",
   "execution_count": 2,
   "metadata": {},
   "outputs": [],
   "source": [
    "autograde_hash = lambda x: sha1(str(x).encode('utf8')).hexdigest()"
   ]
  },
  {
   "cell_type": "markdown",
   "metadata": {
    "toc-hr-collapsed": true
   },
   "source": [
    "## Exercise 0: Graphs warm-up"
   ]
  },
  {
   "cell_type": "markdown",
   "metadata": {},
   "source": [
    "#### 0(a) \n",
    "rubric={reasoning:1}\n",
    "\n",
    "Consider the task of finding a path through a maze like the one shown below. You decide to represent the maze as a graph and then use breadth first search to find a path from the start to the end. When representing the maze as a graph, what would your vertices represent and what would your edges represent?\n",
    "\n",
    "![](https://upload.wikimedia.org/wikipedia/commons/thumb/8/88/Maze_simple.svg/220px-Maze_simple.svg.png)"
   ]
  },
  {
   "cell_type": "markdown",
   "metadata": {},
   "source": [
    ""
   ]
  },
  {
   "cell_type": "markdown",
   "metadata": {},
   "source": [
    "#### 0(b)\n",
    "rubric={correctness:1}\n",
    "\n",
    "Consider the tree below (which is also a directed graph). You search the tree starting from the root $R$. Assuming neighbours of a node are ordered alphabetically, in what order will the nodes be visited if you use breadth-first search? \n",
    "\n",
    "![](tree.png)"
   ]
  },
  {
   "cell_type": "code",
   "execution_count": 3,
   "metadata": {},
   "outputs": [],
   "source": [
    "bfs_order = \"ABCDEFG\"  # TODO"
   ]
  },
  {
   "cell_type": "code",
   "execution_count": 4,
   "metadata": {},
   "outputs": [],
   "source": [
    ""
   ]
  },
  {
   "cell_type": "code",
   "execution_count": 5,
   "metadata": {},
   "outputs": [],
   "source": [
    "assert autograde_hash(bfs_order) == '7b6d43ec35953f2ca9e92c0b42afead70cabeec7'"
   ]
  },
  {
   "cell_type": "markdown",
   "metadata": {},
   "source": [
    "#### 0(c)\n",
    "rubric={correctness:1}\n",
    "\n",
    "What if you used depth-first search instead?"
   ]
  },
  {
   "cell_type": "code",
   "execution_count": 6,
   "metadata": {},
   "outputs": [],
   "source": [
    "dfs_order = \"ABCDEFG\"  # TODO"
   ]
  },
  {
   "cell_type": "code",
   "execution_count": 7,
   "metadata": {},
   "outputs": [],
   "source": [
    ""
   ]
  },
  {
   "cell_type": "code",
   "execution_count": 8,
   "metadata": {},
   "outputs": [],
   "source": [
    "assert autograde_hash(dfs_order) == '5338bc7583ff4dc29ea48a5e8e796dabff8a19ed'"
   ]
  },
  {
   "cell_type": "markdown",
   "metadata": {},
   "source": [
    "## Background info for the next few Execises\n",
    "\n",
    "##### Representing a social network as a graph\n",
    "\n",
    "A graph or network represents relationships among things. The things are represented as _vertices_ (aka _nodes_), and the relationships are represented as _edges_.\n",
    "\n",
    "One common use for a graph is to represent travel possibilities, such as on a road map or airline map. The nodes of the graph are cities, and the edges show which cities are directly connected. Then, you can use the graph to plan travel. The graph below represents the social network in Romeo & Juliet.\n",
    "\n",
    "![](romeo-and-juliet-undirected.png)\n",
    "\n",
    "An edge between person A and person B means that A considers B a friend, and also B considers A a friend.\n",
    "\n",
    "This graph is unable to represent certain information. For example, Count Paris wishes to wed Juliet, but she does not reciprocate his affection. To represent this, we would need a _directed graph_. You do not need to worry about this for this assignment; in any case; many social network sites like Facebook do not represent this information either. (Some other social networking sites, such as Twitter, do permit one-way links.)\n",
    "\n",
    "In the image above, ignore the gray background and the labels for the families (\"houses\"); those are there just to help you interpret the graph but are not part of the social network itself.\n",
    "\n",
    "##### Distance\n",
    "\n",
    "One interesting measure in a social network graph is the \"distance\" or number of \"degrees of separation\" between two people. This notion is used in academic research via the [Erdős number](https://en.wikipedia.org/wiki/Erd%C5%91s_number) and in the film industry via the [Bacon number](https://en.wikipedia.org/wiki/Six_Degrees_of_Kevin_Bacon#Bacon_numbers). For example, in the above graph, the distance between Juliet and Romeo is 1, and the distance between Juliet and Paris is 2 (via Capulet).\n",
    "\n",
    "##### Representing a graph in Python\n",
    "\n",
    "We will use the [NetworkX](http://networkx.github.io/) library to represent a graph in Python. We suggest you work through the [NetworkX tutorial](https://networkx.github.io/documentation/stable/tutorial.html), up to and including the \"Accessing edges\" section - but it is not required. "
   ]
  },
  {
   "cell_type": "markdown",
   "metadata": {},
   "source": [
    "## Exercise 1: A small practice graph\n",
    "\n",
    "rubric={accuracy:1}\n",
    "\n",
    "It is always a good idea to test your code on a dataset that is small enough for you to manually compute the results. You will create two such datasets for testing.\n",
    "\n",
    "\n",
    "![](practice_graph.png)\n",
    "\n",
    "Create the above graph in NetworkX, and store it in a variable named `practice_graph`.\n",
    "\n",
    "Use the `Graph` class (not `DiGraph`, `MultiGraph`, or `MultiDiGraph`). Review its documentation before you begin.\n",
    "\n",
    "To help you verify that your graph is correct, the provided code draws the graph. Compare your graph to the figure above. "
   ]
  },
  {
   "cell_type": "code",
   "execution_count": 2,
   "metadata": {},
   "outputs": [],
   "source": [
    ""
   ]
  },
  {
   "cell_type": "code",
   "execution_count": 3,
   "metadata": {},
   "outputs": [
    {
     "name": "stderr",
     "output_type": "stream",
     "text": [
      "/anaconda3/lib/python3.7/site-packages/networkx/drawing/layout.py:950: FutureWarning: arrays to stack must be passed as a \"sequence\" type such as list or tuple. Support for non-sequence iterables such as generators is deprecated as of NumPy 1.16 and will raise an error in the future.\n",
      "  pos = np.row_stack((pos[x] for x in node_list))\n"
     ]
    },
    {
     "data": {
      "image/png": "[encoded data removed]",
      "text/plain": [
       "<Figure size 432x288 with 1 Axes>"
      ]
     },
     "metadata": {},
     "output_type": "display_data"
    }
   ],
   "source": [
    "assert len(practice_graph.nodes()) == 6\n",
    "assert len(practice_graph.edges()) == 8\n",
    "\n",
    "nx.draw_planar(practice_graph, with_labels=True)"
   ]
  },
  {
   "cell_type": "markdown",
   "metadata": {
    "toc-hr-collapsed": true
   },
   "source": [
    "## Exercise 2: The Romeo and Juliet graph\n",
    "\n",
    "The code below creates a graph named `rj` corresponding to the Romeo and Juliet graph above (ignoring the shaded family/house information)."
   ]
  },
  {
   "cell_type": "code",
   "execution_count": 11,
   "metadata": {},
   "outputs": [
    {
     "data": {
      "image/png": "[encoded data removed]",
      "text/plain": [
       "<Figure size 432x288 with 1 Axes>"
      ]
     },
     "metadata": {},
     "output_type": "display_data"
    }
   ],
   "source": [
    "rj = nx.Graph()\n",
    "rj.add_nodes_from(['Nurse',\n",
    "                   # House of Capulet\n",
    "                   'Juliet', 'Tybalt', 'Capulet',\n",
    "\n",
    "                   'Friar Laurence',\n",
    "\n",
    "                   # House Montague\n",
    "                   'Romeo', 'Benvolio', 'Montague',\n",
    "\n",
    "                   # Ruling house of Verona\n",
    "                   'Escalus', 'Mercutio', 'Paris'\n",
    "                   ])\n",
    "\n",
    "rj.add_edges_from([('Juliet', 'Nurse'),\n",
    "                   ('Juliet', 'Tybalt'),\n",
    "                   ('Juliet', 'Capulet'),\n",
    "                   ('Juliet', 'Friar Laurence'),\n",
    "                   ('Juliet', 'Romeo'),\n",
    "\n",
    "                   ('Capulet', 'Tybalt'),\n",
    "                   ('Capulet', 'Escalus'),\n",
    "                   ('Capulet', 'Paris'),\n",
    "\n",
    "                   ('Romeo', 'Friar Laurence'),\n",
    "                   ('Romeo', 'Benvolio'),\n",
    "                   ('Romeo', 'Montague'),\n",
    "                   ('Romeo', 'Mercutio'),\n",
    "\n",
    "                   ('Montague', 'Benvolio'),\n",
    "                   ('Montague', 'Escalus'),\n",
    "\n",
    "                   ('Escalus', 'Mercutio'),\n",
    "                   ('Escalus', 'Paris'),\n",
    "                   ('Paris', 'Mercutio')\n",
    "                   ])\n",
    "nx.draw(rj, with_labels=True)"
   ]
  },
  {
   "cell_type": "markdown",
   "metadata": {},
   "source": [
    "#### 2(a)\n",
    "rubric={accuracy:1,quality:1}\n",
    "\n",
    "Write a function `highest_degree` that takes in a graph and finds the vertex/vertices with the highest degree - in other words, the person with the largest number of friends. Your function should return a tuple with two elements:\n",
    "\n",
    "1. The maximum degree (int)\n",
    "2. All the nodes with that degree (set)"
   ]
  },
  {
   "cell_type": "markdown",
   "metadata": {},
   "source": [
    "As always, a proper docstring is required.\n",
    "\n",
    "Note: you can find the degree of a vertex using the following syntax:"
   ]
  },
  {
   "cell_type": "code",
   "execution_count": 12,
   "metadata": {},
   "outputs": [
    {
     "data": {
      "text/plain": [
       "3"
      ]
     },
     "execution_count": 12,
     "metadata": {},
     "output_type": "execute_result"
    }
   ],
   "source": [
    "nx.degree(rj, \"Paris\")"
   ]
  },
  {
   "cell_type": "code",
   "execution_count": 13,
   "metadata": {},
   "outputs": [],
   "source": [
    ""
   ]
  },
  {
   "cell_type": "code",
   "execution_count": 14,
   "metadata": {},
   "outputs": [],
   "source": [
    "max_degree, nodes = highest_degree(rj)\n",
    "assert nodes == {\"Romeo\", \"Juliet\"}\n",
    "assert max_degree == 5"
   ]
  },
  {
   "cell_type": "markdown",
   "metadata": {},
   "source": [
    "#### 2(b)\n",
    "rubric={accuracy:2,quality:1}\n",
    "\n",
    "Write a function `largest_distance` to find the pair(s) of vertices with the largest distance (degree of separation). Your function should return a tuple with two elements:\n",
    "\n",
    "1. The maximum distance (int)\n",
    "2. All the pairs of nodes with that distance (set of tuples)\n",
    "\n",
    "Note: do not include pairs twice. For example, if `('Romeo', 'Juliet')` is in the set, don't also include `('Juliet', 'Romeo')`.\n",
    "\n",
    "Note: the function [`nx.shortest_path_length`](https://networkx.github.io/documentation/stable/reference/algorithms/generated/networkx.algorithms.shortest_paths.generic.shortest_path_length.html#networkx.algorithms.shortest_paths.generic.shortest_path_length) computes the distance (degree of separation) between two nodes."
   ]
  },
  {
   "cell_type": "code",
   "execution_count": 15,
   "metadata": {},
   "outputs": [],
   "source": [
    ""
   ]
  },
  {
   "cell_type": "code",
   "execution_count": 16,
   "metadata": {},
   "outputs": [],
   "source": [
    "max_distance, pairs = largest_distance(rj)\n",
    "assert max_distance == 3\n",
    "assert len(pairs) == 12"
   ]
  },
  {
   "cell_type": "markdown",
   "metadata": {},
   "source": [
    "## (optional) Exercise 3: computing degrees of separation with BFS\n",
    "rubric={accuracy:1}\n",
    "\n",
    "Write a function `distance_BFS` that takes in a NetworkX `Graph` and two nodes, and uses breadth-first search (BFS) to compute the degrees of separation between the two nodes. What happens if the two nodes are not connected at all?\n",
    "\n",
    "Note: this will be similar to the BFS code from lecture, except instead of just returning True/False this code will have to keep track of the actual distance (an integer).\n",
    "\n",
    "Note: when you are done, you can check the code using the tests below and by comparing to `nx.shortest_path_length`, which does the same thing."
   ]
  },
  {
   "cell_type": "code",
   "execution_count": 17,
   "metadata": {},
   "outputs": [],
   "source": [
    ""
   ]
  },
  {
   "cell_type": "code",
   "execution_count": 18,
   "metadata": {},
   "outputs": [],
   "source": [
    "assert(distance_BFS(practice_graph, \"C\", \"F\")) == 1\n",
    "assert(distance_BFS(rj, \"Nurse\", \"Paris\")) == 3\n",
    "assert(distance_BFS(rj, \"Nurse\", \"Mercutio\")) == 3"
   ]
  },
  {
   "cell_type": "code",
   "execution_count": 19,
   "metadata": {},
   "outputs": [],
   "source": [
    "practice_graph.add_node(\"G\")"
   ]
  },
  {
   "cell_type": "code",
   "execution_count": 20,
   "metadata": {},
   "outputs": [],
   "source": [
    "assert(distance_BFS(practice_graph, \"A\", \"G\")) == -1"
   ]
  },
  {
   "cell_type": "markdown",
   "metadata": {
    "toc-hr-collapsed": true
   },
   "source": [
    "## Exercise 4: Using Facebook data\n",
    "\n",
    "We will use some Facebook data, which is the file `facebook-links.txt` in the [datasets repository](https://github.ubc.ca/mds-2019-20/datasets). \n",
    "\n",
    "The `facebook-links.txt` file is courtesy of the Max Planck Institute for Software Systems. Here is a slightly clarified version of the documentation for this file:\n",
    "\n",
    "> File `facebook-links.txt` contains a list of all of the user-to-user links from the Facebook New Orleans networks. These links are undirected on Facebook.\n",
    ">\n",
    "> Format: Each line contains two numeric user identifiers, meaning the second user appeared in the first user's friend list, and the first user appeared in the second user's friend list. Finally, the third column is a UNIX timestamp with the time of link establishment (if it could be determined, otherwise it is '\\N'). Note: a Unix timestamp is the number of seconds since January 1, 1970. You may ignore it in this assignment. \n",
    "\n",
    "\n",
    "The code below creates a graph named facebook from the Facebook data in file `facebook-links.txt`. "
   ]
  },
  {
   "cell_type": "code",
   "execution_count": 21,
   "metadata": {},
   "outputs": [
    {
     "data": {
      "text/html": [
       "<div>\n",
       "<style scoped>\n",
       "    .dataframe tbody tr th:only-of-type {\n",
       "        vertical-align: middle;\n",
       "    }\n",
       "\n",
       "    .dataframe tbody tr th {\n",
       "        vertical-align: top;\n",
       "    }\n",
       "\n",
       "    .dataframe thead th {\n",
       "        text-align: right;\n",
       "    }\n",
       "</style>\n",
       "<table border=\"1\" class=\"dataframe\">\n",
       "  <thead>\n",
       "    <tr style=\"text-align: right;\">\n",
       "      <th></th>\n",
       "      <th>from</th>\n",
       "      <th>to</th>\n",
       "      <th>timestamp</th>\n",
       "    </tr>\n",
       "  </thead>\n",
       "  <tbody>\n",
       "    <tr>\n",
       "      <td>0</td>\n",
       "      <td>1</td>\n",
       "      <td>3</td>\n",
       "      <td>\\N</td>\n",
       "    </tr>\n",
       "    <tr>\n",
       "      <td>1</td>\n",
       "      <td>1</td>\n",
       "      <td>4</td>\n",
       "      <td>\\N</td>\n",
       "    </tr>\n",
       "    <tr>\n",
       "      <td>2</td>\n",
       "      <td>1</td>\n",
       "      <td>5</td>\n",
       "      <td>\\N</td>\n",
       "    </tr>\n",
       "    <tr>\n",
       "      <td>3</td>\n",
       "      <td>1</td>\n",
       "      <td>6</td>\n",
       "      <td>\\N</td>\n",
       "    </tr>\n",
       "    <tr>\n",
       "      <td>4</td>\n",
       "      <td>1</td>\n",
       "      <td>7</td>\n",
       "      <td>\\N</td>\n",
       "    </tr>\n",
       "  </tbody>\n",
       "</table>\n",
       "</div>"
      ],
      "text/plain": [
       "   from  to timestamp\n",
       "0     1   3        \\N\n",
       "1     1   4        \\N\n",
       "2     1   5        \\N\n",
       "3     1   6        \\N\n",
       "4     1   7        \\N"
      ]
     },
     "execution_count": 21,
     "metadata": {},
     "output_type": "execute_result"
    }
   ],
   "source": [
    "facebook_edges = pd.read_csv(\"facebook-links.txt\", sep='\\t')\n",
    "facebook_edges.columns = [\"from\", \"to\", \"timestamp\"]\n",
    "facebook_edges.head()"
   ]
  },
  {
   "cell_type": "code",
   "execution_count": 22,
   "metadata": {},
   "outputs": [],
   "source": [
    "facebook_graph = nx.convert_matrix.from_pandas_edgelist(\n",
    "    facebook_edges, \"from\", \"to\")"
   ]
  },
  {
   "cell_type": "code",
   "execution_count": 23,
   "metadata": {},
   "outputs": [],
   "source": [
    "assert len(facebook_graph.nodes()) == 63731\n",
    "assert len(facebook_graph.edges()) == 817090"
   ]
  },
  {
   "cell_type": "markdown",
   "metadata": {},
   "source": [
    "#### 4(a)\n",
    "rubric={accuracy:1,viz:1}\n",
    "\n",
    "Create a histogram of the node degrees in this graph. For example, how many nodes have degree 1, how many nodes have degree 2, etc. Make sure you use enough bins so you can see the general shape of things.\n",
    "\n",
    "Note: the `networkx` library can get you the [adjacency matrix](https://networkx.github.io/documentation/stable/reference/generated/networkx.linalg.graphmatrix.adjacency_matrix.html) of the graph, which may be useful here. \n",
    "\n",
    "Note: you should be learning the necessary Python plotting skills this week in DSCI 531. "
   ]
  },
  {
   "cell_type": "markdown",
   "metadata": {},
   "source": [
    ""
   ]
  },
  {
   "cell_type": "markdown",
   "metadata": {},
   "source": [
    "#### 4(b)\n",
    "rubric={accuracy:1}\n",
    "\n",
    "To summarize the histogram further, find the mean, median, and mode of the vertex degrees.\n",
    "\n",
    "Hint: If you haven't already, it is a good idea to create a numpy array containing the degree for each node. Depending on how you computed it, you may get a sparse matrix type or a [numpy matrix](https://docs.scipy.org/doc/numpy/reference/generated/numpy.matrix.html) type. You will likely want to convert it into a regular 1-dimensional `numpy.ndarray` before proceeding."
   ]
  },
  {
   "cell_type": "markdown",
   "metadata": {},
   "source": [
    ""
   ]
  },
  {
   "cell_type": "markdown",
   "metadata": {},
   "source": [
    "#### 4(c)\n",
    "rubric={reasoning:1}\n",
    "\n",
    "Although all nodes in this dataset have at least one friend, the graph is not _connected_; that is, for two nodes $A$ and $B$, there is not necessarily a path from $A$ to $B$. A subset of nodes that are connected is called a _connected component_. We can get the connected components as follows in networkx:"
   ]
  },
  {
   "cell_type": "code",
   "execution_count": 30,
   "metadata": {},
   "outputs": [],
   "source": [
    "components = nx.connected_components(facebook_graph)"
   ]
  },
  {
   "cell_type": "markdown",
   "metadata": {},
   "source": [
    "Look at the number of vertices in these connected components, and briefly discuss your results in the context of the social network."
   ]
  },
  {
   "cell_type": "markdown",
   "metadata": {},
   "source": [
    ""
   ]
  },
  {
   "cell_type": "markdown",
   "metadata": {},
   "source": [
    "#### (optional) 4(d)\n",
    "rubric={reasoning:1}\n",
    "\n",
    "Let's try to find the largest distance between and pair of nodes in the largest connected component of the Facebook graph. Earlier you wrote the `largest_distance` function that computes the largest distance between any pair of nodes. The time complexity of this function is $O(V^2)$ if there are $V$ vertices, which this is going to be too slow for this big graph (you are welcome to try it...). Can you try to approximate/estimate what this largest distance might be? \n",
    "\n",
    "Note: there are a lot of ways to approach this question!"
   ]
  },
  {
   "cell_type": "code",
   "execution_count": 41,
   "metadata": {},
   "outputs": [],
   "source": [
    "connected_components = nx.connected_components(facebook_graph)\n",
    "fb_largest_cc_nodes = next(connected_components)\n",
    "fb_largest_cc = facebook_graph.subgraph(fb_largest_cc_nodes).copy()"
   ]
  },
  {
   "cell_type": "markdown",
   "metadata": {},
   "source": [
    ""
   ]
  },
  {
   "cell_type": "markdown",
   "metadata": {
    "toc-hr-collapsed": true
   },
   "source": [
    "## Exercise 5: pondering sparse representations"
   ]
  },
  {
   "cell_type": "markdown",
   "metadata": {},
   "source": [
    "#### 5(a)\n",
    "rubric={reasoning:1}\n",
    "\n",
    "What is the space complexity of an adjacency matrix stored as a dense matrix, as a function of the number of vertices $V$ and/or the number of edges $E$? "
   ]
  },
  {
   "cell_type": "markdown",
   "metadata": {},
   "source": [
    ""
   ]
  },
  {
   "cell_type": "markdown",
   "metadata": {},
   "source": [
    "#### 5(b)\n",
    "rubric={reasoning:1}\n",
    "\n",
    "According to the documentation, NetworkX returns the adjacency matrix as a SciPy sparse matrix. What is the space complexity of this sparse adjacency matrix, as a function of the number of vertices $V$ and/or the number of edges $E$? "
   ]
  },
  {
   "cell_type": "markdown",
   "metadata": {},
   "source": [
    ""
   ]
  },
  {
   "cell_type": "markdown",
   "metadata": {},
   "source": [
    "#### 5(c)\n",
    "rubric={reasoning:1}\n",
    "\n",
    "The code below measures the storage usage for the adjacency matrix of the Romeo and Juliet data. Are they what you expcted? Note that each stored number typically takes up 8 bytes (64 bits), though on some systems they may only be 4 bytes (32 bits). More in this in DSCI 572."
   ]
  },
  {
   "cell_type": "code",
   "execution_count": 44,
   "metadata": {},
   "outputs": [
    {
     "name": "stdout",
     "output_type": "stream",
     "text": [
      "Size of sparse matrix: 272 bytes\n",
      "Size of dense  matrix: 968 bytes\n"
     ]
    }
   ],
   "source": [
    "sparse_matrix = nx.adjacency_matrix(rj)\n",
    "dense_matrix = sparse_matrix.toarray()\n",
    "\n",
    "print(\"Size of sparse matrix:\", sparse_matrix.data.nbytes, \"bytes\")\n",
    "\n",
    "print(\"Size of dense  matrix:\", dense_matrix.nbytes, \"bytes\")"
   ]
  },
  {
   "cell_type": "markdown",
   "metadata": {},
   "source": [
    ""
   ]
  },
  {
   "cell_type": "markdown",
   "metadata": {},
   "source": [
    "#### 5(d)\n",
    "rubric={reasoning:1}\n",
    "\n",
    "How many bytes do you think the dense form of the Facebook adjacency matrix would take, if each element takes 8 bytes? (If you try it, you may well run out of memory)."
   ]
  },
  {
   "cell_type": "markdown",
   "metadata": {},
   "source": [
    ""
   ]
  },
  {
   "cell_type": "markdown",
   "metadata": {},
   "source": [
    "## (optional) Exercise 6: assessing virality\n",
    "rubric={reasoning:1}\n",
    "\n",
    "Everyone wants their video or app to \"go viral\". This can occur by something spreading through a social network. Here, we will model virality as follows: \n",
    "\n",
    "1. pick some virality coefficient $\\xi\\in (0,1)$\n",
    "2. select one person (node) at random to be initially \"infected\"\n",
    "3. each currently infected person loses interest with probability $\\alpha$ and becomes _permanently_ un-infected. By default we'll use $\\alpha=0.01$.\n",
    "4. for each infected person, each neighbour in the graph becomes infected with probability $\\xi$. Note: if multiple neighbours of an un-infected node are infected, repeat this step multiple times. For example, if Mercutio and Paris like _Gangnam Style_, then Escalus has two chances of being infected at the current time step. Mathematically, the probability of infection is $1-(1-\\xi)^2 = 2\\xi-\\xi^2$, but you don't need to calculate this in your code because you can just repeatedly try to infect the person.\n",
    "5. repeat steps 3-4 some number of times, by default $1000$. \n",
    "\n",
    "Write a function implementing this model. Your function should return a list/array of the proportion of people infected at each iteration. Using the Facebook data set (or a subgraph if the code is too slow), explore some or all of the following questions:\n",
    "\n",
    "1. Investigate how the number of infected people proceeds as a function of time: what is the general shape you observe? Is it consistent across runs of the simulation?\n",
    "2. Report the _maximum_ proportion of your population that was infected at any given time. Try this for a couple values of $\\xi$ and investigate how the maximum proportion of infected people depends on $\\xi$. Note: For a given value of $\\xi$ you will need to run several simulations and average the results to reduce noise. \n",
    "3. Do your results depend significantly on the connectivity of the graph? For example, if you randomly remove half of the edges in the Facebook graph (be careful not to delete any vertices in the process!), what is the effect on the virality? \n",
    "\n",
    "Note: this model for virality is similar to rudimentary models of how diseases spread across populations. See [here](https://en.wikipedia.org/wiki/Mathematical_modelling_of_infectious_disease#The_SIR_model)."
   ]
  },
  {
   "cell_type": "markdown",
   "metadata": {},
   "source": [
    ""
   ]
  },
  {
   "cell_type": "markdown",
   "metadata": {},
   "source": [
    "## Exercise 7: generators\n",
    "rubric={accuracy:1,quality:1}\n",
    "\n",
    "Write a generator `gen_cumulative_sum` that takes in a list/array of numbers and, at each iteration, yields the cumulative sum of the numbers from the beginning up to that point in the list."
   ]
  },
  {
   "cell_type": "code",
   "execution_count": 55,
   "metadata": {},
   "outputs": [],
   "source": [
    ""
   ]
  },
  {
   "cell_type": "code",
   "execution_count": 56,
   "metadata": {},
   "outputs": [],
   "source": [
    "test_nums = [1, 2, 3, 4, 5]\n",
    "\n",
    "gen = gen_cumulative_sum(test_nums)\n",
    "assert np.array_equal(list(gen), np.cumsum(test_nums))"
   ]
  },
  {
   "cell_type": "code",
   "execution_count": 57,
   "metadata": {},
   "outputs": [],
   "source": [
    "gen = gen_cumulative_sum(test_nums)\n",
    "assert next(gen) == 1\n",
    "assert next(gen) == 3\n",
    "assert next(gen) == 6\n",
    "assert next(gen) == 10\n",
    "assert next(gen) == 15"
   ]
  },
  {
   "cell_type": "code",
   "execution_count": 58,
   "metadata": {},
   "outputs": [
    {
     "ename": "StopIteration",
     "evalue": "",
     "output_type": "error",
     "traceback": [
      "\u001b[0;31m---------------------------------------------------------------------------\u001b[0m",
      "\u001b[0;31mStopIteration\u001b[0m                             Traceback (most recent call last)",
      "\u001b[0;32m<ipython-input-58-5f80f29f40bb>\u001b[0m in \u001b[0;36m<module>\u001b[0;34m\u001b[0m\n\u001b[0;32m----> 1\u001b[0;31m \u001b[0mnext\u001b[0m\u001b[0;34m(\u001b[0m\u001b[0mgen\u001b[0m\u001b[0;34m)\u001b[0m  \u001b[0;31m# should raise an Exception\u001b[0m\u001b[0;34m\u001b[0m\u001b[0;34m\u001b[0m\u001b[0m\n\u001b[0m",
      "\u001b[0;31mStopIteration\u001b[0m: "
     ]
    }
   ],
   "source": [
    "next(gen)  # should raise an Exception"
   ]
  },
  {
   "cell_type": "markdown",
   "metadata": {},
   "source": [
    "## Exercise 8: map/reduce\n",
    "rubric={accuracy:2,quality:1}\n",
    "\n",
    "Write a function `commonLetters` that takes in a list of strings, converts the strings to lower case and finds all the characters that are present in _all_ the strings. Your function should return the result as a Python `set` of characters. Your function must use Python's `map` and `reduce` functions for the heavy lifting - no loops, recursion, or other trickery! You must also write at least 3 tests for your function, in addition to the test provided.\n",
    "\n",
    "Some potentially helpful functions:\n",
    "\n",
    "- You can convert a string `s` to lower case with [`s.lower()`](https://docs.python.org/3/library/stdtypes.html#str.lower).\n",
    "- You can find the intersection (common elements) between two sets `a` and `b` with [`a.intersection(b)`](https://docs.python.org/3.7/library/stdtypes.html#frozenset.intersection), or `a & b` for short."
   ]
  },
  {
   "cell_type": "code",
   "execution_count": 59,
   "metadata": {},
   "outputs": [
    {
     "data": {
      "text/plain": [
       "'blah blah i am saying stuff'"
      ]
     },
     "execution_count": 59,
     "metadata": {},
     "output_type": "execute_result"
    }
   ],
   "source": [
    "# Provided example code\n",
    "s = \"BLAH blah I am sayIng Stuff\"\n",
    "s.lower()"
   ]
  },
  {
   "cell_type": "code",
   "execution_count": 60,
   "metadata": {},
   "outputs": [
    {
     "data": {
      "text/plain": [
       "{99, 'b', 'c'}"
      ]
     },
     "execution_count": 60,
     "metadata": {},
     "output_type": "execute_result"
    }
   ],
   "source": [
    "set1 = {'a', 'b', 'c', 99}\n",
    "set2 = {'b', 'c', 'd', 99}\n",
    "set1.intersection(set2)"
   ]
  },
  {
   "cell_type": "code",
   "execution_count": 61,
   "metadata": {},
   "outputs": [],
   "source": [
    ""
   ]
  },
  {
   "cell_type": "code",
   "execution_count": 62,
   "metadata": {},
   "outputs": [],
   "source": [
    "# provided code\n",
    "assert commonLetters([\"abc\", \"ABC\", \"AbCdE\", \"the quick brown fox jumped over the lazy dog\",\n",
    "                      \"abraham lincoln\", \"abracadabra\", \"chEEs3\"]) == {'c'}"
   ]
  },
  {
   "cell_type": "code",
   "execution_count": 63,
   "metadata": {},
   "outputs": [],
   "source": [
    ""
   ]
  },
  {
   "cell_type": "markdown",
   "metadata": {},
   "source": [
    "Attribution: Exercises 1-4 adapted with permission of the instructor from the University of Washington's CSE 140: https://courses.cs.washington.edu/courses/cse140/13wi/homework/hw4/homework4.html."
   ]
  }
 ],
 "metadata": {
  "anaconda-cloud": {},
  "kernelspec": {
   "display_name": "Python 3",
   "language": "python",
   "name": "python3"
  },
  "language_info": {
   "codemirror_mode": {
    "name": "ipython",
    "version": 3
   },
   "file_extension": ".py",
   "mimetype": "text/x-python",
   "name": "python",
   "nbconvert_exporter": "python",
   "pygments_lexer": "ipython3",
   "version": "3.7.4"
  }
 },
 "nbformat": 4,
 "nbformat_minor": 4
}
