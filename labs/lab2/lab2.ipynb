{
 "cells": [
  {
   "cell_type": "markdown",
   "metadata": {},
   "source": [
    "# DSCI 512 Lab 2"
   ]
  },
  {
   "cell_type": "code",
   "execution_count": 1,
   "metadata": {},
   "outputs": [],
   "source": [
    "from collections import defaultdict\n",
    "import numpy as np\n",
    "import pandas as pd\n",
    "import matplotlib.pyplot as plt\n",
    "%matplotlib inline"
   ]
  },
  {
   "cell_type": "markdown",
   "metadata": {},
   "source": [
    "### Instructions\n",
    "rubric={mechanics:3}\n",
    "\n",
    "Follow the [general lab instructions](https://ubc-mds.github.io/resources_pages/general_lab_instructions/)."
   ]
  },
  {
   "cell_type": "markdown",
   "metadata": {},
   "source": [
    "## Exercise 1: time complexity of recursive functions\n",
    "\n",
    "For each of the following recursive functions, determine the time complexity as a function of the input $n$ and briefly justify your answer. "
   ]
  },
  {
   "cell_type": "markdown",
   "metadata": {},
   "source": [
    "#### 1.1\n",
    "rubric={reasoning:3}"
   ]
  },
  {
   "cell_type": "code",
   "execution_count": null,
   "metadata": {},
   "outputs": [],
   "source": [
    "def titled(n):\n",
    "    if n >= 0:\n",
    "        print('n: ', n)\n",
    "        return titled(n-1)\n",
    "    else:\n",
    "        return \"sandwich\""
   ]
  },
  {
   "cell_type": "code",
   "execution_count": null,
   "metadata": {},
   "outputs": [],
   "source": [
    "titled(15)"
   ]
  },
  {
   "cell_type": "markdown",
   "metadata": {
    "toc-hr-collapsed": true
   },
   "source": []
  },
  {
   "cell_type": "markdown",
   "metadata": {},
   "source": [
    "#### 1.2\n",
    "rubric={reasoning:3}"
   ]
  },
  {
   "cell_type": "code",
   "execution_count": null,
   "metadata": {},
   "outputs": [],
   "source": [
    "def untitled(n):\n",
    "    if n < 0:\n",
    "        return \"sandwich\"\n",
    "    else:\n",
    "        print('n: ', n)\n",
    "        return untitled(n-2)"
   ]
  },
  {
   "cell_type": "code",
   "execution_count": null,
   "metadata": {},
   "outputs": [],
   "source": [
    "untitled(8)"
   ]
  },
  {
   "cell_type": "markdown",
   "metadata": {
    "toc-hr-collapsed": true
   },
   "source": []
  },
  {
   "cell_type": "markdown",
   "metadata": {},
   "source": [
    "#### 1.3\n",
    "rubric={reasoning:3}"
   ]
  },
  {
   "cell_type": "code",
   "execution_count": null,
   "metadata": {},
   "outputs": [],
   "source": [
    "def does_nothing(n):\n",
    "    print('n:', n)\n",
    "    if n == 0:\n",
    "        return\n",
    "    does_nothing(n-1)\n",
    "    does_nothing(n-1)"
   ]
  },
  {
   "cell_type": "code",
   "execution_count": null,
   "metadata": {},
   "outputs": [],
   "source": [
    "does_nothing(3)"
   ]
  },
  {
   "cell_type": "markdown",
   "metadata": {
    "toc-hr-collapsed": true
   },
   "source": []
  },
  {
   "cell_type": "markdown",
   "metadata": {},
   "source": [
    "#### 1.4\n",
    "rubric={reasoning:3}"
   ]
  },
  {
   "cell_type": "code",
   "execution_count": null,
   "metadata": {},
   "outputs": [],
   "source": [
    "def does_nothing_more_slowly(n):\n",
    "    print(n)\n",
    "    if n == 0:\n",
    "        return\n",
    "    does_nothing_more_slowly(n-1)\n",
    "    does_nothing_more_slowly(n-1)\n",
    "    does_nothing_more_slowly(n-1)"
   ]
  },
  {
   "cell_type": "code",
   "execution_count": null,
   "metadata": {},
   "outputs": [],
   "source": [
    "does_nothing_more_slowly(3)"
   ]
  },
  {
   "cell_type": "markdown",
   "metadata": {
    "toc-hr-collapsed": true
   },
   "source": []
  },
  {
   "cell_type": "markdown",
   "metadata": {},
   "source": [
    "#### (optional) 1.5\n",
    "rubric={reasoning:1}"
   ]
  },
  {
   "cell_type": "code",
   "execution_count": null,
   "metadata": {},
   "outputs": [],
   "source": [
    "def looprec(n):\n",
    "    print(\"Hello!\")\n",
    "    print('N: ', n)\n",
    "    for i in range(n):\n",
    "        looprec(n-1)"
   ]
  },
  {
   "cell_type": "code",
   "execution_count": null,
   "metadata": {},
   "outputs": [],
   "source": [
    "looprec(3)"
   ]
  },
  {
   "cell_type": "markdown",
   "metadata": {
    "toc-hr-collapsed": true
   },
   "source": []
  },
  {
   "cell_type": "markdown",
   "metadata": {},
   "source": [
    "#### (optional) 1.6\n",
    "rubric={reasoning:1}\n",
    "\n",
    "In this exercise, determine the **space** complexity of `hello` in terms of $n$."
   ]
  },
  {
   "cell_type": "code",
   "execution_count": null,
   "metadata": {},
   "outputs": [],
   "source": [
    "def hello(n):\n",
    "    if n == 0:\n",
    "        return 1\n",
    "    return hello(n-1) + hello(n-1)"
   ]
  },
  {
   "cell_type": "code",
   "execution_count": null,
   "metadata": {},
   "outputs": [],
   "source": [
    "hello(4)"
   ]
  },
  {
   "cell_type": "markdown",
   "metadata": {},
   "source": []
  },
  {
   "cell_type": "markdown",
   "metadata": {},
   "source": [
    "## Exercise 2: recursive sum\n",
    "rubric={accuracy:3,quality:3}\n",
    "\n",
    "Write a recursive function `rec_sum` that takes in a list and sums up the elements in the list. If the list is empty, it should return `None`. No loops, `sum`, or numpy operations allowed! And, as usual, a docstring is required."
   ]
  },
  {
   "cell_type": "code",
   "execution_count": 2,
   "metadata": {},
   "outputs": [],
   "source": []
  },
  {
   "cell_type": "code",
   "execution_count": 3,
   "metadata": {},
   "outputs": [],
   "source": [
    "# An empty list\n",
    "assert rec_sum([]) is None\n",
    "\n",
    "# A list with one element\n",
    "assert rec_sum([32]) == 32\n",
    "\n",
    "# A list with all positive numbers\n",
    "assert rec_sum([1, 2, 3, 4, 5]) == 15\n",
    "\n",
    "# A list with negative numbers\n",
    "assert rec_sum([1, 2, 3, 4, -5]) == 5\n",
    "\n",
    "# Add/append strings. The meaning of + in the context of strings is 'append'.\n",
    "assert rec_sum(['I ', 'like ', 'recursion.']) == 'I like recursion.'"
   ]
  },
  {
   "cell_type": "markdown",
   "metadata": {},
   "source": [
    "## (optional) Exercise 3: recursive graphics\n",
    "rubric={accuracy:1,reasoning:1}\n",
    "\n",
    "In this exercise you will use recursion to draw the Sierpinski triangle. An image of one such triangle is shown below.\n",
    "\n",
    "<img width=\"600\" height=\"600\" src=\"sierpinski_6_smaller.png\">\n",
    "\n",
    "To help you do this, we are providing some code in the cell below. The `draw_triangle` function draws a triangle for you. When you are done calling `draw_triangle` as many times as you wish, call `show_triangles` once to render the image nicely. **You do not need to understand how the code below works. You only need to understand how to use it.** In other words, read the docstrings, but you don't need to read the code inside the functions."
   ]
  },
  {
   "cell_type": "code",
   "execution_count": 4,
   "metadata": {},
   "outputs": [
    {
     "data": {
      "image/png": "[encoded data removed]",
      "text/plain": [
       "<Figure size 720x619.2 with 1 Axes>"
      ]
     },
     "metadata": {},
     "output_type": "display_data"
    }
   ],
   "source": [
    "def draw_triangle(x, y, side):\n",
    "    \"\"\"\n",
    "    Draw an equilateral triangle at (x,y) with side length `side`.\n",
    "\n",
    "    Parameters:\n",
    "    -----------\n",
    "    x : float\n",
    "        the x-coordinate of the *midpoint* of the triangle base\n",
    "    y : float\n",
    "        the y-coordinate of the *base* of the triangle\n",
    "    side : float\n",
    "        the length of each side of the triangle\n",
    "    \"\"\"\n",
    "    height = np.sqrt(3)*side/2\n",
    "    plt.plot([x-side/2.0, x+side/2.0, x, x-side/2.0], [y, y, y+height, y], 'k')\n",
    "\n",
    "\n",
    "def show_triangles(save=False):\n",
    "    \"\"\"\n",
    "    Make the Sierpinski triangle image look pretty.\n",
    "\n",
    "    Parameters:\n",
    "    -----------\n",
    "    save : bool, optional\n",
    "        Whether or not to save the image to a file (default: False).\n",
    "    \"\"\"\n",
    "    plt.gcf().set_size_inches(10, 8.6)\n",
    "    plt.axis('scaled')\n",
    "    plt.axis('off')\n",
    "    plt.tick_params(labelbottom=False, labelleft=False)\n",
    "    if save:\n",
    "        plt.tight_layout()\n",
    "        plt.savefig('sierpinski.png')\n",
    "    plt.show()\n",
    "\n",
    "draw_triangle(0, 0, 1)  # example: a single triangle (depth=1)\n",
    "show_triangles()        # show the triangle"
   ]
  },
  {
   "cell_type": "markdown",
   "metadata": {},
   "source": [
    "Another example is given below: a Sierpinski triangle with depth 2, drawn without using recursion but just by calling `draw_triangles` 3 times. The point of this is that we provide you with (most of) the geometry, so you can focus on recursion and be less likely to get stuck on the geometry aspects."
   ]
  },
  {
   "cell_type": "code",
   "execution_count": 5,
   "metadata": {},
   "outputs": [
    {
     "data": {
      "image/png": "[encoded data removed]",
      "text/plain": [
       "<Figure size 720x619.2 with 1 Axes>"
      ]
     },
     "metadata": {},
     "output_type": "display_data"
    }
   ],
   "source": [
    "draw_triangle(-0.25, 0, 0.5)\n",
    "draw_triangle(+0.25, 0, 0.5)\n",
    "draw_triangle(0, (0.5*(np.sqrt(3)/2)), 0.5)\n",
    "show_triangles()"
   ]
  },
  {
   "cell_type": "markdown",
   "metadata": {},
   "source": [
    "Your tasks are as follows:\n",
    "\n",
    "1. Write a recursive function `sierpinski` that takes four arguments: the coordinates `x` and `y`, the side length of the outermost triangle, `size`, and the depth `n`. Then, use your function to reproduce the figure above of the Sierpinski triangle with depth 7. Note: your code should only call `show_triangles` once, outside the recursive function (**not** within the recursive function)\n",
    "2. Spend a few minutes contemplating how you would implement this without recursion. Once you have reached a sufficiently hopeless state of mind, record your thoughts here as part of your submission.\n",
    "3. What is the big-O running time of your code, as a function of $n$?"
   ]
  },
  {
   "cell_type": "code",
   "execution_count": 7,
   "metadata": {},
   "outputs": [
    {
     "data": {
      "image/png": "[encoded data removed]",
      "text/plain": [
       "<Figure size 720x619.2 with 1 Axes>"
      ]
     },
     "metadata": {},
     "output_type": "display_data"
    }
   ],
   "source": []
  },
  {
   "cell_type": "markdown",
   "metadata": {},
   "source": [
    "## (optional) Exercise 4: tricky recursive code\n",
    "rubric={reasoning:1}\n",
    "\n",
    "Explain what the following code does, and how it works:"
   ]
  },
  {
   "cell_type": "code",
   "execution_count": 8,
   "metadata": {},
   "outputs": [],
   "source": [
    "def f(letters, n):\n",
    "    \"\"\"\n",
    "    Does something mysterious.\n",
    "\n",
    "    Parameters\n",
    "    ----------\n",
    "    letters : str \n",
    "        ?????\n",
    "    n : int \n",
    "        ?????\n",
    "\n",
    "    Returns\n",
    "    -------\n",
    "    ??? \n",
    "        ?????   \n",
    "\n",
    "    \"\"\"\n",
    "\n",
    "    if n == 0:\n",
    "        return [\"\"]\n",
    "\n",
    "    return [letter + l for letter in letters for l in f(letters, n-1)]"
   ]
  },
  {
   "cell_type": "code",
   "execution_count": null,
   "metadata": {},
   "outputs": [],
   "source": [
    "f(\"MDS!\", 1)"
   ]
  },
  {
   "cell_type": "markdown",
   "metadata": {},
   "source": []
  },
  {
   "cell_type": "markdown",
   "metadata": {},
   "source": [
    "## Exercise 5: Set implementation with BSTs\n",
    "\n",
    "In this exercise, you will implement a set data structure based on a binary search tree. You will write the tree as a Python class. We are providing some starter code for you below. "
   ]
  },
  {
   "cell_type": "markdown",
   "metadata": {},
   "source": [
    "#### 5(a)\n",
    "rubric={accuracy:4,quality:4}\n",
    "\n",
    "Implement the `insert` and `contains` functions in the `TreeSet` class:\n",
    "\n",
    "1. Write a recursive function `insert` that takes your tree and a new element, and inserts it into the tree. Your function should work be recursively calling `insert` on the left or right subtree depending on whether the new value is greater than or less than the root value. If the element is already in the tree, then the call to `insert` should do nothing. \n",
    "2. Write a recursive function `contains` that takes your tree and a query, and checks whether that element is present in the tree. If present, it should return `True` and otherwise `False`. Your function should work by recursively calling `contains` on the left or right subtree, depending on whether the query value is greater than or less than the root value."
   ]
  },
  {
   "cell_type": "code",
   "execution_count": 10,
   "metadata": {},
   "outputs": [],
   "source": [
    "class TreeSet:\n",
    "    \"\"\"\n",
    "    A set implementation based on a binary tree.\n",
    "    \"\"\"\n",
    "\n",
    "    def __init__(self):\n",
    "        self.value = None\n",
    "        self.left = None\n",
    "        self.right = None\n",
    "\n",
    "    \n",
    "    \n",
    "    def __str__(self, s=\"\"):\n",
    "        \"\"\"\n",
    "        A crude way to print the tree. A better way would be to print the tree by depth. \n",
    "\n",
    "        Note: __str__ is a special method, like __init__, that returns a string representation of an object.\n",
    "\n",
    "        Parameters\n",
    "        ----------\n",
    "        s : str\n",
    "           the starting string value. Default is empty string\n",
    "\n",
    "        Returns\n",
    "        -------\n",
    "        str \n",
    "            aggregated items in the set\n",
    "\n",
    "        Example\n",
    "        --------\n",
    "        >>> my_set = TreeSet() \n",
    "        >>> my_set.insert(\"Try\")\n",
    "        >>> my_set.insert(\"your\")\n",
    "        >>> my_set.insert(\"best\")\n",
    "        >>> print(my_set)\n",
    "        Try, your, best,\n",
    "        \"\"\"\n",
    "\n",
    "        if self.value is None:\n",
    "            return \"(An empty tree)\"\n",
    "\n",
    "        s += self.value + \", \"\n",
    "\n",
    "        if self.right is not None:\n",
    "            s += self.right.__str__()\n",
    "\n",
    "        if self.left is not None:\n",
    "            s += self.left.__str__()\n",
    "\n",
    "        return s"
   ]
  },
  {
   "cell_type": "code",
   "execution_count": 11,
   "metadata": {},
   "outputs": [
    {
     "name": "stdout",
     "output_type": "stream",
     "text": [
      "today, hello, jerry, data science, apple, 17, \n"
     ]
    }
   ],
   "source": [
    "my_set = TreeSet()\n",
    "my_set.insert(\"today\")\n",
    "my_set.insert(\"hello\")\n",
    "my_set.insert(\"data science\")\n",
    "my_set.insert(\"jerry\")\n",
    "my_set.insert(\"apple\")\n",
    "my_set.insert(\"17\")\n",
    "my_set.insert(\"hello\")\n",
    "print(my_set)"
   ]
  },
  {
   "cell_type": "code",
   "execution_count": 12,
   "metadata": {},
   "outputs": [],
   "source": [
    "assert my_set.contains(\"data science\")\n",
    "assert my_set.contains(\"apple\")\n",
    "assert not my_set.contains(\"18\")\n",
    "assert not my_set.contains(\"blah\")"
   ]
  },
  {
   "cell_type": "markdown",
   "metadata": {},
   "source": [
    "#### 5(b)\n",
    "rubric={accuracy:3}\n",
    "\n",
    "In lecture 2, we empirically timed the searching operation using four approaches:\n",
    "\n",
    "1. Linear search on an unsorted list\n",
    "2. Binary search on an sorted list\n",
    "3. Python's `in` operator on an uns orted list\n",
    "4. `in` with Python's built-in `set`\n",
    "\n",
    "The code from lecture, for just Python's `set`, is reproduced below for your convenience:"
   ]
  },
  {
   "cell_type": "code",
   "execution_count": 13,
   "metadata": {},
   "outputs": [
    {
     "name": "stdout",
     "output_type": "stream",
     "text": [
      "List size:  100\n",
      "List size:  1000\n",
      "List size:  10000\n",
      "List size:  100000\n",
      "List size:  1000000\n"
     ]
    }
   ],
   "source": [
    "list_sizes = [100, 1000, 10_000, 100_000, 1_000_000]\n",
    "\n",
    "results = defaultdict(list)\n",
    "results[\"size\"] = list_sizes\n",
    "\n",
    "key = -1\n",
    "\n",
    "for list_size in list_sizes:\n",
    "    print('List size: ', list_size)\n",
    "    x = np.random.randint(1e8, size=list_size)\n",
    "\n",
    "    x_set = set(x)\n",
    "    time = %timeit -q -o -r 1 (key in x_set)\n",
    "    results[\"Python set in\"].append(time.average)"
   ]
  },
  {
   "cell_type": "code",
   "execution_count": 14,
   "metadata": {},
   "outputs": [
    {
     "data": {
      "text/html": [
       "<div>\n",
       "<style scoped>\n",
       "    .dataframe tbody tr th:only-of-type {\n",
       "        vertical-align: middle;\n",
       "    }\n",
       "\n",
       "    .dataframe tbody tr th {\n",
       "        vertical-align: top;\n",
       "    }\n",
       "\n",
       "    .dataframe thead th {\n",
       "        text-align: right;\n",
       "    }\n",
       "</style>\n",
       "<table border=\"1\" class=\"dataframe\">\n",
       "  <thead>\n",
       "    <tr style=\"text-align: right;\">\n",
       "      <th></th>\n",
       "      <th>size</th>\n",
       "      <th>Python set in</th>\n",
       "    </tr>\n",
       "  </thead>\n",
       "  <tbody>\n",
       "    <tr>\n",
       "      <td>0</td>\n",
       "      <td>100</td>\n",
       "      <td>5.764879e-08</td>\n",
       "    </tr>\n",
       "    <tr>\n",
       "      <td>1</td>\n",
       "      <td>1000</td>\n",
       "      <td>6.288451e-08</td>\n",
       "    </tr>\n",
       "    <tr>\n",
       "      <td>2</td>\n",
       "      <td>10000</td>\n",
       "      <td>6.399038e-08</td>\n",
       "    </tr>\n",
       "    <tr>\n",
       "      <td>3</td>\n",
       "      <td>100000</td>\n",
       "      <td>5.807562e-08</td>\n",
       "    </tr>\n",
       "    <tr>\n",
       "      <td>4</td>\n",
       "      <td>1000000</td>\n",
       "      <td>6.491792e-08</td>\n",
       "    </tr>\n",
       "  </tbody>\n",
       "</table>\n",
       "</div>"
      ],
      "text/plain": [
       "      size  Python set in\n",
       "0      100   5.764879e-08\n",
       "1     1000   6.288451e-08\n",
       "2    10000   6.399038e-08\n",
       "3   100000   5.807562e-08\n",
       "4  1000000   6.491792e-08"
      ]
     },
     "execution_count": 14,
     "metadata": {},
     "output_type": "execute_result"
    }
   ],
   "source": [
    "df = pd.DataFrame(results, columns=list(results.keys()))\n",
    "df"
   ]
  },
  {
   "cell_type": "markdown",
   "metadata": {},
   "source": [
    "Empirically measure the speed of `contains` with your `TreeSet` implementation, and then add them to the DataFrame for printing. Print out the DataFrame.\n",
    "\n",
    "(Note: for reasons of speed, we only go up to $n=10^6$ here. Populating the `TreeSet` objects with $10^7$ items would take a long time."
   ]
  },
  {
   "cell_type": "code",
   "execution_count": null,
   "metadata": {},
   "outputs": [],
   "source": [
    "df = pd.DataFrame(results, columns=list(results.keys()))\n",
    "df"
   ]
  },
  {
   "cell_type": "markdown",
   "metadata": {},
   "source": [
    "#### 5(c)\n",
    "rubric={reasoning:5}\n",
    "\n",
    "Discuss your results from the previous part. How do Python's `set` and your `TreeSet` compare? Specifically:\n",
    "\n",
    "- Which method is faster?\n",
    "- What is the theoretical time complexity of `in` with a `set`, and `contains` with a `TreeSet`?\n",
    "- Are the empirical results consistent with the theoretical time complexities?\n",
    "- Are the results what you expected, overall?"
   ]
  },
  {
   "cell_type": "markdown",
   "metadata": {},
   "source": []
  },
  {
   "cell_type": "markdown",
   "metadata": {},
   "source": [
    "#### (optional) 5(d)\n",
    "rubric={reasoning:1}\n",
    "\n",
    "Now, also time the `insert` function from `TreeSet` and compare it to the speed of `add` from Python's `set`. This time, $n$ is **not** the number of elements we are inserting. Rather, you are measuring the speed of inserting _one_ value into the set, and $n$ is the current size of the set before insertion. \n",
    "\n",
    "Note: you'll have to be a bit careful setting this up. If you repeatedly insert the same value into the set, is the experiment valid?\n",
    "\n",
    "Discuss the results."
   ]
  }
 ],
 "metadata": {
  "anaconda-cloud": {},
  "kernelspec": {
   "display_name": "Python 3",
   "language": "python",
   "name": "python3"
  },
  "language_info": {
   "codemirror_mode": {
    "name": "ipython",
    "version": 3
   },
   "file_extension": ".py",
   "mimetype": "text/x-python",
   "name": "python",
   "nbconvert_exporter": "python",
   "pygments_lexer": "ipython3",
   "version": "3.7.4"
  }
 },
 "nbformat": 4,
 "nbformat_minor": 4
}
