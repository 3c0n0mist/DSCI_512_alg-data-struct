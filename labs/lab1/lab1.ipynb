{
 "cells": [
  {
   "cell_type": "markdown",
   "metadata": {},
   "source": [
    "# DSCI 512 Lab 1"
   ]
  },
  {
   "cell_type": "code",
   "execution_count": 1,
   "metadata": {},
   "outputs": [],
   "source": [
    "from collections import defaultdict, Counter\n",
    "import urllib.request\n",
    "import numpy as np\n",
    "import matplotlib.pyplot as plt\n",
    "%matplotlib inline"
   ]
  },
  {
   "cell_type": "markdown",
   "metadata": {},
   "source": [
    "## Instructions\n",
    "rubric={mechanics:3}\n",
    "\n",
    "Follow the [general lab instructions](https://ubc-mds.github.io/resources_pages/general_lab_instructions/)."
   ]
  },
  {
   "cell_type": "markdown",
   "metadata": {},
   "source": [
    "## Exercise 1: time complexity\n",
    "\n",
    "For each of the following functions, determine the time complexity as a function of the input $n$ using big-O notation and briefly justify your answer. If you get stuck, it's fair game to test things empirically and then try to understand what you observe. **Please state your assumptions if you don’t know how long some operation in Python takes.** \n",
    "\n",
    "The first question is done for you, as an example."
   ]
  },
  {
   "cell_type": "code",
   "execution_count": 2,
   "metadata": {},
   "outputs": [],
   "source": [
    "def example(n):\n",
    "    for i in range(n):\n",
    "        print(i)\n",
    "        print(i**2)\n",
    "        x = 9\n",
    "        y = 10"
   ]
  },
  {
   "cell_type": "code",
   "execution_count": 3,
   "metadata": {},
   "outputs": [
    {
     "name": "stdout",
     "output_type": "stream",
     "text": [
      "0\n",
      "0\n",
      "1\n",
      "1\n",
      "2\n",
      "4\n",
      "3\n",
      "9\n",
      "4\n",
      "16\n"
     ]
    }
   ],
   "source": [
    "example(5)"
   ]
  },
  {
   "cell_type": "markdown",
   "metadata": {},
   "source": [
    "**Sample answer**: The time complexity of `example` is  $O(n)$ because the function loops over $n$ elements and only performs constant-time operations inside the loop. "
   ]
  },
  {
   "cell_type": "markdown",
   "metadata": {},
   "source": [
    "#### 1.1\n",
    "rubric={reasoning:3}"
   ]
  },
  {
   "cell_type": "code",
   "execution_count": null,
   "metadata": {},
   "outputs": [],
   "source": [
    "def loopy(n):\n",
    "    for i in range(n):\n",
    "        for j in range(n):\n",
    "            print('i =', i, '  j =', j)"
   ]
  },
  {
   "cell_type": "code",
   "execution_count": null,
   "metadata": {},
   "outputs": [],
   "source": [
    "loopy(4)"
   ]
  },
  {
   "cell_type": "markdown",
   "metadata": {},
   "source": []
  },
  {
   "cell_type": "markdown",
   "metadata": {},
   "source": [
    "#### 1.2\n",
    "rubric={reasoning:3}"
   ]
  },
  {
   "cell_type": "code",
   "execution_count": null,
   "metadata": {},
   "outputs": [],
   "source": [
    "def triangle(n):\n",
    "    for i in range(n):\n",
    "        for j in range(i):\n",
    "            print(\"+\", end='')\n",
    "        print(\"\")"
   ]
  },
  {
   "cell_type": "code",
   "execution_count": null,
   "metadata": {},
   "outputs": [],
   "source": [
    "triangle(7)"
   ]
  },
  {
   "cell_type": "markdown",
   "metadata": {},
   "source": []
  },
  {
   "cell_type": "markdown",
   "metadata": {},
   "source": [
    "#### 1.3\n",
    "rubric={reasoning:3}"
   ]
  },
  {
   "cell_type": "code",
   "execution_count": null,
   "metadata": {},
   "outputs": [],
   "source": [
    "def foo(n):\n",
    "    x = np.zeros(n)\n",
    "    x = x + 1000\n",
    "    return x"
   ]
  },
  {
   "cell_type": "code",
   "execution_count": null,
   "metadata": {},
   "outputs": [],
   "source": [
    "print('size of x: ', len(foo(100000)))"
   ]
  },
  {
   "cell_type": "markdown",
   "metadata": {},
   "source": []
  },
  {
   "cell_type": "markdown",
   "metadata": {},
   "source": [
    "#### (optional) 1.4\n",
    "rubric={reasoning:1}"
   ]
  },
  {
   "cell_type": "code",
   "execution_count": null,
   "metadata": {},
   "outputs": [],
   "source": [
    "def bar(n):\n",
    "    x = np.zeros(1000)\n",
    "    x = x + n\n",
    "    return x"
   ]
  },
  {
   "cell_type": "code",
   "execution_count": null,
   "metadata": {},
   "outputs": [],
   "source": [
    "print('size of x: ', len(bar(100000)))"
   ]
  },
  {
   "cell_type": "markdown",
   "metadata": {},
   "source": []
  },
  {
   "cell_type": "markdown",
   "metadata": {},
   "source": [
    "#### 1.5\n",
    "rubric={reasoning:3}"
   ]
  },
  {
   "cell_type": "code",
   "execution_count": null,
   "metadata": {},
   "outputs": [],
   "source": [
    "def broken(n):\n",
    "    for i in range(n**2):\n",
    "        if i == n:\n",
    "            break  # \"break\" exits the innermost loop\n",
    "        print(i)"
   ]
  },
  {
   "cell_type": "code",
   "execution_count": null,
   "metadata": {},
   "outputs": [],
   "source": [
    "broken(4)"
   ]
  },
  {
   "cell_type": "markdown",
   "metadata": {},
   "source": []
  },
  {
   "cell_type": "markdown",
   "metadata": {},
   "source": [
    "#### 1.6\n",
    "rubric={reasoning:3}"
   ]
  },
  {
   "cell_type": "code",
   "execution_count": null,
   "metadata": {},
   "outputs": [],
   "source": [
    "def cabin(n):\n",
    "    i = n\n",
    "    while i > 1:\n",
    "        print('i = ', i)\n",
    "        i = i // 2  "
   ]
  },
  {
   "cell_type": "markdown",
   "metadata": {},
   "source": [
    "Note: the ``//`` operator performs integer division, meaning the result is rounded *down* to the nearest integer."
   ]
  },
  {
   "cell_type": "code",
   "execution_count": null,
   "metadata": {},
   "outputs": [],
   "source": [
    "cabin(2048)"
   ]
  },
  {
   "cell_type": "markdown",
   "metadata": {},
   "source": []
  },
  {
   "cell_type": "markdown",
   "metadata": {},
   "source": [
    "#### 1.7\n",
    "rubric={reasoning:3}"
   ]
  },
  {
   "cell_type": "code",
   "execution_count": null,
   "metadata": {},
   "outputs": [],
   "source": [
    "def cabin10(n):\n",
    "    i = n\n",
    "    while i > 1:\n",
    "        print('i = ', i)\n",
    "        i = i // 10"
   ]
  },
  {
   "cell_type": "code",
   "execution_count": null,
   "metadata": {},
   "outputs": [],
   "source": [
    "cabin10(2048)"
   ]
  },
  {
   "cell_type": "markdown",
   "metadata": {},
   "source": []
  },
  {
   "cell_type": "markdown",
   "metadata": {},
   "source": [
    "#### (optional) 1.8\n",
    "rubric={reasoning:1}"
   ]
  },
  {
   "cell_type": "code",
   "execution_count": null,
   "metadata": {},
   "outputs": [],
   "source": [
    "def log_cabin(n):\n",
    "    for i in range(n):\n",
    "        print('i = ', i)\n",
    "        for j in range(n//3):\n",
    "            print('j = ', j)\n",
    "            cabin(n)\n",
    "        print('-----------')"
   ]
  },
  {
   "cell_type": "code",
   "execution_count": null,
   "metadata": {},
   "outputs": [],
   "source": [
    "log_cabin(4)"
   ]
  },
  {
   "cell_type": "markdown",
   "metadata": {},
   "source": []
  },
  {
   "cell_type": "markdown",
   "metadata": {},
   "source": [
    "#### (optional) 1.9\n",
    "rubric={reasoning:1}"
   ]
  },
  {
   "cell_type": "code",
   "execution_count": null,
   "metadata": {},
   "outputs": [],
   "source": [
    "def oh_no(n):\n",
    "    i = 0\n",
    "    while i < n:\n",
    "        i = i - 1"
   ]
  },
  {
   "cell_type": "markdown",
   "metadata": {},
   "source": []
  },
  {
   "cell_type": "markdown",
   "metadata": {},
   "source": [
    "## Exercise 2: space complexity\n",
    "\n",
    "For each of the following functions, determine the space complexity as a function of the input $n$ using big-O notation and briefly justify your answer. "
   ]
  },
  {
   "cell_type": "markdown",
   "metadata": {},
   "source": [
    "#### 2.1\n",
    "rubric={reasoning:3}"
   ]
  },
  {
   "cell_type": "code",
   "execution_count": null,
   "metadata": {},
   "outputs": [],
   "source": [
    "def foo(n):\n",
    "    x = np.zeros(n)\n",
    "    x = x + 1000\n",
    "    return x"
   ]
  },
  {
   "cell_type": "markdown",
   "metadata": {},
   "source": []
  },
  {
   "cell_type": "markdown",
   "metadata": {},
   "source": [
    "#### 2.2\n",
    "rubric={reasoning:3}"
   ]
  },
  {
   "cell_type": "code",
   "execution_count": null,
   "metadata": {},
   "outputs": [],
   "source": [
    "def bar(n):\n",
    "    x = np.zeros(1000)\n",
    "    x = x + n\n",
    "    return x"
   ]
  },
  {
   "cell_type": "markdown",
   "metadata": {},
   "source": []
  },
  {
   "cell_type": "markdown",
   "metadata": {},
   "source": [
    "#### 2.3\n",
    "rubric={reasoning:3}"
   ]
  },
  {
   "cell_type": "code",
   "execution_count": null,
   "metadata": {},
   "outputs": [],
   "source": [
    "def FUNCTION(N):\n",
    "    x = []\n",
    "    for i in range(n):\n",
    "        y = []\n",
    "        for j in range(n):\n",
    "            y.append(\"element!\")\n",
    "        x.append(y)\n",
    "    return x"
   ]
  },
  {
   "cell_type": "markdown",
   "metadata": {},
   "source": []
  },
  {
   "cell_type": "markdown",
   "metadata": {},
   "source": [
    "## Exercise 3: comparing data types\n"
   ]
  },
  {
   "cell_type": "markdown",
   "metadata": {},
   "source": [
    "#### 3(a)\n",
    "rubric={reasoning:4}\n",
    "\n",
    "Let's compare Python sets vs. Python lists. Both can store a collection of values, as shown in the code snippet below. "
   ]
  },
  {
   "cell_type": "code",
   "execution_count": 4,
   "metadata": {},
   "outputs": [
    {
     "data": {
      "text/plain": [
       "['604-222-3333', '778-888-9999']"
      ]
     },
     "execution_count": 4,
     "metadata": {},
     "output_type": "execute_result"
    }
   ],
   "source": [
    "# using lists\n",
    "phone_numbers = list()\n",
    "phone_numbers.append(\"604-222-3333\")\n",
    "phone_numbers.append(\"778-888-9999\")\n",
    "\n",
    "# or, more concisely\n",
    "phone_numbers = [\"604-222-3333\", \"778-888-9999\"]\n",
    "\n",
    "phone_numbers"
   ]
  },
  {
   "cell_type": "code",
   "execution_count": 5,
   "metadata": {},
   "outputs": [
    {
     "data": {
      "text/plain": [
       "{'604-222-3333', '778-888-9999'}"
      ]
     },
     "execution_count": 5,
     "metadata": {},
     "output_type": "execute_result"
    }
   ],
   "source": [
    "# using sets\n",
    "phone_numbers = set()\n",
    "phone_numbers.add(\"604-222-3333\")\n",
    "phone_numbers.add(\"778-888-9999\")\n",
    "\n",
    "# or, more concisely\n",
    "phone_numbers = {\"604-222-3333\", \"778-888-9999\"}\n",
    "\n",
    "phone_numbers"
   ]
  },
  {
   "cell_type": "markdown",
   "metadata": {},
   "source": [
    "How are lists and sets different? Give a specific example where it makes more sense to use a `list` and another example where it makes more sense to use a `set`."
   ]
  },
  {
   "cell_type": "markdown",
   "metadata": {},
   "source": []
  },
  {
   "cell_type": "markdown",
   "metadata": {},
   "source": [
    "#### (optional) 3(b)\n",
    "rubric={reasoning:1}\n",
    "\n",
    "Let's compare Python classes vs. Python dictionaries. Both can store values in named fields, as shown in the code snippets below. "
   ]
  },
  {
   "cell_type": "code",
   "execution_count": 6,
   "metadata": {},
   "outputs": [
    {
     "name": "stdout",
     "output_type": "stream",
     "text": [
      "604-222-3333\n",
      "unlisted\n"
     ]
    }
   ],
   "source": [
    "# Store phone number in an object\n",
    "class PhoneNumbers:\n",
    "    \n",
    "    def __init__(self, alicePhone, bobPhone):\n",
    "        self.alicePhone = alicePhone\n",
    "        self.bobPhone = bobPhone\n",
    "\n",
    "\n",
    "phone_numbers = PhoneNumbers(\n",
    "    \"604-222-3333\", \"778-888-9999\")  # create the object\n",
    "\n",
    "print(phone_numbers.alicePhone)\n",
    "\n",
    "phone_numbers.alicePhone = \"unlisted\"  # change phone number\n",
    "print(phone_numbers.alicePhone)"
   ]
  },
  {
   "cell_type": "code",
   "execution_count": 7,
   "metadata": {},
   "outputs": [
    {
     "name": "stdout",
     "output_type": "stream",
     "text": [
      "604-222-3333\n",
      "unlisted\n"
     ]
    }
   ],
   "source": [
    "# Store phone number in a dict\n",
    "phone_numbers = dict()\n",
    "phone_numbers[\"alicePhone\"] = \"604-222-3333\"\n",
    "phone_numbers[\"bobPhone\"] = \"778-888-9999\"\n",
    "\n",
    "# Or, more concisely\n",
    "phone_numbers = {\n",
    "    \"alicePhone\": \"604-222-3333\",\n",
    "    \"bobPhone\": \"778-888-9999\"\n",
    "}\n",
    "print(phone_numbers[\"alicePhone\"])\n",
    "\n",
    "phone_numbers[\"alicePhone\"] = \"unlisted\"  # change phone number\n",
    "print(phone_numbers[\"alicePhone\"])"
   ]
  },
  {
   "cell_type": "markdown",
   "metadata": {},
   "source": [
    "How are classes and dictionaries different? Give a specific example where it makes more sense to use a class and another example where it makes more sense to use a `dict`."
   ]
  },
  {
   "cell_type": "markdown",
   "metadata": {},
   "source": []
  },
  {
   "cell_type": "markdown",
   "metadata": {},
   "source": [
    "## Exercise 4: Markov Model of language"
   ]
  },
  {
   "cell_type": "markdown",
   "metadata": {},
   "source": [
    "In this exercise we will try to synthesize English text by \"learning\" from some input text, also known as a _corpus_. As an example, let's say the input text is the following, taken from the MDS website:\n",
    "\n",
    "> Data is everywhere. Continuously generated and collected across every domain, it is a vast and largely untapped resource of information with the potential to reveal insights about every aspect of our lives and the world we live in. However, the ability to uncover these insights is a highly specialized skill possessed by far too few. \n",
    "\n",
    "Our algorithm involves a parameter, which we'll call $n$. Let me first explain the approach when $n=1$. We will start with an initial character, say \"y\". There are 8 occurences of \"y\" in the input text above (you can count them!). What character typically comes after \"y\"? It turns out (according to the input text above) the next letter is \"w\" the first time and \" \" (space character) all the other 7 times. So we estimate the conditional probability distribution of the next character, given that the current character is \"y\", to be \"w\" with probability 1/8 and \" \" with probability 7/8 (and probability zero for all other characters). To generate the next character, we generate a sample from this simple distribution. Say we pick \" \", so we add a \" \" to our output text and it is now \"y \". Now \" \" is our current character. To generate the next character, we'd need to probability distribution of what comes after \" \" so that we could sample from it. We'd repeat this until the output text reaches a pre-specified length.\n",
    "\n",
    "What about larger $n$? For $n=3$, we pick the next character by looking at the _preceding 3 characters_. We use the name [_n-gram_](https://en.wikipedia.org/wiki/N-gram) for a sequence of $n$ characters. Our method should work for any $n>0$. For example, take our initial text to be the 3 characters \"is \". There are 3 occurrences of this $n$-gram in the text. In this case, the next letter is \"e\" once and \"a\" twice, so we estimate the conditional distribution to be 1/3 \"e\" and 2/3 \"a\" after \"is \". So we pick randomly from this distribution, and say we pick \"e\". Then our output text is now \"is e\" but our current $n$-gram is just \"s e\" because we're only using $n=3$. So to pick the next character after this, we'd look at what happens after occurrences of \"s e\". And so on.\n",
    "\n",
    "In order to implement this idea efficiently, you will pre-compute the conditional probabilitity distribution for every possible $n$ gram. To do that we need to count, for every possibly $n$-gram, the freqeuncies of the possible next characters, and then normalize them into probability distributions.\n",
    "\n",
    "*Attribution*: this exercise adapted with permission from Princeton COS 126, [_Markov Model of Natural Language_]( http://www.cs.princeton.edu/courses/archive/fall15/cos126/assignments/markov.html). Original assignment was developed by Bob Sedgewick and Kevin Wayne. If you are interested in more background info, you can take a look at the original version. The original paper by Shannon, [A Mathematical Theory of Communication](http://math.harvard.edu/~ctm/home/text/others/shannon/entropy/entropy.pdf), essentially created the field of information theory and is, in my opinion, one of the best scientific papers ever written (in terms of both impact and readability).  "
   ]
  },
  {
   "cell_type": "code",
   "execution_count": 8,
   "metadata": {},
   "outputs": [],
   "source": [
    "# Grimms' Fairy Tales by Jacob and Wilhelm Grimm\n",
    "data_url = 'http://www.gutenberg.org/files/2591/2591-0.txt'\n",
    "corpus = urllib.request.urlopen(data_url).read().decode(\"utf-8\")\n",
    "\n",
    "# remove the first chunk of characters, which contains some header stuff\n",
    "corpus = corpus[2820:]"
   ]
  },
  {
   "cell_type": "code",
   "execution_count": 9,
   "metadata": {},
   "outputs": [
    {
     "name": "stdout",
     "output_type": "stream",
     "text": [
      "A certain king had a beautiful garden, and in the garden stood a tree\n",
      "which bore golden apples. These apples were always counted, and about\n",
      "the time when they began to grow ripe it was found that ev\n"
     ]
    }
   ],
   "source": [
    "print(corpus[:200])  # print out the first 200 characters"
   ]
  },
  {
   "cell_type": "markdown",
   "metadata": {},
   "source": [
    "#### 4(a): implementation\n",
    "rubric={accuracy:10,quality:10}\n",
    "\n",
    "Implement the above algorithm in a class called `MarkovModel`. Your class should have the following functions:\n",
    "\n",
    "- `__init__`, a constructor that takes in and stores the value of $n$\n",
    "- `fit`, which calculates and stores the _frequencies_ of all possible next characters given an $n$-gram. These frequencies should be stored in a dict of dicts, where the keys of the outer dict are the $n$-grams and the keys of the inner dict are the possible next characters, and the values of the inner dict are the frequencies (counts). Then, at the end of `fit`, normalize these frequencies into empirical probabilities. Note: before starting the calculations, append the first $n$ characters of your corpus to the end of the corpus, making it \"circular\"; this will avoid a situation where you your `generate` function might get stuck.\n",
    "- `generate`, which creates a random text of a specified length by generating one character at a time from the appropriate (discrete) probability distribution. To perform the random sampling, use the `p` argument of `np.random.choice`. You can start the output text with the first $n$ characters of the input text.\n",
    "\n",
    "Note: you may find some of the fancy dictionaries in the [`collections`](https://docs.python.org/3.7/library/collections.html) package useful. However, you can also just use `dict`; either way is fine."
   ]
  },
  {
   "cell_type": "code",
   "execution_count": null,
   "metadata": {},
   "outputs": [],
   "source": []
  },
  {
   "cell_type": "code",
   "execution_count": null,
   "metadata": {},
   "outputs": [],
   "source": [
    "mm = MarkovModel(n=5)\n",
    "mm.fit(corpus)\n",
    "print(mm.generate(500))"
   ]
  },
  {
   "cell_type": "markdown",
   "metadata": {},
   "source": [
    "#### 4(b): fun with language models\n",
    "rubric={reasoning:5}\n",
    "\n",
    "1. Explain what happens as you increase $n$ from 1 to larger and larger values. At what point does it start to look like English? At what point is your model just memorizing the input corpus?\n",
    "2. Generate some random sequences using the data set of your choice. Submit your favourite randomly generated sequence as well as the link to the data you used to generate it. If you are out of ideas, you may find some text files of popular books [here](http://www.gutenberg.org/)."
   ]
  },
  {
   "cell_type": "markdown",
   "metadata": {},
   "source": []
  },
  {
   "cell_type": "code",
   "execution_count": null,
   "metadata": {},
   "outputs": [],
   "source": []
  },
  {
   "cell_type": "markdown",
   "metadata": {},
   "source": [
    "#### 4(c): time complexity of `fit`\n",
    "rubric={reasoning:5}\n",
    "\n",
    "For the above implementation, what is the (worst case) time complexity of running `fit` in terms of:\n",
    "\n",
    "- $n$, the length of each $n$-gram\n",
    "- the length of the corpus, which we'll call $N$\n",
    "- the length of the sequence to generate, `seq_len`, which we'll call $T$\n",
    "\n",
    "You can assume `np.random.choice` takes $O(1)$ time."
   ]
  },
  {
   "cell_type": "markdown",
   "metadata": {},
   "source": []
  },
  {
   "cell_type": "markdown",
   "metadata": {},
   "source": [
    "#### Exercise 4d: time complexity of `generate`\n",
    "rubric={reasoning:5}\n",
    "\n",
    "For the above implementation, what is the (worst case) time complexity of running `generate` in terms of $n$, $N$, and $T$?"
   ]
  },
  {
   "cell_type": "markdown",
   "metadata": {},
   "source": []
  },
  {
   "cell_type": "markdown",
   "metadata": {},
   "source": [
    "#### Exercise 4(e): total time complexity\n",
    "rubric={reasoning:1}\n",
    "\n",
    "What is the total time complexity of running `fit` once and then `generate` once, in terms of $n$, $N$, and $T$?"
   ]
  },
  {
   "cell_type": "markdown",
   "metadata": {},
   "source": []
  },
  {
   "cell_type": "markdown",
   "metadata": {},
   "source": [
    "#### (optional) 4(f): space complexity\n",
    "rubric={reasoning:1}\n",
    "\n",
    "What are the space complexities of `fit` and `generate`?"
   ]
  },
  {
   "cell_type": "markdown",
   "metadata": {},
   "source": []
  }
 ],
 "metadata": {
  "anaconda-cloud": {},
  "kernelspec": {
   "display_name": "Python 3",
   "language": "python",
   "name": "python3"
  },
  "language_info": {
   "codemirror_mode": {
    "name": "ipython",
    "version": 3
   },
   "file_extension": ".py",
   "mimetype": "text/x-python",
   "name": "python",
   "nbconvert_exporter": "python",
   "pygments_lexer": "ipython3",
   "version": "3.7.4"
  }
 },
 "nbformat": 4,
 "nbformat_minor": 4
}
