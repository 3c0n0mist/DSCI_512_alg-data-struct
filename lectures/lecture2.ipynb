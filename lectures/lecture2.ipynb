{
 "cells": [
  {
   "cell_type": "markdown",
   "metadata": {},
   "source": [
    "# DSCI 512 Lecture 2\n"
   ]
  },
  {
   "cell_type": "code",
   "execution_count": 1,
   "metadata": {},
   "outputs": [],
   "source": [
    "import numpy as np\n",
    "import pandas as pd\n",
    "from collections import defaultdict\n",
    "\n",
    "import altair as alt"
   ]
  },
  {
   "cell_type": "markdown",
   "metadata": {},
   "source": [
    "Outline:\n",
    "\n",
    "- Linear search and binary search intro (15 min)\n",
    "- Code timings (15 min)\n",
    "- Sorting (10 min)\n",
    "- Break (5 min)\n",
    "- Hash tables, hash functions (15 min)\n",
    "- Lookup tables, Python `dict` (5 min)\n",
    "- T/F questions (15 min)"
   ]
  },
  {
   "cell_type": "markdown",
   "metadata": {},
   "source": [
    "## Linear search and binary search intro (15 min)\n",
    "\n",
    "We return to the problem of checking whether an element is present in a collection."
   ]
  },
  {
   "cell_type": "markdown",
   "metadata": {},
   "source": [
    "#### Linear search"
   ]
  },
  {
   "cell_type": "code",
   "execution_count": 2,
   "metadata": {},
   "outputs": [],
   "source": [
    "def search_unsorted(data, key):\n",
    "    \"\"\"\n",
    "    Searches the key in data using linear search \n",
    "    and returns True if found and False otherwise. \n",
    "\n",
    "    Parameters\n",
    "    ----------\n",
    "    data : list\n",
    "           the elements to search within\n",
    "    key  : int\n",
    "           the key to search for\n",
    "\n",
    "    Returns\n",
    "    -------\n",
    "    bool\n",
    "        boolean if key is contained in the data \n",
    "\n",
    "    Examples\n",
    "    --------\n",
    "    >>> search_unsorted([1, 7, 67, 35, 45], 3)\n",
    "    False\n",
    "    >>> search_unsorted([1, 7, 67, 35, 45], 7)\n",
    "    True\n",
    "    \"\"\"\n",
    "\n",
    "    for element in data:\n",
    "        if element == key:\n",
    "            return True\n",
    "    return False"
   ]
  },
  {
   "cell_type": "code",
   "execution_count": 3,
   "metadata": {},
   "outputs": [],
   "source": [
    "# Some tests\n",
    "\n",
    "# key is the first element in the list\n",
    "assert search_unsorted([4, 7, 9, -12, 1000], 4)\n",
    "\n",
    "# key is the last element in the list\n",
    "assert search_unsorted([4, 7, 9, -12, 1000], 1000)\n",
    "\n",
    "# key occurs multiple times in the list\n",
    "assert search_unsorted([4, 7, 9, -12, 4, 1000], 4)\n",
    "\n",
    "# key is larger than the largest element in the list\n",
    "assert not search_unsorted([4, 7, 9, -12, 1000], 2000)\n",
    "\n",
    "# key is smaller than the smallest element in the list\n",
    "assert not search_unsorted([4, 7, 9, -12, 1000], -18)\n",
    "\n",
    "# nothing is in an empty list\n",
    "assert not search_unsorted([], 1)"
   ]
  },
  {
   "cell_type": "markdown",
   "metadata": {},
   "source": [
    "**Question:** What is the time complexity of the `search_unsorted`, as a function of the length of the list, $n$? "
   ]
  },
  {
   "cell_type": "markdown",
   "metadata": {},
   "source": [
    "<br><br><br><br><br><br><br><br> \n",
    "**Answer:** The time complexity of the `search_unsorted` function is $O(n)$ because in the worst case the function loops over $n$ elements. "
   ]
  },
  {
   "cell_type": "markdown",
   "metadata": {},
   "source": [
    "#### Binary search\n",
    "\n",
    "- If the list is already sorted, we can search much faster with _binary search_.\n",
    "- See the \"binary search video\" that was assigned as pre-class viewing. \n",
    "- We start in the middle and can just restrict ourselves to searching half the list after a comparison.\n",
    "- Note: the input list must be sorted for the code to work."
   ]
  },
  {
   "cell_type": "code",
   "execution_count": 6,
   "metadata": {},
   "outputs": [],
   "source": [
    "def search_sorted(data, key):\n",
    "    \"\"\"\n",
    "    Searches the key in data using binary search \n",
    "    and returns True if found and False otherwise. \n",
    "\n",
    "    Parameters\n",
    "    ----------\n",
    "    data : list\n",
    "           a list of sorted elements to search within\n",
    "    key  : int\n",
    "           the key to search for\n",
    "\n",
    "    Returns\n",
    "    -------\n",
    "    bool :\n",
    "        boolean if key is contained in the data \n",
    "\n",
    "    Examples\n",
    "    --------\n",
    "    >>> search_sorted([1, 7, 35, 45, 67], 3)\n",
    "    False\n",
    "    >>> search_sorted([1, 7, 35, 45, 67], 7)\n",
    "    True\n",
    "    \"\"\"\n",
    "    \n",
    "    low = 0\n",
    "    high = len(data) - 1\n",
    "    while (low <= high):\n",
    "        mid = (high + low)//2\n",
    "        if data[mid] == key:\n",
    "            return True\n",
    "        if key < data[mid]:\n",
    "            high = mid - 1\n",
    "        else:\n",
    "            low = mid + 1\n",
    "    return False"
   ]
  },
  {
   "cell_type": "code",
   "execution_count": 7,
   "metadata": {},
   "outputs": [],
   "source": [
    "data = [-12, 4, 7, 9, 45, 45, 987, 1000, 2000]"
   ]
  },
  {
   "cell_type": "code",
   "execution_count": 8,
   "metadata": {},
   "outputs": [],
   "source": [
    "# Test cases for binary search\n",
    "\n",
    "# key is the first element in the list\n",
    "assert search_sorted(data, -12) == True\n",
    "\n",
    "# key is the last element in the list\n",
    "assert search_sorted(data, 2000) == True\n",
    "\n",
    "# key occurs multiple times in the list\n",
    "assert search_sorted(data, 45) == True\n",
    "\n",
    "# key is larger than the largest element in the list\n",
    "assert search_sorted(data, 3000) == False\n",
    "\n",
    "# key is smaller than the smallest element in the list\n",
    "assert search_sorted(data, -18) == False\n",
    "\n",
    "# nothing is in an empty list\n",
    "assert search_unsorted([], 1) == False"
   ]
  },
  {
   "cell_type": "markdown",
   "metadata": {},
   "source": [
    "**Question:** What is the time complexity of the `search_sorted`, as a function of the length of the list, $n$? "
   ]
  },
  {
   "cell_type": "markdown",
   "metadata": {},
   "source": [
    "<br><br><br><br><br><br><br><br> **Answer:** The time complexity of the `search_sorted` function is $O(\\log n)$ because in the worst case, the function loops over $\\log n$ elements, as the search space reduces by half in each iteration of the loop. "
   ]
  },
  {
   "cell_type": "markdown",
   "metadata": {},
   "source": [
    "**Question:** What happens if you call `search_unsorted` on sorted data? What happens if you call `search_sorted` on unsorted data?"
   ]
  },
  {
   "cell_type": "markdown",
   "metadata": {},
   "source": [
    "<br><br><br><br><br><br> **Answer:** The `search_unsorted` function does not care about whether the data is sorted or not. In both cases, it sequentially searches for the key and returns `True` when it is found. The `search_sorted` function, on the other hand, is based on the assumption that the data is sorted in ascending order and you might miss the element you are looking for if called on unsorted data. In binary search, whenever we are in a position, all elements on the left are less than (or equal to in cases where values occur multiple times in the data) the element at the position and all elements on the right are greater than the element at the position, which is helpful in deciding which part of the list the next search should happen.   \n",
    "\n",
    "For example:"
   ]
  },
  {
   "cell_type": "code",
   "execution_count": 9,
   "metadata": {},
   "outputs": [
    {
     "data": {
      "text/plain": [
       "False"
      ]
     },
     "execution_count": 9,
     "metadata": {},
     "output_type": "execute_result"
    }
   ],
   "source": [
    "search_sorted([3, 2, 1], 1)"
   ]
  },
  {
   "cell_type": "markdown",
   "metadata": {},
   "source": [
    "**Question:** Why doesn't the `search_sorted` function start by verifying that the list is indeed sorted?"
   ]
  },
  {
   "cell_type": "markdown",
   "metadata": {},
   "source": [
    "<br><br><br><br><br><br>\n",
    "**Answer:** because this would take $O(n)$ time, defeating the purpose of the $O(\\log\\, n)$ lookup."
   ]
  },
  {
   "cell_type": "markdown",
   "metadata": {},
   "source": [
    "## Code timing (15 min)\n",
    "\n",
    "Below we empirically measure the running times of `search_unsorted` and `search_sorted`. "
   ]
  },
  {
   "cell_type": "markdown",
   "metadata": {},
   "source": [
    "**Question:** Why do I search for $-1$ in the code below? Why not $1$?"
   ]
  },
  {
   "cell_type": "code",
   "execution_count": 10,
   "metadata": {},
   "outputs": [
    {
     "name": "stdout",
     "output_type": "stream",
     "text": [
      "List size:  100\n",
      "List size:  1000\n",
      "List size:  10000\n",
      "List size:  100000\n",
      "List size:  1000000\n",
      "List size:  10000000\n"
     ]
    }
   ],
   "source": [
    "list_sizes = [100, 1000, 10000, 100000, 1_000_000, 10_000_000]\n",
    "\n",
    "results = defaultdict(list)\n",
    "results[\"size\"] = list_sizes\n",
    "\n",
    "key = -1\n",
    "\n",
    "for list_size in list_sizes:\n",
    "    print('List size: ', list_size)\n",
    "    x = np.random.randint(1e8, size=list_size)\n",
    "\n",
    "    time = %timeit -q -o -r 1 search_unsorted(x, key)\n",
    "    results[\"Unsorted list linear\"].append(time.average)\n",
    "    # Note: -q prevents it from printing to the terminal\n",
    "    #       -o sends the result to a variable (average time in seconds)\n",
    "    #       -r 3 makes it average only 3 trials instead of the default of 7, which saves time\n",
    "\n",
    "    time = %timeit -q -o -r 1 (key in x)\n",
    "    results[\"Unsorted list in\"].append(time.average)\n",
    "\n",
    "    x.sort()\n",
    "    time = %timeit -q -o -r 1 search_sorted(x, key)\n",
    "    results[\"Sorted list binary\"].append(time.average)\n",
    "\n",
    "    x_set = set(x)\n",
    "    time = %timeit -q -o -r 1 (key in x_set)\n",
    "    results[\"Python set in\"].append(time.average)"
   ]
  },
  {
   "cell_type": "markdown",
   "metadata": {},
   "source": [
    "**Answer**: we search for -1 because we know it will not be in the array. This gives us a worst case timing, because searching is the slowest  if it has to keep looking; it can be faster if it finds something right away. For example, if it's the 1st element, then linear search would seem extremely fast."
   ]
  },
  {
   "cell_type": "code",
   "execution_count": 11,
   "metadata": {},
   "outputs": [
    {
     "data": {
      "text/html": [
       "<div>\n",
       "<style scoped>\n",
       "    .dataframe tbody tr th:only-of-type {\n",
       "        vertical-align: middle;\n",
       "    }\n",
       "\n",
       "    .dataframe tbody tr th {\n",
       "        vertical-align: top;\n",
       "    }\n",
       "\n",
       "    .dataframe thead th {\n",
       "        text-align: right;\n",
       "    }\n",
       "</style>\n",
       "<table border=\"1\" class=\"dataframe\">\n",
       "  <thead>\n",
       "    <tr style=\"text-align: right;\">\n",
       "      <th></th>\n",
       "      <th>size</th>\n",
       "      <th>Unsorted list linear</th>\n",
       "      <th>Unsorted list in</th>\n",
       "      <th>Sorted list binary</th>\n",
       "      <th>Python set in</th>\n",
       "    </tr>\n",
       "  </thead>\n",
       "  <tbody>\n",
       "    <tr>\n",
       "      <th>0</th>\n",
       "      <td>100</td>\n",
       "      <td>0.000025</td>\n",
       "      <td>0.000003</td>\n",
       "      <td>0.000005</td>\n",
       "      <td>6.218528e-08</td>\n",
       "    </tr>\n",
       "    <tr>\n",
       "      <th>1</th>\n",
       "      <td>1000</td>\n",
       "      <td>0.000681</td>\n",
       "      <td>0.000004</td>\n",
       "      <td>0.000008</td>\n",
       "      <td>6.098954e-08</td>\n",
       "    </tr>\n",
       "    <tr>\n",
       "      <th>2</th>\n",
       "      <td>10000</td>\n",
       "      <td>0.002732</td>\n",
       "      <td>0.000009</td>\n",
       "      <td>0.000011</td>\n",
       "      <td>5.861086e-08</td>\n",
       "    </tr>\n",
       "    <tr>\n",
       "      <th>3</th>\n",
       "      <td>100000</td>\n",
       "      <td>0.026532</td>\n",
       "      <td>0.000057</td>\n",
       "      <td>0.000014</td>\n",
       "      <td>5.829067e-08</td>\n",
       "    </tr>\n",
       "    <tr>\n",
       "      <th>4</th>\n",
       "      <td>1000000</td>\n",
       "      <td>0.254848</td>\n",
       "      <td>0.000800</td>\n",
       "      <td>0.000016</td>\n",
       "      <td>6.033430e-08</td>\n",
       "    </tr>\n",
       "    <tr>\n",
       "      <th>5</th>\n",
       "      <td>10000000</td>\n",
       "      <td>2.616215</td>\n",
       "      <td>0.010373</td>\n",
       "      <td>0.000021</td>\n",
       "      <td>6.518929e-08</td>\n",
       "    </tr>\n",
       "  </tbody>\n",
       "</table>\n",
       "</div>"
      ],
      "text/plain": [
       "       size  Unsorted list linear  Unsorted list in  Sorted list binary  \\\n",
       "0       100              0.000025          0.000003            0.000005   \n",
       "1      1000              0.000681          0.000004            0.000008   \n",
       "2     10000              0.002732          0.000009            0.000011   \n",
       "3    100000              0.026532          0.000057            0.000014   \n",
       "4   1000000              0.254848          0.000800            0.000016   \n",
       "5  10000000              2.616215          0.010373            0.000021   \n",
       "\n",
       "   Python set in  \n",
       "0   6.218528e-08  \n",
       "1   6.098954e-08  \n",
       "2   5.861086e-08  \n",
       "3   5.829067e-08  \n",
       "4   6.033430e-08  \n",
       "5   6.518929e-08  "
      ]
     },
     "execution_count": 11,
     "metadata": {},
     "output_type": "execute_result"
    }
   ],
   "source": [
    "df = pd.DataFrame(results, columns=list(results.keys()))\n",
    "df"
   ]
  },
  {
   "cell_type": "markdown",
   "metadata": {},
   "source": [
    "Are these consistent with the time complexities we expected?"
   ]
  },
  {
   "cell_type": "markdown",
   "metadata": {},
   "source": [
    "Reading runtimes from a table: what happens of $N$ becomes $10N$?\n",
    "\n",
    "- Linear: time $T$ goes up to $10T$\n",
    "- Logarithmic: time $T$ goes up to $T+\\Delta T$\n",
    "- Constant: time $T$ stays about the same"
   ]
  },
  {
   "cell_type": "code",
   "execution_count": 12,
   "metadata": {},
   "outputs": [
    {
     "data": {
      "application/vnd.vegalite.v3+json": {
       "$schema": "https://vega.github.io/schema/vega-lite/v3.4.0.json",
       "config": {
        "axis": {
         "grid": false
        },
        "mark": {
         "tooltip": null
        },
        "view": {
         "height": 300,
         "width": 400
        }
       },
       "data": {
        "name": "data-27f0b02770f639853858a8db87483919"
       },
       "datasets": {
        "data-27f0b02770f639853858a8db87483919": [
         {
          "method": "Unsorted list linear",
          "size": 100,
          "time (s)": 2.5428452100004505e-05
         },
         {
          "method": "Unsorted list linear",
          "size": 1000,
          "time (s)": 0.000680808117999959
         },
         {
          "method": "Unsorted list linear",
          "size": 10000,
          "time (s)": 0.0027320277600006194
         },
         {
          "method": "Unsorted list linear",
          "size": 100000,
          "time (s)": 0.02653183679999529
         },
         {
          "method": "Unsorted list linear",
          "size": 1000000,
          "time (s)": 0.2548477699999694
         },
         {
          "method": "Unsorted list linear",
          "size": 10000000,
          "time (s)": 2.6162145230000533
         },
         {
          "method": "Unsorted list in",
          "size": 100,
          "time (s)": 3.268508420001126e-06
         },
         {
          "method": "Unsorted list in",
          "size": 1000,
          "time (s)": 3.917777700000897e-06
         },
         {
          "method": "Unsorted list in",
          "size": 10000,
          "time (s)": 8.920451300000423e-06
         },
         {
          "method": "Unsorted list in",
          "size": 100000,
          "time (s)": 5.714635860001636e-05
         },
         {
          "method": "Unsorted list in",
          "size": 1000000,
          "time (s)": 0.0008000742369999898
         },
         {
          "method": "Unsorted list in",
          "size": 10000000,
          "time (s)": 0.01037253827999848
         },
         {
          "method": "Sorted list binary",
          "size": 100,
          "time (s)": 5.273768760000621e-06
         },
         {
          "method": "Sorted list binary",
          "size": 1000,
          "time (s)": 7.770291150000048e-06
         },
         {
          "method": "Sorted list binary",
          "size": 10000,
          "time (s)": 1.1398651179999888e-05
         },
         {
          "method": "Sorted list binary",
          "size": 100000,
          "time (s)": 1.3588657149998654e-05
         },
         {
          "method": "Sorted list binary",
          "size": 1000000,
          "time (s)": 1.6157296119999955e-05
         },
         {
          "method": "Sorted list binary",
          "size": 10000000,
          "time (s)": 2.0839673640000456e-05
         },
         {
          "method": "Python set in",
          "size": 100,
          "time (s)": 6.218527910000376e-08
         },
         {
          "method": "Python set in",
          "size": 1000,
          "time (s)": 6.098953620000885e-08
         },
         {
          "method": "Python set in",
          "size": 10000,
          "time (s)": 5.8610857400003625e-08
         },
         {
          "method": "Python set in",
          "size": 100000,
          "time (s)": 5.829067259999192e-08
         },
         {
          "method": "Python set in",
          "size": 1000000,
          "time (s)": 6.033430259999477e-08
         },
         {
          "method": "Python set in",
          "size": 10000000,
          "time (s)": 6.518928519999463e-08
         }
        ]
       },
       "encoding": {
        "color": {
         "field": "method",
         "type": "nominal"
        },
        "x": {
         "field": "size",
         "scale": {
          "type": "log"
         },
         "type": "quantitative"
        },
        "y": {
         "field": "time (s)",
         "scale": {
          "type": "log"
         },
         "type": "quantitative"
        }
       },
       "mark": "line"
      },
      "image/png": "[encoded data removed]",
      "text/plain": [
       "<VegaLite 3 object>\n",
       "\n",
       "If you see this message, it means the renderer has not been properly enabled\n",
       "for the frontend that you are using. For more information, see\n",
       "https://altair-viz.github.io/user_guide/troubleshooting.html\n"
      ]
     },
     "execution_count": 12,
     "metadata": {},
     "output_type": "execute_result"
    }
   ],
   "source": [
    "df_long = pd.melt(df, id_vars=\"size\", var_name=\"method\", value_name=\"time (s)\")\n",
    "\n",
    "alt.Chart(df_long).mark_line().encode(\n",
    "    alt.X('size', scale=alt.Scale(type='log')),\n",
    "    alt.Y('time (s)', scale=alt.Scale(type='log')),\n",
    "    color='method'\n",
    ").configure_axis(grid=False)"
   ]
  },
  {
   "cell_type": "markdown",
   "metadata": {},
   "source": [
    "Note that the `binary_search` we wrote is actually slower than the linear search using `in` when the list is smaller than $10,000$ elements. Remember, big-O is just an \"asymptotic\" trend. There could be:\n",
    "\n",
    "- Large/small constants, like $1000\\log(n)$ vs. $n$.\n",
    "- \"Lower order terms\", like $\\log(n)+100 \\log \\log(n) + 100$ vs. $n$.\n",
    "\n",
    "We are probably seeing the former; my code performs fewer steps (better complexity), but each step is much slower because the implementation is not optimized. (Often, though, we don't care too much about how code performs for very small inputs.)"
   ]
  },
  {
   "cell_type": "markdown",
   "metadata": {},
   "source": [
    "(**Note:** the last ~10 minutes of material are not easy and very important. If you didn't completely follow, please review them later and ask questions as needed!)"
   ]
  },
  {
   "cell_type": "markdown",
   "metadata": {},
   "source": [
    "The two fastest methods (the orange and blue curves) look quite similar. We can compare them on a log plot (time vs. $\\log n$) to try and tell the difference."
   ]
  },
  {
   "cell_type": "code",
   "execution_count": 13,
   "metadata": {},
   "outputs": [
    {
     "data": {
      "application/vnd.vegalite.v3+json": {
       "$schema": "https://vega.github.io/schema/vega-lite/v3.4.0.json",
       "config": {
        "axis": {
         "grid": false
        },
        "mark": {
         "tooltip": null
        },
        "view": {
         "height": 300,
         "width": 400
        }
       },
       "data": {
        "name": "data-ed060d4d74b6cb6883f38cb401aaaed3"
       },
       "datasets": {
        "data-ed060d4d74b6cb6883f38cb401aaaed3": [
         {
          "method": "Sorted list binary",
          "size": 100,
          "time (s)": 5.273768760000621e-06
         },
         {
          "method": "Sorted list binary",
          "size": 1000,
          "time (s)": 7.770291150000048e-06
         },
         {
          "method": "Sorted list binary",
          "size": 10000,
          "time (s)": 1.1398651179999888e-05
         },
         {
          "method": "Sorted list binary",
          "size": 100000,
          "time (s)": 1.3588657149998654e-05
         },
         {
          "method": "Sorted list binary",
          "size": 1000000,
          "time (s)": 1.6157296119999955e-05
         },
         {
          "method": "Sorted list binary",
          "size": 10000000,
          "time (s)": 2.0839673640000456e-05
         },
         {
          "method": "Python set in",
          "size": 100,
          "time (s)": 6.218527910000376e-08
         },
         {
          "method": "Python set in",
          "size": 1000,
          "time (s)": 6.098953620000885e-08
         },
         {
          "method": "Python set in",
          "size": 10000,
          "time (s)": 5.8610857400003625e-08
         },
         {
          "method": "Python set in",
          "size": 100000,
          "time (s)": 5.829067259999192e-08
         },
         {
          "method": "Python set in",
          "size": 1000000,
          "time (s)": 6.033430259999477e-08
         },
         {
          "method": "Python set in",
          "size": 10000000,
          "time (s)": 6.518928519999463e-08
         }
        ]
       },
       "encoding": {
        "color": {
         "field": "method",
         "type": "nominal"
        },
        "x": {
         "field": "size",
         "scale": {
          "type": "log"
         },
         "type": "quantitative"
        },
        "y": {
         "field": "time (s)",
         "type": "quantitative"
        }
       },
       "mark": "line"
      },
      "image/png": "[encoded data removed]",
      "text/plain": [
       "<VegaLite 3 object>\n",
       "\n",
       "If you see this message, it means the renderer has not been properly enabled\n",
       "for the frontend that you are using. For more information, see\n",
       "https://altair-viz.github.io/user_guide/troubleshooting.html\n"
      ]
     },
     "execution_count": 13,
     "metadata": {},
     "output_type": "execute_result"
    }
   ],
   "source": [
    "df_long = pd.melt(df[[\"size\", \"Sorted list binary\", \"Python set in\"]],\n",
    "                  id_vars=\"size\", var_name=\"method\", value_name=\"time (s)\")\n",
    "\n",
    "alt.Chart(df_long).mark_line().encode(\n",
    "    alt.X('size', scale=alt.Scale(type='log')),\n",
    "    alt.Y('time (s)'),\n",
    "    color='method'\n",
    ").configure_axis(grid=False)\n"
   ]
  },
  {
   "cell_type": "markdown",
   "metadata": {},
   "source": [
    "We can see that the set really is constant, but the binary search is logarithmic - in the plot, time is linear in $\\log(n)$."
   ]
  },
  {
   "cell_type": "markdown",
   "metadata": {},
   "source": [
    "## Sorting (10 min)"
   ]
  },
  {
   "cell_type": "markdown",
   "metadata": {},
   "source": [
    "- Sorting is a very popular topic in Algorithms and Data Structures courses.\n",
    "- We'll start with insertion sort.\n",
    "- This is the same code that we saw last class."
   ]
  },
  {
   "cell_type": "code",
   "execution_count": null,
   "metadata": {},
   "outputs": [],
   "source": [
    "def insertion_sort(x):\n",
    "    \"\"\"Sorts x inplace using insertion sort.\n",
    "\n",
    "    Parameters\n",
    "    ----------\n",
    "    x : list\n",
    "           the list needed to be sorted\n",
    "\n",
    "    Returns\n",
    "    -------\n",
    "    list :\n",
    "        the sorted list \n",
    "\n",
    "    Examples\n",
    "    --------\n",
    "    >>> insertion_sort([7, 1, 67, 35, 45])\n",
    "    [1, 7, 35, 45, 67]\n",
    "    >>> insertion_sort([357, 6, 55, 12, 112])\n",
    "    [6, 12, 55, 112, 357]\n",
    "    \"\"\"\n",
    "\n",
    "    n = len(x)\n",
    "\n",
    "    for i in range(n):\n",
    "        # Get the index of the smallest value from location i onward\n",
    "        min_ind = np.argmin(x[i:]) + i\n",
    "\n",
    "        # Swap this with element i\n",
    "        x[i], x[min_ind] = x[min_ind], x[i]\n",
    "    return x"
   ]
  },
  {
   "cell_type": "markdown",
   "metadata": {},
   "source": [
    "**Question:** What is the time complexity of this method?"
   ]
  },
  {
   "cell_type": "markdown",
   "metadata": {},
   "source": [
    "<br><br><br><br><br><br>\n",
    "\n",
    "**Answer:** $O(n^2)$. `argmin` itself takes $O(n)$, and this is called $n$ times, for a total of $O(n^2)$. The actual number of steps is more like $n^2/2$.\n",
    "\n",
    "<br>"
   ]
  },
  {
   "cell_type": "markdown",
   "metadata": {},
   "source": [
    "**Question:** could we find a sorting algorithm that takes $\\log(n)$ time?"
   ]
  },
  {
   "cell_type": "markdown",
   "metadata": {},
   "source": [
    "<br><br><br><br><br><br>\n",
    "\n",
    "**Answer:** no way, because it takes $n$ steps to even inspect every element of the input!"
   ]
  },
  {
   "cell_type": "markdown",
   "metadata": {},
   "source": [
    "- The real answer is that the best sorting algorithms are $n \\log(n)$ time. This is close enough to $O(n)$ that we should be very happy with the result. \n",
    "- If you are interested, you can read more about [mergesort](https://www.geeksforgeeks.org/merge-sort/) and [quicksort](https://www.geeksforgeeks.org/quick-sort/). We may go into this a bit next week."
   ]
  },
  {
   "cell_type": "markdown",
   "metadata": {},
   "source": [
    "## Break (5 min)"
   ]
  },
  {
   "cell_type": "markdown",
   "metadata": {},
   "source": [
    "## Hash tables, hash functions (15 min)\n"
   ]
  },
  {
   "cell_type": "markdown",
   "metadata": {},
   "source": [
    "- Python's `set` type supports the following operations in $O(1)$ time:\n",
    "  - inserting a new element\n",
    "  - deleting an element\n",
    "  - checking if an element is present"
   ]
  },
  {
   "cell_type": "markdown",
   "metadata": {},
   "source": [
    "How could we implement this using the tools we already have?\n",
    "\n",
    "- Well, what about using linear search to find elements, e.g. a `list`?\n",
    "  - This is too slow\n",
    "- What about using binary search?\n",
    "  - Now searching is fast, but insertion/deletion is slow, because we need to maintain an ordered list\n",
    "- Enter the [hash table](https://en.wikipedia.org/wiki/Hash_table) - to save the day!\n",
    "  - Trees could also work (see Lecture 4), but hash tables are the most popular.\n",
    "  \n",
    "#### Hash functions\n",
    "\n",
    "Python objects have a _hash_:"
   ]
  },
  {
   "cell_type": "code",
   "execution_count": 14,
   "metadata": {},
   "outputs": [
    {
     "data": {
      "text/plain": [
       "3539441871722134600"
      ]
     },
     "execution_count": 14,
     "metadata": {},
     "output_type": "execute_result"
    }
   ],
   "source": [
    "hash(\"mds\")"
   ]
  },
  {
   "cell_type": "code",
   "execution_count": 15,
   "metadata": {},
   "outputs": [
    {
     "data": {
      "text/plain": [
       "0"
      ]
     },
     "execution_count": 15,
     "metadata": {},
     "output_type": "execute_result"
    }
   ],
   "source": [
    "hash(\"\")"
   ]
  },
  {
   "cell_type": "markdown",
   "metadata": {},
   "source": [
    "It looks like the hash function returns an integer."
   ]
  },
  {
   "cell_type": "code",
   "execution_count": 16,
   "metadata": {},
   "outputs": [
    {
     "data": {
      "text/plain": [
       "1152921504606846981"
      ]
     },
     "execution_count": 16,
     "metadata": {},
     "output_type": "execute_result"
    }
   ],
   "source": [
    "hash(5.5)"
   ]
  },
  {
   "cell_type": "code",
   "execution_count": 17,
   "metadata": {},
   "outputs": [
    {
     "data": {
      "text/plain": [
       "5"
      ]
     },
     "execution_count": 17,
     "metadata": {},
     "output_type": "execute_result"
    }
   ],
   "source": [
    "hash(5)"
   ]
  },
  {
   "cell_type": "code",
   "execution_count": 18,
   "metadata": {},
   "outputs": [
    {
     "data": {
      "text/plain": [
       "-9999"
      ]
     },
     "execution_count": 18,
     "metadata": {},
     "output_type": "execute_result"
    }
   ],
   "source": [
    "hash(-9999)"
   ]
  },
  {
   "cell_type": "markdown",
   "metadata": {},
   "source": [
    "It looks like the hash function of a Python integer is itself. Or at least small enough integers."
   ]
  },
  {
   "cell_type": "code",
   "execution_count": 19,
   "metadata": {},
   "outputs": [
    {
     "data": {
      "text/plain": [
       "2003764205207330319"
      ]
     },
     "execution_count": 19,
     "metadata": {},
     "output_type": "execute_result"
    }
   ],
   "source": [
    "hash(999999999999999999999999)"
   ]
  },
  {
   "cell_type": "markdown",
   "metadata": {},
   "source": [
    "Sometimes it fails?"
   ]
  },
  {
   "cell_type": "code",
   "execution_count": 20,
   "metadata": {},
   "outputs": [
    {
     "ename": "TypeError",
     "evalue": "unhashable type: 'list'",
     "output_type": "error",
     "traceback": [
      "\u001b[0;31m---------------------------------------------------------------------------\u001b[0m",
      "\u001b[0;31mTypeError\u001b[0m                                 Traceback (most recent call last)",
      "\u001b[0;32m<ipython-input-20-84d65be9aa35>\u001b[0m in \u001b[0;36m<module>\u001b[0;34m\u001b[0m\n\u001b[0;32m----> 1\u001b[0;31m \u001b[0mhash\u001b[0m\u001b[0;34m(\u001b[0m\u001b[0;34m[\u001b[0m\u001b[0;36m1\u001b[0m\u001b[0;34m,\u001b[0m \u001b[0;36m2\u001b[0m\u001b[0;34m,\u001b[0m \u001b[0;36m3\u001b[0m\u001b[0;34m]\u001b[0m\u001b[0;34m)\u001b[0m\u001b[0;34m\u001b[0m\u001b[0;34m\u001b[0m\u001b[0m\n\u001b[0m",
      "\u001b[0;31mTypeError\u001b[0m: unhashable type: 'list'"
     ]
    }
   ],
   "source": [
    "hash([1, 2, 3])"
   ]
  },
  {
   "cell_type": "code",
   "execution_count": 21,
   "metadata": {},
   "outputs": [
    {
     "data": {
      "text/plain": [
       "2528502973977326415"
      ]
     },
     "execution_count": 21,
     "metadata": {},
     "output_type": "execute_result"
    }
   ],
   "source": [
    "hash((1, 2, 3))"
   ]
  },
  {
   "cell_type": "code",
   "execution_count": 22,
   "metadata": {},
   "outputs": [
    {
     "data": {
      "text/plain": [
       "-9223372036582222714"
      ]
     },
     "execution_count": 22,
     "metadata": {},
     "output_type": "execute_result"
    }
   ],
   "source": [
    "hash(None)"
   ]
  },
  {
   "cell_type": "markdown",
   "metadata": {},
   "source": [
    "If a Python `set` is a hash table, that means items in it must be hashable (`dict` has the same requirement, for keys):"
   ]
  },
  {
   "cell_type": "code",
   "execution_count": 23,
   "metadata": {},
   "outputs": [],
   "source": [
    "s = set()"
   ]
  },
  {
   "cell_type": "code",
   "execution_count": 24,
   "metadata": {},
   "outputs": [],
   "source": [
    "s.add(5.5)"
   ]
  },
  {
   "cell_type": "code",
   "execution_count": 25,
   "metadata": {},
   "outputs": [],
   "source": [
    "s.add(\"mds\")"
   ]
  },
  {
   "cell_type": "code",
   "execution_count": 26,
   "metadata": {},
   "outputs": [
    {
     "ename": "TypeError",
     "evalue": "unhashable type: 'list'",
     "output_type": "error",
     "traceback": [
      "\u001b[0;31m---------------------------------------------------------------------------\u001b[0m",
      "\u001b[0;31mTypeError\u001b[0m                                 Traceback (most recent call last)",
      "\u001b[0;32m<ipython-input-26-66452cf70b8f>\u001b[0m in \u001b[0;36m<module>\u001b[0;34m\u001b[0m\n\u001b[0;32m----> 1\u001b[0;31m \u001b[0ms\u001b[0m\u001b[0;34m.\u001b[0m\u001b[0madd\u001b[0m\u001b[0;34m(\u001b[0m\u001b[0;34m[\u001b[0m\u001b[0;36m1\u001b[0m\u001b[0;34m,\u001b[0m \u001b[0;36m2\u001b[0m\u001b[0;34m,\u001b[0m \u001b[0;36m3\u001b[0m\u001b[0;34m]\u001b[0m\u001b[0;34m)\u001b[0m\u001b[0;34m\u001b[0m\u001b[0;34m\u001b[0m\u001b[0m\n\u001b[0m",
      "\u001b[0;31mTypeError\u001b[0m: unhashable type: 'list'"
     ]
    }
   ],
   "source": [
    "s.add([1, 2, 3])"
   ]
  },
  {
   "cell_type": "code",
   "execution_count": 27,
   "metadata": {},
   "outputs": [],
   "source": [
    "s.add((1, 2, 3))"
   ]
  },
  {
   "cell_type": "code",
   "execution_count": 28,
   "metadata": {},
   "outputs": [
    {
     "data": {
      "text/plain": [
       "{(1, 2, 3), 5.5, 'mds'}"
      ]
     },
     "execution_count": 28,
     "metadata": {},
     "output_type": "execute_result"
    }
   ],
   "source": [
    "s"
   ]
  },
  {
   "cell_type": "markdown",
   "metadata": {},
   "source": [
    "- Typically, mutable objects are not hashable."
   ]
  },
  {
   "cell_type": "markdown",
   "metadata": {},
   "source": [
    "#### Hash tables\n",
    "\n",
    "- So, it looks like the hash function maps from an object to an integer.\n",
    "- And that Python `set`s use these hash functions.\n",
    "- How do they work?\n",
    "- The hash table is basically a list of lists, and the hash function (mod the array size) maps an object to its location in the outer list.\n",
    "  - But it's a bit more complicated than that.\n",
    "  - The list typically expands and contracts automatically as needed.\n",
    "  - These operations may be slow, but averaged or \"amortized\" over many operations, the runtime is $O(1)$\n",
    "  - The hash function depends on this array size.\n",
    "  - There's also an issue of collisions: when two different objects hash to the same place.\n",
    "- Roughly speaking, we can insert, retrieve, and delete things in $O(1)$ time so long as we have a \"good\" hash function.\n",
    "  - The hash function will be \"good\" for default Python objects, and if you end up needing to implement your own one day you should read a bit more about it."
   ]
  },
  {
   "cell_type": "markdown",
   "metadata": {},
   "source": [
    "#### A simple hash table implementation\n",
    "\n",
    "Below is a (very low-quality) hash table implementation, with only 4 buckets by default:"
   ]
  },
  {
   "cell_type": "code",
   "execution_count": 29,
   "metadata": {},
   "outputs": [],
   "source": [
    "class HashTable:\n",
    "    \n",
    "    def __init__(self, num_buckets=4):\n",
    "        self.stuff = list() # A list of lists\n",
    "        self.n = num_buckets\n",
    "        \n",
    "        for i in range(num_buckets):\n",
    "            self.stuff.append([]) # Create the inner lists, one per bucket\n",
    "        \n",
    "    def add(self, item):\n",
    "        if not self.contains(item):\n",
    "            self.stuff[hash(item) % self.n].append(item)\n",
    "        \n",
    "    def contains(self, item):\n",
    "        return item in self.stuff[hash(item) % self.n]\n",
    "    \n",
    "    def __str__(self):\n",
    "        return str(self.stuff)"
   ]
  },
  {
   "cell_type": "markdown",
   "metadata": {},
   "source": [
    "(Note: The `hash` function has a random seed that is set at the start of every Python session, so your actual results my vary from mine.)"
   ]
  },
  {
   "cell_type": "code",
   "execution_count": 30,
   "metadata": {},
   "outputs": [
    {
     "name": "stdout",
     "output_type": "stream",
     "text": [
      "[[], [], [], []]\n"
     ]
    }
   ],
   "source": [
    "ht = HashTable()\n",
    "print(ht)"
   ]
  },
  {
   "cell_type": "markdown",
   "metadata": {},
   "source": [
    "- So far, all 4 buckets are empty. \n",
    "- Now let's add something:"
   ]
  },
  {
   "cell_type": "code",
   "execution_count": 31,
   "metadata": {},
   "outputs": [
    {
     "name": "stdout",
     "output_type": "stream",
     "text": [
      "[[], [], ['hello'], []]\n"
     ]
    }
   ],
   "source": [
    "ht.add(\"hello\")\n",
    "print(ht)"
   ]
  },
  {
   "cell_type": "markdown",
   "metadata": {},
   "source": [
    "\"hello\" went into this bucket because "
   ]
  },
  {
   "cell_type": "code",
   "execution_count": 32,
   "metadata": {},
   "outputs": [
    {
     "data": {
      "text/plain": [
       "-1240784039951095738"
      ]
     },
     "execution_count": 32,
     "metadata": {},
     "output_type": "execute_result"
    }
   ],
   "source": [
    "hash(\"hello\")"
   ]
  },
  {
   "cell_type": "code",
   "execution_count": 33,
   "metadata": {},
   "outputs": [
    {
     "data": {
      "text/plain": [
       "2"
      ]
     },
     "execution_count": 33,
     "metadata": {},
     "output_type": "execute_result"
    }
   ],
   "source": [
    "hash(\"hello\") % 4"
   ]
  },
  {
   "cell_type": "markdown",
   "metadata": {},
   "source": [
    "Now let's add more things:"
   ]
  },
  {
   "cell_type": "code",
   "execution_count": 34,
   "metadata": {},
   "outputs": [
    {
     "name": "stdout",
     "output_type": "stream",
     "text": [
      "[[], ['goodbye'], ['hello'], []]\n"
     ]
    }
   ],
   "source": [
    "ht.add(\"goodbye\")\n",
    "print(ht)"
   ]
  },
  {
   "cell_type": "code",
   "execution_count": 35,
   "metadata": {},
   "outputs": [
    {
     "name": "stdout",
     "output_type": "stream",
     "text": [
      "[[], ['goodbye'], ['hello'], ['test']]\n"
     ]
    }
   ],
   "source": [
    "ht.add(\"test\")\n",
    "print(ht)"
   ]
  },
  {
   "cell_type": "code",
   "execution_count": 36,
   "metadata": {},
   "outputs": [
    {
     "name": "stdout",
     "output_type": "stream",
     "text": [
      "[[], ['goodbye'], ['hello'], ['test', 'item']]\n"
     ]
    }
   ],
   "source": [
    "ht.add(\"item\")\n",
    "print(ht)"
   ]
  },
  {
   "cell_type": "markdown",
   "metadata": {},
   "source": [
    "- Above we have a _collision_: that is, 2 items in the same bucket.\n",
    "- If the main list is able to dynamically grow as the number of items grows, we can keep the number of collisions low.\n",
    "- This preserves the $O(1)$ operations."
   ]
  },
  {
   "cell_type": "markdown",
   "metadata": {},
   "source": [
    "## Lookup tables, Python `dict` (5 min)"
   ]
  },
  {
   "cell_type": "markdown",
   "metadata": {},
   "source": [
    "- Python's `dict` type is a dictionary (aka symbol table)\n",
    "- A dictionary should support the following operations:\n",
    "  - inserting a new element\n",
    "  - deleting an element\n",
    "  - finding an element\n",
    "- It is much like a `set` except the entries, called \"keys\", now have some data payload associated with them, which we call \"values\".\n",
    "- It is also implemented as a hash table, meaning you can expect $O(1)$ operations.\n",
    "- Only the keys are hashed, so only the keys have to be hashable.\n",
    "  - A list can be a value, but not a key."
   ]
  },
  {
   "cell_type": "code",
   "execution_count": 37,
   "metadata": {},
   "outputs": [
    {
     "data": {
      "text/plain": [
       "{5: 'a', 'b': 9}"
      ]
     },
     "execution_count": 37,
     "metadata": {},
     "output_type": "execute_result"
    }
   ],
   "source": [
    "d = dict()\n",
    "d[5] = \"a\"\n",
    "d[\"b\"] = 9\n",
    "d"
   ]
  },
  {
   "cell_type": "code",
   "execution_count": 38,
   "metadata": {},
   "outputs": [
    {
     "data": {
      "text/plain": [
       "True"
      ]
     },
     "execution_count": 38,
     "metadata": {},
     "output_type": "execute_result"
    }
   ],
   "source": [
    "5 in d"
   ]
  },
  {
   "cell_type": "code",
   "execution_count": 39,
   "metadata": {},
   "outputs": [
    {
     "data": {
      "text/plain": [
       "False"
      ]
     },
     "execution_count": 39,
     "metadata": {},
     "output_type": "execute_result"
    }
   ],
   "source": [
    "9 in d  # it only searches the keys"
   ]
  },
  {
   "cell_type": "code",
   "execution_count": 40,
   "metadata": {},
   "outputs": [
    {
     "data": {
      "text/plain": [
       "'a'"
      ]
     },
     "execution_count": 40,
     "metadata": {},
     "output_type": "execute_result"
    }
   ],
   "source": [
    "d[5]"
   ]
  },
  {
   "cell_type": "code",
   "execution_count": 41,
   "metadata": {},
   "outputs": [
    {
     "ename": "KeyError",
     "evalue": "6",
     "output_type": "error",
     "traceback": [
      "\u001b[0;31m---------------------------------------------------------------------------\u001b[0m",
      "\u001b[0;31mKeyError\u001b[0m                                  Traceback (most recent call last)",
      "\u001b[0;32m<ipython-input-41-552829480636>\u001b[0m in \u001b[0;36m<module>\u001b[0;34m\u001b[0m\n\u001b[0;32m----> 1\u001b[0;31m \u001b[0md\u001b[0m\u001b[0;34m[\u001b[0m\u001b[0;36m6\u001b[0m\u001b[0;34m]\u001b[0m\u001b[0;34m\u001b[0m\u001b[0;34m\u001b[0m\u001b[0m\n\u001b[0m",
      "\u001b[0;31mKeyError\u001b[0m: 6"
     ]
    }
   ],
   "source": [
    "d[6]"
   ]
  },
  {
   "cell_type": "markdown",
   "metadata": {},
   "source": [
    "Hashable types:"
   ]
  },
  {
   "cell_type": "code",
   "execution_count": 43,
   "metadata": {},
   "outputs": [
    {
     "ename": "TypeError",
     "evalue": "unhashable type: 'list'",
     "output_type": "error",
     "traceback": [
      "\u001b[0;31m---------------------------------------------------------------------------\u001b[0m",
      "\u001b[0;31mTypeError\u001b[0m                                 Traceback (most recent call last)",
      "\u001b[0;32m<ipython-input-43-7e97b2633680>\u001b[0m in \u001b[0;36m<module>\u001b[0;34m\u001b[0m\n\u001b[0;32m----> 1\u001b[0;31m \u001b[0md\u001b[0m\u001b[0;34m[\u001b[0m\u001b[0;34m[\u001b[0m\u001b[0;36m1\u001b[0m\u001b[0;34m,\u001b[0m\u001b[0;36m2\u001b[0m\u001b[0;34m,\u001b[0m\u001b[0;36m3\u001b[0m\u001b[0;34m]\u001b[0m\u001b[0;34m]\u001b[0m \u001b[0;34m=\u001b[0m \u001b[0;36m10\u001b[0m\u001b[0;34m\u001b[0m\u001b[0;34m\u001b[0m\u001b[0m\n\u001b[0m",
      "\u001b[0;31mTypeError\u001b[0m: unhashable type: 'list'"
     ]
    }
   ],
   "source": [
    "d[[1,2,3]] = 10"
   ]
  },
  {
   "cell_type": "code",
   "execution_count": 45,
   "metadata": {},
   "outputs": [],
   "source": [
    "d[10] = [1,2,3] # OK"
   ]
  },
  {
   "cell_type": "markdown",
   "metadata": {},
   "source": [
    "A reminder of some dictionary syntax:"
   ]
  },
  {
   "cell_type": "code",
   "execution_count": 46,
   "metadata": {},
   "outputs": [
    {
     "data": {
      "text/plain": [
       "{0: 0, 1: 2, 2: 4, 3: 6, 4: 8, 5: 10, 6: 12, 7: 14, 8: 16, 9: 18}"
      ]
     },
     "execution_count": 46,
     "metadata": {},
     "output_type": "execute_result"
    }
   ],
   "source": [
    "f = {i: i*2 for i in range(10)}\n",
    "f"
   ]
  },
  {
   "cell_type": "code",
   "execution_count": 47,
   "metadata": {},
   "outputs": [
    {
     "name": "stdout",
     "output_type": "stream",
     "text": [
      "key = 0  val = 0\n",
      "key = 1  val = 2\n",
      "key = 2  val = 4\n",
      "key = 3  val = 6\n",
      "key = 4  val = 8\n",
      "key = 5  val = 10\n",
      "key = 6  val = 12\n",
      "key = 7  val = 14\n",
      "key = 8  val = 16\n",
      "key = 9  val = 18\n"
     ]
    }
   ],
   "source": [
    "for key, val in f.items():\n",
    "    print(\"key =\", key, \" val =\", val)"
   ]
  },
  {
   "cell_type": "markdown",
   "metadata": {},
   "source": [
    "Nested dictionaries:"
   ]
  },
  {
   "cell_type": "code",
   "execution_count": 48,
   "metadata": {},
   "outputs": [
    {
     "data": {
      "text/plain": [
       "{5: {0: 0, 1: 2, 2: 4, 3: 6, 4: 8, 5: 10, 6: 12, 7: 14, 8: 16, 9: 18}}"
      ]
     },
     "execution_count": 48,
     "metadata": {},
     "output_type": "execute_result"
    }
   ],
   "source": [
    "g = dict()\n",
    "g[5] = f\n",
    "g"
   ]
  },
  {
   "cell_type": "markdown",
   "metadata": {},
   "source": [
    "## T/F questions (15 min)"
   ]
  },
  {
   "cell_type": "markdown",
   "metadata": {},
   "source": [
    "1. If I have to search inside a list $1000$ times, it is better to first sort the list and then use binary search, rather than just using linear search.\n",
    "2. The best sorting algorithms run in $O(n \\log n)$ time.\n",
    "3. The elements of a `set` are maintained in sorted order for fast searching.\n",
    "4. Searching for a key in a `dict` takes $O(1)$ time, but searching for a value takes $O(n)$.\n",
    "5. If two Python objects have different hashes, then they will end up in different buckets in the hash table."
   ]
  }
 ],
 "metadata": {
  "kernelspec": {
   "display_name": "Python 3",
   "language": "python",
   "name": "python3"
  },
  "language_info": {
   "codemirror_mode": {
    "name": "ipython",
    "version": 3
   },
   "file_extension": ".py",
   "mimetype": "text/x-python",
   "name": "python",
   "nbconvert_exporter": "python",
   "pygments_lexer": "ipython3",
   "version": "3.7.3"
  }
 },
 "nbformat": 4,
 "nbformat_minor": 4
}
