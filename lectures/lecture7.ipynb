{
 "cells": [
  {
   "cell_type": "markdown",
   "metadata": {},
   "source": [
    "# DSCI 512 Lecture 7"
   ]
  },
  {
   "cell_type": "code",
   "execution_count": 1,
   "metadata": {},
   "outputs": [],
   "source": [
    "import numpy as np\n",
    "import pandas as pd\n",
    "from collections import defaultdict\n",
    "import urllib.request"
   ]
  },
  {
   "cell_type": "code",
   "execution_count": 2,
   "metadata": {},
   "outputs": [],
   "source": [
    "import pulp\n",
    "\n",
    "# To install pulp, run `pip install pulp`"
   ]
  },
  {
   "cell_type": "markdown",
   "metadata": {},
   "source": [
    "Outline:\n",
    "\n",
    "- Discrete optimization: intro/example (20 min)\n",
    "- Constraints (5 min)\n",
    "- TA assignment example: introduction (5 min)\n",
    "- (Time permitting) Let's try solving this by hand (10 min)\n",
    "- Break (5 min)\n",
    "- Formulating an optimization problem (35 min)\n",
    "\n",
    "No time for:\n",
    "\n",
    "- Types of discrete optimization problems (5 min)\n",
    "- (Time permitting) T/F questions (10 min)"
   ]
  },
  {
   "cell_type": "markdown",
   "metadata": {},
   "source": [
    "## Discrete optimization intro/example (20 min)"
   ]
  },
  {
   "cell_type": "markdown",
   "metadata": {},
   "source": [
    "- _Optimization_ refers to maximizing or minimizing a function with respect to its inputs.\n",
    "  - For example, find the minimum of $f(x)=(x-0.9)^2$. The answer is $0$, when $x=0.9$.\n",
    "- _Discrete optimization_ refers to optimization where the variables are _discrete_ (as opposed to continuous).\n",
    "  - For example, find the minimum of $f(x)=(x-0.9)^2$ where $x$ is an integer. The answer is $0.01$, when $x=1$.\n",
    "\n",
    "\n"
   ]
  },
  {
   "cell_type": "markdown",
   "metadata": {},
   "source": [
    "#### Example problem\n",
    "\n",
    "Another example: find the length-8 string of letters (e.g. `aaaaaaaa`, `abcdefgh`, etc.) that contains the most English words in it.\n",
    "\n",
    "- Because the problem is discrete, we can count the number of \"options\" or \"configurations\".\n",
    "  - In the first case above, $x$ is any integer so there are infinitely many.\n",
    "  - In this example, if we're just using the 26 lower-case letters, we have $26^8$ possibilities."
   ]
  },
  {
   "cell_type": "code",
   "execution_count": 3,
   "metadata": {},
   "outputs": [
    {
     "data": {
      "text/plain": [
       "208827064576"
      ]
     },
     "execution_count": 3,
     "metadata": {},
     "output_type": "execute_result"
    }
   ],
   "source": [
    "26**8"
   ]
  },
  {
   "cell_type": "markdown",
   "metadata": {},
   "source": [
    "- That is a lot!\n"
   ]
  },
  {
   "cell_type": "markdown",
   "metadata": {},
   "source": [
    "If the number of possibilities is finite, you can enumerate (or list) all possible configurations (inputs).\n",
    "  - In our example, there is `aaaaaaaa`, `aaaaaaab`, `aaaaaaac`, ..., `zzzzzzzz`. \n",
    "  - This is called \"brute force search\".\n",
    "  - Often, it's not computationally feasible to search through all possible combinations because there are too many. \n",
    "  - So we need smarter algorithms that can somehow learn to ignore or \"throw away\" large numbers of possibilities without explicitly checking them."
   ]
  },
  {
   "cell_type": "markdown",
   "metadata": {},
   "source": [
    "#### Specifying an optimization problem\n",
    "\n",
    "To specify the problem, we need to specify a few things:\n",
    "\n",
    "1. A specification of the space of possible inputs.\n",
    "2. An _objective function_ which takes an input and computes a score. \n",
    "3. Are we maximizing or minimizing?\n",
    "\n",
    "In the above, the space of possible inputs is all length-8 strings. And the objective function is the number of English words in the string, and we are maximizing it. "
   ]
  },
  {
   "cell_type": "markdown",
   "metadata": {},
   "source": [
    "#### Solving an optimization problem with brute force (example)\n",
    "\n",
    "- First, let's implement the objective function in Python"
   ]
  },
  {
   "cell_type": "code",
   "execution_count": 4,
   "metadata": {},
   "outputs": [],
   "source": [
    "words_file = urllib.request.urlopen(\"https://gist.githubusercontent.com/deekayen/4148741/raw/01c6252ccc5b5fb307c1bb899c95989a8a284616/1-1000.txt\")\n",
    "word_list = {s.decode(\"utf-8\").strip().lower() for s in words_file.readlines()}"
   ]
  },
  {
   "cell_type": "code",
   "execution_count": null,
   "metadata": {},
   "outputs": [],
   "source": []
  },
  {
   "cell_type": "markdown",
   "metadata": {},
   "source": [
    "- Note on the above: we're just using the 1000 most common English words. \n",
    "- I tried a full corpus of English words but it turns out a lot of strange things are English words, like \"t\" or \"ea\"."
   ]
  },
  {
   "cell_type": "code",
   "execution_count": 7,
   "metadata": {},
   "outputs": [],
   "source": [
    "def english_words_in_string(s):\n",
    "    \"\"\"\n",
    "    Find all the English words within a string.\n",
    "    \n",
    "    Parameters\n",
    "    ----------\n",
    "    s : str\n",
    "        The input string.\n",
    "       \n",
    "    Returns\n",
    "    -------\n",
    "    set\n",
    "        The set of English words contained in s.\n",
    "        \n",
    "    Example\n",
    "    -------\n",
    "    >>> english_words_in_string(\"theapple\")\n",
    "    {'a', 'apple', 'e', 'ea', 'h', 'he', 'heap', 'l', 'p', 't', 'th', 'the'}    \n",
    "    \"\"\"\n",
    "    \n",
    "    words = set()\n",
    "    for start in range(len(s)):\n",
    "        for end in range(start+1, len(s)+1):\n",
    "            if s[start:end] in word_list:\n",
    "                words.add(s[start:end])\n",
    "    return words"
   ]
  },
  {
   "cell_type": "code",
   "execution_count": 8,
   "metadata": {},
   "outputs": [
    {
     "data": {
      "text/plain": [
       "{'a', 'apple', 'he', 'the'}"
      ]
     },
     "execution_count": 8,
     "metadata": {},
     "output_type": "execute_result"
    }
   ],
   "source": [
    "english_words_in_string(\"theapple\")"
   ]
  },
  {
   "cell_type": "markdown",
   "metadata": {},
   "source": [
    "It looks like the length-8 string `theapple` contains a bunch of words."
   ]
  },
  {
   "cell_type": "markdown",
   "metadata": {},
   "source": [
    "Next, let's implement the objective function:"
   ]
  },
  {
   "cell_type": "code",
   "execution_count": 9,
   "metadata": {},
   "outputs": [
    {
     "data": {
      "text/plain": [
       "4"
      ]
     },
     "execution_count": 9,
     "metadata": {},
     "output_type": "execute_result"
    }
   ],
   "source": [
    "def objective_fun(s):\n",
    "    \"\"\"Count the number of English words contained within a string.\"\"\"\n",
    "    return len(english_words_in_string(s))\n",
    "\n",
    "objective_fun(\"theapple\")"
   ]
  },
  {
   "cell_type": "markdown",
   "metadata": {},
   "source": [
    "The objective function for `theapple` is 4. We are trying to find the string (or strings - the solution is not always unique) that make this value as large as possible."
   ]
  },
  {
   "cell_type": "markdown",
   "metadata": {},
   "source": [
    "**Note:** For the next parts, we'll restrict ourselves to only using the first 5 letters of the alphabet (a, b, c, d, e) so that the code isn't too slow. This way we should only have"
   ]
  },
  {
   "cell_type": "code",
   "execution_count": 11,
   "metadata": {},
   "outputs": [
    {
     "data": {
      "text/plain": [
       "390625"
      ]
     },
     "execution_count": 11,
     "metadata": {},
     "output_type": "execute_result"
    }
   ],
   "source": [
    "5**8"
   ]
  },
  {
   "cell_type": "markdown",
   "metadata": {},
   "source": [
    "possibilities, which is reasonable. We'll grab this function from lab 2's optional question on weird recursive code:"
   ]
  },
  {
   "cell_type": "code",
   "execution_count": 12,
   "metadata": {},
   "outputs": [],
   "source": [
    "def get_inputs(letters, n):\n",
    "    \"\"\"\n",
    "    Return all length-n strings using letters.\n",
    "    \n",
    "    Parameters\n",
    "    ----------\n",
    "    letters : list\n",
    "        The list of letters (could be a string or a list)\n",
    "    \n",
    "    n : int\n",
    "        The desired length.\n",
    "        \n",
    "    Returns\n",
    "    -------\n",
    "    list\n",
    "        A list of the resulting strings.\n",
    "        \n",
    "    Examples\n",
    "    --------\n",
    "    get_inputs(['a', 'b', 'c'], 2)\n",
    "    ['aa', 'ab', 'ac', 'ba', 'bb', 'bc', 'ca', 'cb', 'cc']\n",
    "    \"\"\"\n",
    "    \n",
    "    if n == 0:\n",
    "        return [\"\"]\n",
    "    \n",
    "    return [letter + l for letter in letters for l in get_inputs(letters, n-1)]"
   ]
  },
  {
   "cell_type": "code",
   "execution_count": 13,
   "metadata": {},
   "outputs": [],
   "source": [
    "inputs = get_inputs(['a', 'b', 'c', 'd', 'e'], 8)"
   ]
  },
  {
   "cell_type": "code",
   "execution_count": 14,
   "metadata": {},
   "outputs": [
    {
     "data": {
      "text/plain": [
       "['aaaaaaaa',\n",
       " 'aaaaaaab',\n",
       " 'aaaaaaac',\n",
       " 'aaaaaaad',\n",
       " 'aaaaaaae',\n",
       " 'aaaaaaba',\n",
       " 'aaaaaabb',\n",
       " 'aaaaaabc',\n",
       " 'aaaaaabd',\n",
       " 'aaaaaabe']"
      ]
     },
     "execution_count": 14,
     "metadata": {},
     "output_type": "execute_result"
    }
   ],
   "source": [
    "inputs[:10] # print out the first 10"
   ]
  },
  {
   "cell_type": "code",
   "execution_count": 15,
   "metadata": {},
   "outputs": [
    {
     "data": {
      "text/plain": [
       "5"
      ]
     },
     "execution_count": 15,
     "metadata": {},
     "output_type": "execute_result"
    }
   ],
   "source": [
    "scores = list(map(objective_fun, inputs))\n",
    "np.max(scores)"
   ]
  },
  {
   "cell_type": "markdown",
   "metadata": {},
   "source": [
    "5 words using only 5 letters! Let's see what string led to this:"
   ]
  },
  {
   "cell_type": "code",
   "execution_count": 16,
   "metadata": {},
   "outputs": [
    {
     "data": {
      "text/plain": [
       "'aabedadd'"
      ]
     },
     "execution_count": 16,
     "metadata": {},
     "output_type": "execute_result"
    }
   ],
   "source": [
    "best_s = inputs[np.argmax(scores)]\n",
    "best_s"
   ]
  },
  {
   "cell_type": "markdown",
   "metadata": {},
   "source": [
    "And the words:"
   ]
  },
  {
   "cell_type": "code",
   "execution_count": 17,
   "metadata": {},
   "outputs": [
    {
     "data": {
      "text/plain": [
       "{'a', 'add', 'be', 'bed', 'dad'}"
      ]
     },
     "execution_count": 17,
     "metadata": {},
     "output_type": "execute_result"
    }
   ],
   "source": [
    "english_words_in_string(best_s)"
   ]
  },
  {
   "cell_type": "markdown",
   "metadata": {},
   "source": [
    "Can you imagine coming up with this by hand?"
   ]
  },
  {
   "cell_type": "markdown",
   "metadata": {},
   "source": [
    "We can also check if the solution is unique:"
   ]
  },
  {
   "cell_type": "code",
   "execution_count": 18,
   "metadata": {},
   "outputs": [
    {
     "data": {
      "text/plain": [
       "array([0, 0, 0, ..., 5, 5, 5])"
      ]
     },
     "execution_count": 18,
     "metadata": {},
     "output_type": "execute_result"
    }
   ],
   "source": [
    "np.sort(scores)"
   ]
  },
  {
   "cell_type": "markdown",
   "metadata": {},
   "source": [
    "Looks like the solution is not unique (we see several 5's). "
   ]
  },
  {
   "cell_type": "markdown",
   "metadata": {},
   "source": [
    "#### Another example: shortest path in a graph\n",
    "\n",
    "- Last week, we talked about finding the shortest path between two nodes $A$ and $B$ in a graph.\n",
    "- This is itself a discrete optimization problem.\n",
    "\n",
    "1. Possible inputs: all possible paths from $A$ to $B$.\n",
    "2. Objective function: the length of the path.\n",
    "3. We are minimizing."
   ]
  },
  {
   "cell_type": "markdown",
   "metadata": {},
   "source": [
    "#### Solving an optimization problem\n",
    "\n",
    "- There are many ways to go about solving an optimization problem. \n",
    "- In general, one possibility is _brute force_ in which all possible inputs are considered.\n",
    "- That's the approach we just took in our toy example above.\n",
    "- But this is often infeasible because it would be too slow.\n",
    "  - Think about $26^8$ strings.\n",
    "  - Think about all possible paths between two nodes in the Facebook graph!\n",
    "- So, the hard part about optimization is often in finding clever ways to solve the problem faster, that still give the correct solution.\n",
    "  - E.g. breadth-first search to find the shortest distance in a graph.\n",
    "  - For the English words problem, there is nothing better than brute force. But there often is.\n",
    "- The other hard part can be coverting a conceptual idea into the right mathematical form as an optimization problem. This is called _formulating_ the problem."
   ]
  },
  {
   "cell_type": "markdown",
   "metadata": {},
   "source": [
    "## Constraints (5 min)\n",
    "\n",
    "- A popular way of expressing the space of possible inputs is to put _constraints_ on the possibilities.\n",
    "- Example: all length-8 strings such that each letter appears at most twice.\n",
    "  - `aabbccdd` is valid, `abcdefgh` is valid, but `aaabbbcc` is _not_ valid (\"violates the constraint\").\n",
    "- You could say that this is just a change in the possible inputs, and it is.\n",
    "  - But, because of how these problems are solved under the hood, we often think of constraints as a separate thing.\n",
    "  "
   ]
  },
  {
   "cell_type": "markdown",
   "metadata": {},
   "source": [
    "(Updated) To specify an optimization problem, we need to specify a few things:\n",
    "\n",
    "1. A specification of the space of possible inputs.\n",
    "2. An _objective function_ which takes an input and computes a score. \n",
    "4. (Optional) A set of _constraints_, which take an input and return true/false.\n",
    "3. Are we maximizing or minimizing?"
   ]
  },
  {
   "cell_type": "code",
   "execution_count": 19,
   "metadata": {},
   "outputs": [],
   "source": [
    "def characters_appear_at_most_twice(s, n=2):\n",
    "    \"\"\"\n",
    "    Checks whether all characters appear at most n times in s.\n",
    "    If any character appears n+1 or more times, returns False.\n",
    "    \n",
    "    Parameters\n",
    "    ----------\n",
    "    s : str\n",
    "        The input string\n",
    "    n : int, optional\n",
    "        The maximum number of times a character is allowed to appear (default: 2)\n",
    "        \n",
    "    Returns\n",
    "    -------\n",
    "    bool\n",
    "        Whether or not all characters appear at most twice\n",
    "        \n",
    "    Examples\n",
    "    --------\n",
    "    >>> characters_appear_at_most_twice(\"aabbccdef\")\n",
    "    True\n",
    "    >>> characters_appear_at_most_twice(\"aaa\")\n",
    "    False\n",
    "    >>> characters_appear_at_most_twice(\"aaa\", 5)\n",
    "    True\n",
    "    \"\"\"\n",
    "    \n",
    "    return max(s.count(char) for char in s) <= n"
   ]
  },
  {
   "cell_type": "code",
   "execution_count": 20,
   "metadata": {},
   "outputs": [],
   "source": [
    "assert characters_appear_at_most_twice(\"aabbccdef\")\n",
    "assert not characters_appear_at_most_twice(\"aaa\")\n",
    "assert characters_appear_at_most_twice(\"aaa\", 5)"
   ]
  },
  {
   "cell_type": "markdown",
   "metadata": {},
   "source": [
    "Now we can solve the _constrained optimization problem_:"
   ]
  },
  {
   "cell_type": "code",
   "execution_count": 21,
   "metadata": {},
   "outputs": [
    {
     "data": {
      "text/plain": [
       "['aaaaaaaa',\n",
       " 'aaaaaaab',\n",
       " 'aaaaaaac',\n",
       " 'aaaaaaad',\n",
       " 'aaaaaaae',\n",
       " 'aaaaaaba',\n",
       " 'aaaaaabb',\n",
       " 'aaaaaabc',\n",
       " 'aaaaaabd',\n",
       " 'aaaaaabe']"
      ]
     },
     "execution_count": 21,
     "metadata": {},
     "output_type": "execute_result"
    }
   ],
   "source": [
    "inputs[:10] # the ones from before"
   ]
  },
  {
   "cell_type": "code",
   "execution_count": 22,
   "metadata": {},
   "outputs": [],
   "source": [
    "constrained_inputs = [s for s in inputs if characters_appear_at_most_twice(s)]"
   ]
  },
  {
   "cell_type": "code",
   "execution_count": 23,
   "metadata": {},
   "outputs": [
    {
     "data": {
      "text/plain": [
       "390625"
      ]
     },
     "execution_count": 23,
     "metadata": {},
     "output_type": "execute_result"
    }
   ],
   "source": [
    "len(inputs)"
   ]
  },
  {
   "cell_type": "code",
   "execution_count": 24,
   "metadata": {},
   "outputs": [
    {
     "data": {
      "text/plain": [
       "63000"
      ]
     },
     "execution_count": 24,
     "metadata": {},
     "output_type": "execute_result"
    }
   ],
   "source": [
    "len(constrained_inputs)"
   ]
  },
  {
   "cell_type": "code",
   "execution_count": 25,
   "metadata": {},
   "outputs": [
    {
     "data": {
      "text/plain": [
       "['aabbccdd',\n",
       " 'aabbccde',\n",
       " 'aabbcced',\n",
       " 'aabbccee',\n",
       " 'aabbcdcd',\n",
       " 'aabbcdce',\n",
       " 'aabbcddc',\n",
       " 'aabbcdde',\n",
       " 'aabbcdec',\n",
       " 'aabbcded']"
      ]
     },
     "execution_count": 25,
     "metadata": {},
     "output_type": "execute_result"
    }
   ],
   "source": [
    "constrained_inputs[:10]"
   ]
  },
  {
   "cell_type": "code",
   "execution_count": 26,
   "metadata": {},
   "outputs": [
    {
     "data": {
      "text/plain": [
       "4"
      ]
     },
     "execution_count": 26,
     "metadata": {},
     "output_type": "execute_result"
    }
   ],
   "source": [
    "constrained_scores = list(map(objective_fun, constrained_inputs))\n",
    "np.max(constrained_scores)"
   ]
  },
  {
   "cell_type": "code",
   "execution_count": 27,
   "metadata": {},
   "outputs": [
    {
     "data": {
      "text/plain": [
       "'abadbedc'"
      ]
     },
     "execution_count": 27,
     "metadata": {},
     "output_type": "execute_result"
    }
   ],
   "source": [
    "constrained_best_s = constrained_inputs[np.argmax(constrained_scores)]\n",
    "constrained_best_s"
   ]
  },
  {
   "cell_type": "code",
   "execution_count": 28,
   "metadata": {},
   "outputs": [
    {
     "data": {
      "text/plain": [
       "{'a', 'bad', 'be', 'bed'}"
      ]
     },
     "execution_count": 28,
     "metadata": {},
     "output_type": "execute_result"
    }
   ],
   "source": [
    "english_words_in_string(constrained_best_s)"
   ]
  },
  {
   "cell_type": "markdown",
   "metadata": {},
   "source": [
    "Some things to note:\n",
    "\n",
    "- The constrained optimum can be equal to, or worse than, the unconstrained optimum.\n",
    "  - In this case it was worse - we got 4 words instead of 5 by not allowing repeats. \n",
    "- The solution to the constrained problem might be completely different from the unconstrained.\n",
    "  - For example, here we don't have just 4 of the original 5 words - we have a new word, \"bad'.\n",
    "- It is possible to have multiple constraints.\n",
    "  - In this case we only had one constraint.\n",
    "  - In general, for an input to be valid, _all_ the constraints must be satisfied. \n",
    "  - For example: each letter appears at most twice AND the string is a palindrome AND it does not contain the substring \"ab\" (3 constraints)."
   ]
  },
  {
   "cell_type": "markdown",
   "metadata": {},
   "source": [
    "## TA assignment example: introduction (5 min)\n",
    "\n",
    "Consider the problem of assigning TAs to labs in MDS."
   ]
  },
  {
   "cell_type": "code",
   "execution_count": 3,
   "metadata": {},
   "outputs": [
    {
     "data": {
      "text/html": [
       "<div>\n",
       "<style scoped>\n",
       "    .dataframe tbody tr th:only-of-type {\n",
       "        vertical-align: middle;\n",
       "    }\n",
       "\n",
       "    .dataframe tbody tr th {\n",
       "        vertical-align: top;\n",
       "    }\n",
       "\n",
       "    .dataframe thead th {\n",
       "        text-align: right;\n",
       "    }\n",
       "</style>\n",
       "<table border=\"1\" class=\"dataframe\">\n",
       "  <thead>\n",
       "    <tr style=\"text-align: right;\">\n",
       "      <th></th>\n",
       "      <th>availability</th>\n",
       "      <th>R_proficiency</th>\n",
       "      <th>python_proficiency</th>\n",
       "      <th>can_teach</th>\n",
       "      <th>enthusiastic</th>\n",
       "    </tr>\n",
       "    <tr>\n",
       "      <th>name</th>\n",
       "      <th></th>\n",
       "      <th></th>\n",
       "      <th></th>\n",
       "      <th></th>\n",
       "      <th></th>\n",
       "    </tr>\n",
       "  </thead>\n",
       "  <tbody>\n",
       "    <tr>\n",
       "      <td>Alice</td>\n",
       "      <td>MT</td>\n",
       "      <td>competent</td>\n",
       "      <td>expert</td>\n",
       "      <td>[542, 551, 552]</td>\n",
       "      <td>[511, 571, 513]</td>\n",
       "    </tr>\n",
       "    <tr>\n",
       "      <td>Bob</td>\n",
       "      <td>MTWR</td>\n",
       "      <td>competent</td>\n",
       "      <td>none</td>\n",
       "      <td>[551, 523, 531, 552, 561]</td>\n",
       "      <td>[551, 523, 561]</td>\n",
       "    </tr>\n",
       "    <tr>\n",
       "      <td>Carol</td>\n",
       "      <td>M</td>\n",
       "      <td>expert</td>\n",
       "      <td>expert</td>\n",
       "      <td>[542, 551, 523, 552, 571]</td>\n",
       "      <td>[551, 552, 571]</td>\n",
       "    </tr>\n",
       "    <tr>\n",
       "      <td>Chuck</td>\n",
       "      <td>MW</td>\n",
       "      <td>expert</td>\n",
       "      <td>beginner</td>\n",
       "      <td>[511, 551, 531, 561]</td>\n",
       "      <td>[521, 542, 523]</td>\n",
       "    </tr>\n",
       "    <tr>\n",
       "      <td>Dan</td>\n",
       "      <td>MTR</td>\n",
       "      <td>expert</td>\n",
       "      <td>expert</td>\n",
       "      <td>[511, 521, 512, 552, 532]</td>\n",
       "      <td>[521, 512, 552]</td>\n",
       "    </tr>\n",
       "    <tr>\n",
       "      <td>Erin</td>\n",
       "      <td>R</td>\n",
       "      <td>expert</td>\n",
       "      <td>expert</td>\n",
       "      <td>[512, 532, 513]</td>\n",
       "      <td>[512, 513]</td>\n",
       "    </tr>\n",
       "    <tr>\n",
       "      <td>Faith</td>\n",
       "      <td>MTWR</td>\n",
       "      <td>competent</td>\n",
       "      <td>expert</td>\n",
       "      <td>[511, 521, 523, 531, 512]</td>\n",
       "      <td>[521, 512, 513]</td>\n",
       "    </tr>\n",
       "    <tr>\n",
       "      <td>Grace</td>\n",
       "      <td>M</td>\n",
       "      <td>beginner</td>\n",
       "      <td>expert</td>\n",
       "      <td>[521, 523, 512]</td>\n",
       "      <td>[511]</td>\n",
       "    </tr>\n",
       "    <tr>\n",
       "      <td>Heidi</td>\n",
       "      <td>TWR</td>\n",
       "      <td>expert</td>\n",
       "      <td>competent</td>\n",
       "      <td>[531]</td>\n",
       "      <td>[511, 551, 523, 552, 561]</td>\n",
       "    </tr>\n",
       "    <tr>\n",
       "      <td>Ivan</td>\n",
       "      <td>MTW</td>\n",
       "      <td>expert</td>\n",
       "      <td>none</td>\n",
       "      <td>[542, 551, 532, 571]</td>\n",
       "      <td>[511, 521]</td>\n",
       "    </tr>\n",
       "  </tbody>\n",
       "</table>\n",
       "</div>"
      ],
      "text/plain": [
       "      availability R_proficiency python_proficiency  \\\n",
       "name                                                  \n",
       "Alice           MT     competent             expert   \n",
       "Bob           MTWR     competent               none   \n",
       "Carol            M        expert             expert   \n",
       "Chuck           MW        expert           beginner   \n",
       "Dan            MTR        expert             expert   \n",
       "Erin             R        expert             expert   \n",
       "Faith         MTWR     competent             expert   \n",
       "Grace            M      beginner             expert   \n",
       "Heidi          TWR        expert          competent   \n",
       "Ivan           MTW        expert               none   \n",
       "\n",
       "                       can_teach               enthusiastic  \n",
       "name                                                         \n",
       "Alice            [542, 551, 552]            [511, 571, 513]  \n",
       "Bob    [551, 523, 531, 552, 561]            [551, 523, 561]  \n",
       "Carol  [542, 551, 523, 552, 571]            [551, 552, 571]  \n",
       "Chuck       [511, 551, 531, 561]            [521, 542, 523]  \n",
       "Dan    [511, 521, 512, 552, 532]            [521, 512, 552]  \n",
       "Erin             [512, 532, 513]                 [512, 513]  \n",
       "Faith  [511, 521, 523, 531, 512]            [521, 512, 513]  \n",
       "Grace            [521, 523, 512]                      [511]  \n",
       "Heidi                      [531]  [511, 551, 523, 552, 561]  \n",
       "Ivan        [542, 551, 532, 571]                 [511, 521]  "
      ]
     },
     "execution_count": 3,
     "metadata": {},
     "output_type": "execute_result"
    }
   ],
   "source": [
    "TAs_df = pd.read_csv(\"data/TA_apps.csv\").set_index(\"name\")\n",
    "str_to_list = lambda s: list(map(int,s.split(\",\")))\n",
    "TAs_df[\"can_teach\"   ] = TAs_df[\"can_teach\"  ].apply(str_to_list)\n",
    "TAs_df[\"enthusiastic\"] = TAs_df[\"enthusiastic\"].apply(str_to_list)\n",
    "TAs_df"
   ]
  },
  {
   "cell_type": "code",
   "execution_count": 4,
   "metadata": {},
   "outputs": [],
   "source": [
    "TAs = TAs_df.index.values.tolist()"
   ]
  },
  {
   "cell_type": "code",
   "execution_count": 5,
   "metadata": {},
   "outputs": [
    {
     "data": {
      "text/html": [
       "<div>\n",
       "<style scoped>\n",
       "    .dataframe tbody tr th:only-of-type {\n",
       "        vertical-align: middle;\n",
       "    }\n",
       "\n",
       "    .dataframe tbody tr th {\n",
       "        vertical-align: top;\n",
       "    }\n",
       "\n",
       "    .dataframe thead th {\n",
       "        text-align: right;\n",
       "    }\n",
       "</style>\n",
       "<table border=\"1\" class=\"dataframe\">\n",
       "  <thead>\n",
       "    <tr style=\"text-align: right;\">\n",
       "      <th></th>\n",
       "      <th>course_title</th>\n",
       "      <th>slug</th>\n",
       "      <th>block</th>\n",
       "      <th>primary_lang</th>\n",
       "      <th>lab_days</th>\n",
       "    </tr>\n",
       "    <tr>\n",
       "      <th>course_number</th>\n",
       "      <th></th>\n",
       "      <th></th>\n",
       "      <th></th>\n",
       "      <th></th>\n",
       "      <th></th>\n",
       "    </tr>\n",
       "  </thead>\n",
       "  <tbody>\n",
       "    <tr>\n",
       "      <td>511</td>\n",
       "      <td>Programming for Data Science</td>\n",
       "      <td>prog-dsci</td>\n",
       "      <td>1</td>\n",
       "      <td>both</td>\n",
       "      <td>WR</td>\n",
       "    </tr>\n",
       "    <tr>\n",
       "      <td>521</td>\n",
       "      <td>Computing Platforms for Data Science</td>\n",
       "      <td>platforms-dsci</td>\n",
       "      <td>1</td>\n",
       "      <td>both</td>\n",
       "      <td>MT</td>\n",
       "    </tr>\n",
       "    <tr>\n",
       "      <td>542</td>\n",
       "      <td>Communication and Argumentation</td>\n",
       "      <td>comm-arg</td>\n",
       "      <td>1</td>\n",
       "      <td>none</td>\n",
       "      <td>WR</td>\n",
       "    </tr>\n",
       "    <tr>\n",
       "      <td>551</td>\n",
       "      <td>Descriptive Statistics and Probability for Dat...</td>\n",
       "      <td>stat-prob-dsci</td>\n",
       "      <td>1</td>\n",
       "      <td>none</td>\n",
       "      <td>MT</td>\n",
       "    </tr>\n",
       "    <tr>\n",
       "      <td>512</td>\n",
       "      <td>Algorithms and Data Structures</td>\n",
       "      <td>alg-data-struct</td>\n",
       "      <td>2</td>\n",
       "      <td>python</td>\n",
       "      <td>WR</td>\n",
       "    </tr>\n",
       "    <tr>\n",
       "      <td>523</td>\n",
       "      <td>Data Wrangling</td>\n",
       "      <td>data-wrangling</td>\n",
       "      <td>2</td>\n",
       "      <td>R</td>\n",
       "      <td>WR</td>\n",
       "    </tr>\n",
       "    <tr>\n",
       "      <td>531</td>\n",
       "      <td>Data Visualization I</td>\n",
       "      <td>viz-1</td>\n",
       "      <td>2</td>\n",
       "      <td>both</td>\n",
       "      <td>MT</td>\n",
       "    </tr>\n",
       "    <tr>\n",
       "      <td>552</td>\n",
       "      <td>Statistical Inference and Computation I</td>\n",
       "      <td>stat-inf-1</td>\n",
       "      <td>2</td>\n",
       "      <td>R</td>\n",
       "      <td>MT</td>\n",
       "    </tr>\n",
       "    <tr>\n",
       "      <td>513</td>\n",
       "      <td>Databases and Data Retrieval</td>\n",
       "      <td>database-data-retr</td>\n",
       "      <td>3</td>\n",
       "      <td>both</td>\n",
       "      <td>WR</td>\n",
       "    </tr>\n",
       "    <tr>\n",
       "      <td>561</td>\n",
       "      <td>Regression I</td>\n",
       "      <td>regr-1</td>\n",
       "      <td>3</td>\n",
       "      <td>R</td>\n",
       "      <td>MT</td>\n",
       "    </tr>\n",
       "    <tr>\n",
       "      <td>571</td>\n",
       "      <td>Supervised Learning I</td>\n",
       "      <td>sup-learn-1</td>\n",
       "      <td>3</td>\n",
       "      <td>python</td>\n",
       "      <td>MT</td>\n",
       "    </tr>\n",
       "    <tr>\n",
       "      <td>532</td>\n",
       "      <td>Data Visualization II</td>\n",
       "      <td>viz-2</td>\n",
       "      <td>3</td>\n",
       "      <td>both</td>\n",
       "      <td>WR</td>\n",
       "    </tr>\n",
       "  </tbody>\n",
       "</table>\n",
       "</div>"
      ],
      "text/plain": [
       "                                                    course_title  \\\n",
       "course_number                                                      \n",
       "511                                 Programming for Data Science   \n",
       "521                         Computing Platforms for Data Science   \n",
       "542                              Communication and Argumentation   \n",
       "551            Descriptive Statistics and Probability for Dat...   \n",
       "512                               Algorithms and Data Structures   \n",
       "523                                               Data Wrangling   \n",
       "531                                         Data Visualization I   \n",
       "552                      Statistical Inference and Computation I   \n",
       "513                                 Databases and Data Retrieval   \n",
       "561                                                 Regression I   \n",
       "571                                        Supervised Learning I   \n",
       "532                                        Data Visualization II   \n",
       "\n",
       "                             slug  block primary_lang lab_days  \n",
       "course_number                                                   \n",
       "511                     prog-dsci      1         both       WR  \n",
       "521                platforms-dsci      1         both       MT  \n",
       "542                      comm-arg      1         none       WR  \n",
       "551                stat-prob-dsci      1         none       MT  \n",
       "512               alg-data-struct      2       python       WR  \n",
       "523                data-wrangling      2            R       WR  \n",
       "531                         viz-1      2         both       MT  \n",
       "552                    stat-inf-1      2            R       MT  \n",
       "513            database-data-retr      3         both       WR  \n",
       "561                        regr-1      3            R       MT  \n",
       "571                   sup-learn-1      3       python       MT  \n",
       "532                         viz-2      3         both       WR  "
      ]
     },
     "execution_count": 5,
     "metadata": {},
     "output_type": "execute_result"
    }
   ],
   "source": [
    "courses_df = pd.read_csv(\"data/MDS_courses_term_1.csv\").set_index(\"course_number\")\n",
    "courses_df"
   ]
  },
  {
   "cell_type": "code",
   "execution_count": 6,
   "metadata": {},
   "outputs": [],
   "source": [
    "courses = courses_df.index.values.tolist()"
   ]
  },
  {
   "cell_type": "code",
   "execution_count": 7,
   "metadata": {},
   "outputs": [],
   "source": [
    "blocks = set(courses_df[\"block\"])"
   ]
  },
  {
   "cell_type": "markdown",
   "metadata": {},
   "source": [
    "Goal: match TAs to courses so that our staffing needs are covered in the best way possible.\n",
    "\n",
    "Ok, let's make this more concrete. Here are the **constraints**:\n",
    "\n",
    "- Each course should be assigned exactly 2 TAs.\n",
    "- A TA can only cover one course at a time (i.e., in a given block).\n",
    "- A TA can only be assigned to a course they have listed as \"can teach\" or \"enthusiastic to teach\".\n",
    "- To cover a course, the TA must be available for one of the two lab days (for simplicity - this does not quite guarantee lab coverage).\n",
    "\n",
    "And here is the **objective**:\n",
    "\n",
    "- We want to maximize the number of assigned courses that TAs are enthusiastic about."
   ]
  },
  {
   "cell_type": "markdown",
   "metadata": {},
   "source": [
    "## (Time permitting) Let's try solving this by hand (10 min)\n",
    "\n",
    "(on the whiteboard)\n",
    "\n",
    "If current time < 10:05am, then we have time for this. Else skip."
   ]
  },
  {
   "cell_type": "markdown",
   "metadata": {},
   "source": [
    "## Break (5 min)"
   ]
  },
  {
   "cell_type": "markdown",
   "metadata": {},
   "source": [
    "## Formulating an optimization problem (35 min)"
   ]
  },
  {
   "cell_type": "markdown",
   "metadata": {},
   "source": [
    "#### Are we maximizing or minimizing?\n",
    "\n",
    "We are maximizing."
   ]
  },
  {
   "cell_type": "code",
   "execution_count": 57,
   "metadata": {},
   "outputs": [],
   "source": [
    "prob = pulp.LpProblem(\"TA assignments\", pulp.LpMaximize)"
   ]
  },
  {
   "cell_type": "markdown",
   "metadata": {},
   "source": [
    "#### Setting up the decision variables"
   ]
  },
  {
   "cell_type": "markdown",
   "metadata": {},
   "source": [
    "- For this problem, what are our _decision variables_? \n",
    "- Turns out such problems are best handled with _binary variables_.\n",
    "\n",
    "Let $x_{ij}$ be $1$ if TA $i$ is assigned to course $j$, and 0 otherwise."
   ]
  },
  {
   "cell_type": "code",
   "execution_count": 58,
   "metadata": {},
   "outputs": [
    {
     "data": {
      "text/html": [
       "<div>\n",
       "<style scoped>\n",
       "    .dataframe tbody tr th:only-of-type {\n",
       "        vertical-align: middle;\n",
       "    }\n",
       "\n",
       "    .dataframe tbody tr th {\n",
       "        vertical-align: top;\n",
       "    }\n",
       "\n",
       "    .dataframe thead th {\n",
       "        text-align: right;\n",
       "    }\n",
       "</style>\n",
       "<table border=\"1\" class=\"dataframe\">\n",
       "  <thead>\n",
       "    <tr style=\"text-align: right;\">\n",
       "      <th></th>\n",
       "      <th>511</th>\n",
       "      <th>521</th>\n",
       "      <th>542</th>\n",
       "      <th>551</th>\n",
       "      <th>512</th>\n",
       "      <th>523</th>\n",
       "      <th>531</th>\n",
       "      <th>552</th>\n",
       "      <th>513</th>\n",
       "      <th>561</th>\n",
       "      <th>571</th>\n",
       "      <th>532</th>\n",
       "    </tr>\n",
       "  </thead>\n",
       "  <tbody>\n",
       "    <tr>\n",
       "      <td>Alice</td>\n",
       "      <td>0</td>\n",
       "      <td>0</td>\n",
       "      <td>0</td>\n",
       "      <td>0</td>\n",
       "      <td>0</td>\n",
       "      <td>0</td>\n",
       "      <td>0</td>\n",
       "      <td>0</td>\n",
       "      <td>1</td>\n",
       "      <td>0</td>\n",
       "      <td>0</td>\n",
       "      <td>1</td>\n",
       "    </tr>\n",
       "    <tr>\n",
       "      <td>Bob</td>\n",
       "      <td>1</td>\n",
       "      <td>0</td>\n",
       "      <td>0</td>\n",
       "      <td>0</td>\n",
       "      <td>0</td>\n",
       "      <td>0</td>\n",
       "      <td>1</td>\n",
       "      <td>0</td>\n",
       "      <td>0</td>\n",
       "      <td>0</td>\n",
       "      <td>1</td>\n",
       "      <td>1</td>\n",
       "    </tr>\n",
       "    <tr>\n",
       "      <td>Carol</td>\n",
       "      <td>0</td>\n",
       "      <td>0</td>\n",
       "      <td>0</td>\n",
       "      <td>0</td>\n",
       "      <td>1</td>\n",
       "      <td>0</td>\n",
       "      <td>0</td>\n",
       "      <td>0</td>\n",
       "      <td>1</td>\n",
       "      <td>0</td>\n",
       "      <td>1</td>\n",
       "      <td>0</td>\n",
       "    </tr>\n",
       "    <tr>\n",
       "      <td>Chuck</td>\n",
       "      <td>0</td>\n",
       "      <td>0</td>\n",
       "      <td>0</td>\n",
       "      <td>0</td>\n",
       "      <td>1</td>\n",
       "      <td>1</td>\n",
       "      <td>1</td>\n",
       "      <td>0</td>\n",
       "      <td>0</td>\n",
       "      <td>1</td>\n",
       "      <td>0</td>\n",
       "      <td>1</td>\n",
       "    </tr>\n",
       "    <tr>\n",
       "      <td>Dan</td>\n",
       "      <td>0</td>\n",
       "      <td>0</td>\n",
       "      <td>0</td>\n",
       "      <td>0</td>\n",
       "      <td>1</td>\n",
       "      <td>0</td>\n",
       "      <td>0</td>\n",
       "      <td>0</td>\n",
       "      <td>0</td>\n",
       "      <td>0</td>\n",
       "      <td>1</td>\n",
       "      <td>0</td>\n",
       "    </tr>\n",
       "    <tr>\n",
       "      <td>Erin</td>\n",
       "      <td>0</td>\n",
       "      <td>1</td>\n",
       "      <td>0</td>\n",
       "      <td>1</td>\n",
       "      <td>0</td>\n",
       "      <td>0</td>\n",
       "      <td>0</td>\n",
       "      <td>1</td>\n",
       "      <td>1</td>\n",
       "      <td>0</td>\n",
       "      <td>0</td>\n",
       "      <td>0</td>\n",
       "    </tr>\n",
       "    <tr>\n",
       "      <td>Faith</td>\n",
       "      <td>1</td>\n",
       "      <td>0</td>\n",
       "      <td>0</td>\n",
       "      <td>0</td>\n",
       "      <td>0</td>\n",
       "      <td>0</td>\n",
       "      <td>0</td>\n",
       "      <td>1</td>\n",
       "      <td>0</td>\n",
       "      <td>0</td>\n",
       "      <td>0</td>\n",
       "      <td>0</td>\n",
       "    </tr>\n",
       "    <tr>\n",
       "      <td>Grace</td>\n",
       "      <td>1</td>\n",
       "      <td>0</td>\n",
       "      <td>1</td>\n",
       "      <td>0</td>\n",
       "      <td>0</td>\n",
       "      <td>0</td>\n",
       "      <td>0</td>\n",
       "      <td>0</td>\n",
       "      <td>0</td>\n",
       "      <td>0</td>\n",
       "      <td>0</td>\n",
       "      <td>0</td>\n",
       "    </tr>\n",
       "    <tr>\n",
       "      <td>Heidi</td>\n",
       "      <td>0</td>\n",
       "      <td>0</td>\n",
       "      <td>0</td>\n",
       "      <td>0</td>\n",
       "      <td>0</td>\n",
       "      <td>1</td>\n",
       "      <td>0</td>\n",
       "      <td>0</td>\n",
       "      <td>0</td>\n",
       "      <td>0</td>\n",
       "      <td>0</td>\n",
       "      <td>0</td>\n",
       "    </tr>\n",
       "    <tr>\n",
       "      <td>Ivan</td>\n",
       "      <td>0</td>\n",
       "      <td>0</td>\n",
       "      <td>1</td>\n",
       "      <td>0</td>\n",
       "      <td>1</td>\n",
       "      <td>0</td>\n",
       "      <td>0</td>\n",
       "      <td>0</td>\n",
       "      <td>0</td>\n",
       "      <td>0</td>\n",
       "      <td>0</td>\n",
       "      <td>0</td>\n",
       "    </tr>\n",
       "  </tbody>\n",
       "</table>\n",
       "</div>"
      ],
      "text/plain": [
       "       511  521  542  551  512  523  531  552  513  561  571  532\n",
       "Alice    0    0    0    0    0    0    0    0    1    0    0    1\n",
       "Bob      1    0    0    0    0    0    1    0    0    0    1    1\n",
       "Carol    0    0    0    0    1    0    0    0    1    0    1    0\n",
       "Chuck    0    0    0    0    1    1    1    0    0    1    0    1\n",
       "Dan      0    0    0    0    1    0    0    0    0    0    1    0\n",
       "Erin     0    1    0    1    0    0    0    1    1    0    0    0\n",
       "Faith    1    0    0    0    0    0    0    1    0    0    0    0\n",
       "Grace    1    0    1    0    0    0    0    0    0    0    0    0\n",
       "Heidi    0    0    0    0    0    1    0    0    0    0    0    0\n",
       "Ivan     0    0    1    0    1    0    0    0    0    0    0    0"
      ]
     },
     "execution_count": 58,
     "metadata": {},
     "output_type": "execute_result"
    }
   ],
   "source": [
    "x_df = pd.DataFrame(data=(np.random.rand(len(TAs),len(courses))<.2).astype(int), index=TAs, columns=courses)\n",
    "x_df"
   ]
  },
  {
   "cell_type": "markdown",
   "metadata": {},
   "source": [
    "**NOTE**: this table is not used for solving the problem below - it is only for illustration!"
   ]
  },
  {
   "cell_type": "code",
   "execution_count": 59,
   "metadata": {},
   "outputs": [],
   "source": [
    "x = pulp.LpVariable.dicts(\"x\", (TAs, courses), 0, 1, pulp.LpInteger) "
   ]
  },
  {
   "cell_type": "markdown",
   "metadata": {},
   "source": [
    "How many possible tables are there?"
   ]
  },
  {
   "cell_type": "code",
   "execution_count": 60,
   "metadata": {},
   "outputs": [
    {
     "data": {
      "text/plain": [
       "120"
      ]
     },
     "execution_count": 60,
     "metadata": {},
     "output_type": "execute_result"
    }
   ],
   "source": [
    "num_entries = len(TAs) * len(courses)\n",
    "num_entries"
   ]
  },
  {
   "cell_type": "code",
   "execution_count": 61,
   "metadata": {},
   "outputs": [
    {
     "data": {
      "text/plain": [
       "1329227995784915872903807060280344576"
      ]
     },
     "execution_count": 61,
     "metadata": {},
     "output_type": "execute_result"
    }
   ],
   "source": [
    "2**num_entries"
   ]
  },
  {
   "cell_type": "markdown",
   "metadata": {},
   "source": [
    "**(Optional)** Is our formulation \"efficient\" ?\n",
    "\n",
    "- With $12$ courses and $2$ TAs per course, there are 24 \"spots\" and $10$ possible TAs per spot:"
   ]
  },
  {
   "cell_type": "code",
   "execution_count": 62,
   "metadata": {},
   "outputs": [
    {
     "data": {
      "text/plain": [
       "1000000000000000000000000"
      ]
     },
     "execution_count": 62,
     "metadata": {},
     "output_type": "execute_result"
    }
   ],
   "source": [
    "TAS_PER_COURSE = 2\n",
    "\n",
    "len(TAs)**(len(courses)*TAS_PER_COURSE)"
   ]
  },
  {
   "cell_type": "markdown",
   "metadata": {},
   "source": [
    "- Our formulation with binary variables has _more_ configurations because it doesn't have the \"2 TAs per course\" constraint hardwired into it. \n",
    "- This seems \"redundant\" but is actually the way to go because it allows us to use PuLP. \n",
    "- Even though we generate a situation with so many more possibilities, this is still the best approach.\n",
    "\n",
    "(end optional)"
   ]
  },
  {
   "cell_type": "markdown",
   "metadata": {},
   "source": [
    "#### Setting up the constraints"
   ]
  },
  {
   "cell_type": "markdown",
   "metadata": {},
   "source": [
    "We now have to change our English constraints into constraints on $x$:\n",
    "\n",
    "_Each course should be assigned exactly 2 TAs._\n",
    "  - For all courses $j$, we require $\\sum_i x_{ij} = 2$\n",
    "  - That is, the sum of TAs for DSCI 511 equals 2, the sum of TAs for DSCI 521 equals 2, ...\n"
   ]
  },
  {
   "cell_type": "code",
   "execution_count": 63,
   "metadata": {},
   "outputs": [],
   "source": [
    "for course in courses:\n",
    "    prob += ( pulp.lpSum(x[TA][course] for TA in TAs) == TAS_PER_COURSE )"
   ]
  },
  {
   "cell_type": "code",
   "execution_count": 64,
   "metadata": {},
   "outputs": [
    {
     "name": "stdout",
     "output_type": "stream",
     "text": [
      "TA assignments:\n",
      "MAXIMIZE\n",
      "None\n",
      "SUBJECT TO\n",
      "_C1: x_Alice_511 + x_Bob_511 + x_Carol_511 + x_Chuck_511 + x_Dan_511\n",
      " + x_Erin_511 + x_Faith_511 + x_Grace_511 + x_Heidi_511 + x_Ivan_511 = 2\n",
      "\n",
      "_C2: x_Alice_521 + x_Bob_521 + x_Carol_521 + x_Chuck_521 + x_Dan_521\n",
      " + x_Erin_521 + x_Faith_521 + x_Grace_521 + x_Heidi_521 + x_Ivan_521 = 2\n",
      "\n",
      "_C3: x_Alice_542 + x_Bob_542 + x_Carol_542 + x_Chuck_542 + x_Dan_542\n",
      " + x_Erin_542 + x_Faith_542 + x_Grace_542 + x_Heidi_542 + x_Ivan_542 = 2\n",
      "\n",
      "_C4: x_Alice_551 + x_Bob_551 + x_Carol_551 + x_Chuck_551 + x_Dan_551\n",
      " + x_Erin_551 + x_Faith_551 + x_Grace_551 + x_Heidi_551 + x_Ivan_551 = 2\n",
      "\n",
      "_C5: x_Alice_512 + x_Bob_512 + x_Carol_512 + x_Chuck_512 + x_Dan_512\n",
      " + x_Erin_512 + x_Faith_512 + x_Grace_512 + x_Heidi_512 + x_Ivan_512 = 2\n",
      "\n",
      "_C6: x_Alice_523 + x_Bob_523 + x_Carol_523 + x_Chuck_523 + x_Dan_523\n",
      " + x_Erin_523 + x_Faith_523 + x_Grace_523 + x_Heidi_523 + x_Ivan_523 = 2\n",
      "\n",
      "_C7: x_Alice_531 + x_Bob_531 + x_Carol_531 + x_Chuck_531 + x_Dan_531\n",
      " + x_Erin_531 + x_Faith_531 + x_Grace_531 + x_Heidi_531 + x_Ivan_531 = 2\n",
      "\n",
      "_C8: x_Alice_552 + x_Bob_552 + x_Carol_552 + x_Chuck_552 + x_Dan_552\n",
      " + x_Erin_552 + x_Faith_552 + x_Grace_552 + x_Heidi_552 + x_Ivan_552 = 2\n",
      "\n",
      "_C9: x_Alice_513 + x_Bob_513 + x_Carol_513 + x_Chuck_513 + x_Dan_513\n",
      " + x_Erin_513 + x_Faith_513 + x_Grace_513 + x_Heidi_513 + x_Ivan_513 = 2\n",
      "\n",
      "_C10: x_Alice_561 + x_Bob_561 + x_Carol_561 + x_Chuck_561 + x_Dan_561\n",
      " + x_Erin_561 + x_Faith_561 + x_Grace_561 + x_Heidi_561 + x_Ivan_561 = 2\n",
      "\n",
      "_C11: x_Alice_571 + x_Bob_571 + x_Carol_571 + x_Chuck_571 + x_Dan_571\n",
      " + x_Erin_571 + x_Faith_571 + x_Grace_571 + x_Heidi_571 + x_Ivan_571 = 2\n",
      "\n",
      "_C12: x_Alice_532 + x_Bob_532 + x_Carol_532 + x_Chuck_532 + x_Dan_532\n",
      " + x_Erin_532 + x_Faith_532 + x_Grace_532 + x_Heidi_532 + x_Ivan_532 = 2\n",
      "\n",
      "VARIABLES\n",
      "0 <= x_Alice_511 <= 1 Integer\n",
      "0 <= x_Alice_512 <= 1 Integer\n",
      "0 <= x_Alice_513 <= 1 Integer\n",
      "0 <= x_Alice_521 <= 1 Integer\n",
      "0 <= x_Alice_523 <= 1 Integer\n",
      "0 <= x_Alice_531 <= 1 Integer\n",
      "0 <= x_Alice_532 <= 1 Integer\n",
      "0 <= x_Alice_542 <= 1 Integer\n",
      "0 <= x_Alice_551 <= 1 Integer\n",
      "0 <= x_Alice_552 <= 1 Integer\n",
      "0 <= x_Alice_561 <= 1 Integer\n",
      "0 <= x_Alice_571 <= 1 Integer\n",
      "0 <= x_Bob_511 <= 1 Integer\n",
      "0 <= x_Bob_512 <= 1 Integer\n",
      "0 <= x_Bob_513 <= 1 Integer\n",
      "0 <= x_Bob_521 <= 1 Integer\n",
      "0 <= x_Bob_523 <= 1 Integer\n",
      "0 <= x_Bob_531 <= 1 Integer\n",
      "0 <= x_Bob_532 <= 1 Integer\n",
      "0 <= x_Bob_542 <= 1 Integer\n",
      "0 <= x_Bob_551 <= 1 Integer\n",
      "0 <= x_Bob_552 <= 1 Integer\n",
      "0 <= x_Bob_561 <= 1 Integer\n",
      "0 <= x_Bob_571 <= 1 Integer\n",
      "0 <= x_Carol_511 <= 1 Integer\n",
      "0 <= x_Carol_512 <= 1 Integer\n",
      "0 <= x_Carol_513 <= 1 Integer\n",
      "0 <= x_Carol_521 <= 1 Integer\n",
      "0 <= x_Carol_523 <= 1 Integer\n",
      "0 <= x_Carol_531 <= 1 Integer\n",
      "0 <= x_Carol_532 <= 1 Integer\n",
      "0 <= x_Carol_542 <= 1 Integer\n",
      "0 <= x_Carol_551 <= 1 Integer\n",
      "0 <= x_Carol_552 <= 1 Integer\n",
      "0 <= x_Carol_561 <= 1 Integer\n",
      "0 <= x_Carol_571 <= 1 Integer\n",
      "0 <= x_Chuck_511 <= 1 Integer\n",
      "0 <= x_Chuck_512 <= 1 Integer\n",
      "0 <= x_Chuck_513 <= 1 Integer\n",
      "0 <= x_Chuck_521 <= 1 Integer\n",
      "0 <= x_Chuck_523 <= 1 Integer\n",
      "0 <= x_Chuck_531 <= 1 Integer\n",
      "0 <= x_Chuck_532 <= 1 Integer\n",
      "0 <= x_Chuck_542 <= 1 Integer\n",
      "0 <= x_Chuck_551 <= 1 Integer\n",
      "0 <= x_Chuck_552 <= 1 Integer\n",
      "0 <= x_Chuck_561 <= 1 Integer\n",
      "0 <= x_Chuck_571 <= 1 Integer\n",
      "0 <= x_Dan_511 <= 1 Integer\n",
      "0 <= x_Dan_512 <= 1 Integer\n",
      "0 <= x_Dan_513 <= 1 Integer\n",
      "0 <= x_Dan_521 <= 1 Integer\n",
      "0 <= x_Dan_523 <= 1 Integer\n",
      "0 <= x_Dan_531 <= 1 Integer\n",
      "0 <= x_Dan_532 <= 1 Integer\n",
      "0 <= x_Dan_542 <= 1 Integer\n",
      "0 <= x_Dan_551 <= 1 Integer\n",
      "0 <= x_Dan_552 <= 1 Integer\n",
      "0 <= x_Dan_561 <= 1 Integer\n",
      "0 <= x_Dan_571 <= 1 Integer\n",
      "0 <= x_Erin_511 <= 1 Integer\n",
      "0 <= x_Erin_512 <= 1 Integer\n",
      "0 <= x_Erin_513 <= 1 Integer\n",
      "0 <= x_Erin_521 <= 1 Integer\n",
      "0 <= x_Erin_523 <= 1 Integer\n",
      "0 <= x_Erin_531 <= 1 Integer\n",
      "0 <= x_Erin_532 <= 1 Integer\n",
      "0 <= x_Erin_542 <= 1 Integer\n",
      "0 <= x_Erin_551 <= 1 Integer\n",
      "0 <= x_Erin_552 <= 1 Integer\n",
      "0 <= x_Erin_561 <= 1 Integer\n",
      "0 <= x_Erin_571 <= 1 Integer\n",
      "0 <= x_Faith_511 <= 1 Integer\n",
      "0 <= x_Faith_512 <= 1 Integer\n",
      "0 <= x_Faith_513 <= 1 Integer\n",
      "0 <= x_Faith_521 <= 1 Integer\n",
      "0 <= x_Faith_523 <= 1 Integer\n",
      "0 <= x_Faith_531 <= 1 Integer\n",
      "0 <= x_Faith_532 <= 1 Integer\n",
      "0 <= x_Faith_542 <= 1 Integer\n",
      "0 <= x_Faith_551 <= 1 Integer\n",
      "0 <= x_Faith_552 <= 1 Integer\n",
      "0 <= x_Faith_561 <= 1 Integer\n",
      "0 <= x_Faith_571 <= 1 Integer\n",
      "0 <= x_Grace_511 <= 1 Integer\n",
      "0 <= x_Grace_512 <= 1 Integer\n",
      "0 <= x_Grace_513 <= 1 Integer\n",
      "0 <= x_Grace_521 <= 1 Integer\n",
      "0 <= x_Grace_523 <= 1 Integer\n",
      "0 <= x_Grace_531 <= 1 Integer\n",
      "0 <= x_Grace_532 <= 1 Integer\n",
      "0 <= x_Grace_542 <= 1 Integer\n",
      "0 <= x_Grace_551 <= 1 Integer\n",
      "0 <= x_Grace_552 <= 1 Integer\n",
      "0 <= x_Grace_561 <= 1 Integer\n",
      "0 <= x_Grace_571 <= 1 Integer\n",
      "0 <= x_Heidi_511 <= 1 Integer\n",
      "0 <= x_Heidi_512 <= 1 Integer\n",
      "0 <= x_Heidi_513 <= 1 Integer\n",
      "0 <= x_Heidi_521 <= 1 Integer\n",
      "0 <= x_Heidi_523 <= 1 Integer\n",
      "0 <= x_Heidi_531 <= 1 Integer\n",
      "0 <= x_Heidi_532 <= 1 Integer\n",
      "0 <= x_Heidi_542 <= 1 Integer\n",
      "0 <= x_Heidi_551 <= 1 Integer\n",
      "0 <= x_Heidi_552 <= 1 Integer\n",
      "0 <= x_Heidi_561 <= 1 Integer\n",
      "0 <= x_Heidi_571 <= 1 Integer\n",
      "0 <= x_Ivan_511 <= 1 Integer\n",
      "0 <= x_Ivan_512 <= 1 Integer\n",
      "0 <= x_Ivan_513 <= 1 Integer\n",
      "0 <= x_Ivan_521 <= 1 Integer\n",
      "0 <= x_Ivan_523 <= 1 Integer\n",
      "0 <= x_Ivan_531 <= 1 Integer\n",
      "0 <= x_Ivan_532 <= 1 Integer\n",
      "0 <= x_Ivan_542 <= 1 Integer\n",
      "0 <= x_Ivan_551 <= 1 Integer\n",
      "0 <= x_Ivan_552 <= 1 Integer\n",
      "0 <= x_Ivan_561 <= 1 Integer\n",
      "0 <= x_Ivan_571 <= 1 Integer\n",
      "\n"
     ]
    }
   ],
   "source": [
    "print(prob)"
   ]
  },
  {
   "cell_type": "markdown",
   "metadata": {},
   "source": [
    "- Above: in PuLP we use the `+=` syntax to add a new constraint to the optimization problem. \n",
    "  - No code to solve the optimization problem is actually been run here.\n",
    "  - Rather, PuLP is using the syntax of python to allow the user to specify the problem over multiple lines of code.\n",
    "  - You will see this \"language within a language\" pattern again in DSCI 572 and DSCI 553, and maybe other places.\n",
    "- Also, you can think of `pulp.lpSum` as the same as `sum` or `np.sum`.\n",
    "  - However, it's not doing the summing now, like we usually do with python code.\n",
    "  - It's just a way of communicating the math of the optimization problem. "
   ]
  },
  {
   "cell_type": "markdown",
   "metadata": {},
   "source": [
    "<br>\n",
    "\n",
    "_A TA can only cover one course at a time (i.e., in a given block)._\n",
    "  - For all TAs $i$, for all blocks $B$, we require $\\sum_{j\\in B} x_{ij} \\leq 1$\n",
    "  - That is, the sum of Alice's Block 1 courses is at most 1, the sum of Bob's Block 1 courses is at most 1, ..."
   ]
  },
  {
   "cell_type": "code",
   "execution_count": 65,
   "metadata": {},
   "outputs": [],
   "source": [
    "for TA in TAs:\n",
    "    for block in blocks:\n",
    "        courses_in_block = courses_df.query(\"block == @block\").index # DSCI 523 FTW!\n",
    "        prob += pulp.lpSum(x[TA][course] for course in courses_in_block) <= 1"
   ]
  },
  {
   "cell_type": "markdown",
   "metadata": {},
   "source": [
    "<br> \n",
    "\n",
    "_A TA can only be assigned to a course they have listed as \"can teach\" or \"enthusiastic to teach\"._\n",
    "  - For all $i,j$ such that canteach$(i,j)$ is false and enthusiastic$(i,j)$ is false, $x_{ij}=0$\n",
    "  - That is, Bob cannot teach 511 because canteach(Bob,511) is false and enthusiastic(Bob,511) is false, ...\n",
    " \n"
   ]
  },
  {
   "cell_type": "code",
   "execution_count": 66,
   "metadata": {},
   "outputs": [],
   "source": [
    "for TA in TAs:\n",
    "    for course in courses:\n",
    "        if course not in TAs_df.loc[TA,\"can_teach\"] and course not in TAs_df.loc[TA,\"enthusiastic\"]:\n",
    "            prob += ( x[TA][course] == 0 )"
   ]
  },
  {
   "cell_type": "markdown",
   "metadata": {},
   "source": [
    "<br> \n",
    "\n",
    "_To cover a course, the TA must be available for one of the two lab days._\n",
    "  - For all $i,j$ such that available$(i,\\text{day1}(j))$ is false and available$(i,\\text{day2}(j))$ is false, $x_{ij}=0$\n",
    "  - That is, Carol cannot teach DSCI 542 because available(Carol,W) is false and available(Carol,Th) is false\n",
    "    - And day1(542) is W, day2(542) is Th.\n",
    "  "
   ]
  },
  {
   "cell_type": "code",
   "execution_count": 67,
   "metadata": {},
   "outputs": [],
   "source": [
    "for TA in TAs:\n",
    "    for course in courses:\n",
    "        if courses_df.loc[course,\"lab_days\"][0] not in TAs_df.loc[TA][\"availability\"] and \\\n",
    "           courses_df.loc[course,\"lab_days\"][1] not in TAs_df.loc[TA][\"availability\"]:\n",
    "            prob += x[TA][course] == 0"
   ]
  },
  {
   "cell_type": "markdown",
   "metadata": {},
   "source": [
    "#### Setting up the objective\n",
    "\n",
    "- _We want to maximize the number of assigned courses that TAs are enthusiastic about._\n",
    "- Below we show 3 equivalent ways of specifying this objective in PuLP."
   ]
  },
  {
   "cell_type": "markdown",
   "metadata": {},
   "source": [
    "1st approach:\n",
    "\n",
    "- We want to maximize the following objective: for all $i,j$ such that enthusiastic$(i,j)$ is true, $\\sum_{ij} x_{ij}$\n",
    "- We first do this with a gnarly generator comprehension:"
   ]
  },
  {
   "cell_type": "code",
   "execution_count": 20,
   "metadata": {},
   "outputs": [],
   "source": [
    "prob += pulp.lpSum(x[TA][course] for TA in TAs for course in courses if course in TAs_df.loc[TA,\"enthusiastic\"])"
   ]
  },
  {
   "cell_type": "markdown",
   "metadata": {},
   "source": [
    "- Above: to specify the objective in PuLP, we again use `+=` but this time without any boolean operator on the right side."
   ]
  },
  {
   "cell_type": "markdown",
   "metadata": {},
   "source": [
    "2nd approach:\n",
    "\n",
    "- Here's an alternative version that is totally eqivalent but should be more readable:"
   ]
  },
  {
   "cell_type": "code",
   "execution_count": 58,
   "metadata": {},
   "outputs": [],
   "source": [
    "objective_terms = list()\n",
    "for TA in TAs:\n",
    "    for course in courses:\n",
    "        if course in TAs_df.loc[TA,\"enthusiastic\"]:\n",
    "            objective_terms.append(x[TA][course])\n",
    "prob += pulp.lpSum(objective_terms)"
   ]
  },
  {
   "cell_type": "markdown",
   "metadata": {},
   "source": [
    "3rd approach:\n",
    "\n",
    "- We can also think of the math a bit differently: maximize $\\sum_{ij} \\text{enthusiastic}(i,j)x_{ij}$"
   ]
  },
  {
   "cell_type": "code",
   "execution_count": 48,
   "metadata": {},
   "outputs": [],
   "source": [
    "objective_terms = list()\n",
    "for TA in TAs:\n",
    "    for course in courses:\n",
    "        enthusiastic = course in TAs_df.loc[TA,\"enthusiastic\"] # True/1 if enthusiastic, False/0 otherwise\n",
    "        objective_terms.append(enthusiastic * x[TA][course])\n",
    "prob += pulp.lpSum(objective_terms)"
   ]
  },
  {
   "cell_type": "markdown",
   "metadata": {},
   "source": [
    "- Above: you may need to think about this for a few minutes.\n",
    "- Because $x_{ij}$ are binary and `enthusiastic` is also binary, the product is 1 only when both are 1.\n",
    "  - So we're counting up the number of cases where the TA is enthusastic _and_ the TA is assigned to that course.\n",
    "\n",
    "\n",
    "- Approaches 1 & 2 work because the enthusiasm function is binary (yes/1 or no/0).\n",
    "- But this can generalize to any sort of numbers. You could have, for example, TAs rate their enthusiasm from 1 to 10.\n",
    "  - In that case, only approach 3 would work; you'd multiply the enthusiasm score by $x_{ij}$.\n",
    "  - In the lab you'll need something like approach 3 for the same reason."
   ]
  },
  {
   "cell_type": "markdown",
   "metadata": {},
   "source": [
    "#### Solving the problem"
   ]
  },
  {
   "cell_type": "code",
   "execution_count": 49,
   "metadata": {},
   "outputs": [
    {
     "data": {
      "text/plain": [
       "1"
      ]
     },
     "execution_count": 49,
     "metadata": {},
     "output_type": "execute_result"
    }
   ],
   "source": [
    "prob.solve()"
   ]
  },
  {
   "cell_type": "code",
   "execution_count": 50,
   "metadata": {},
   "outputs": [
    {
     "data": {
      "text/plain": [
       "'Optimal'"
      ]
     },
     "execution_count": 50,
     "metadata": {},
     "output_type": "execute_result"
    }
   ],
   "source": [
    "pulp.LpStatus[prob.status]"
   ]
  },
  {
   "cell_type": "code",
   "execution_count": 51,
   "metadata": {},
   "outputs": [
    {
     "name": "stdout",
     "output_type": "stream",
     "text": [
      "We have 16 enthusiastic courses out of a possible 24.\n"
     ]
    }
   ],
   "source": [
    "print(\"We have %d enthusiastic courses out of a possible %d.\" % \n",
    "      (pulp.value(prob.objective), len(courses)*TAS_PER_COURSE))"
   ]
  },
  {
   "cell_type": "markdown",
   "metadata": {},
   "source": [
    "#### Printing the results"
   ]
  },
  {
   "cell_type": "code",
   "execution_count": 52,
   "metadata": {},
   "outputs": [
    {
     "data": {
      "text/html": [
       "<div>\n",
       "<style scoped>\n",
       "    .dataframe tbody tr th:only-of-type {\n",
       "        vertical-align: middle;\n",
       "    }\n",
       "\n",
       "    .dataframe tbody tr th {\n",
       "        vertical-align: top;\n",
       "    }\n",
       "\n",
       "    .dataframe thead th {\n",
       "        text-align: right;\n",
       "    }\n",
       "</style>\n",
       "<table border=\"1\" class=\"dataframe\">\n",
       "  <thead>\n",
       "    <tr style=\"text-align: right;\">\n",
       "      <th></th>\n",
       "      <th>1</th>\n",
       "      <th>2</th>\n",
       "      <th>3</th>\n",
       "    </tr>\n",
       "  </thead>\n",
       "  <tbody>\n",
       "    <tr>\n",
       "      <td>Alice</td>\n",
       "      <td></td>\n",
       "      <td>552</td>\n",
       "      <td>571</td>\n",
       "    </tr>\n",
       "    <tr>\n",
       "      <td>Bob</td>\n",
       "      <td>551</td>\n",
       "      <td>531</td>\n",
       "      <td>561</td>\n",
       "    </tr>\n",
       "    <tr>\n",
       "      <td>Carol</td>\n",
       "      <td>551</td>\n",
       "      <td>552</td>\n",
       "      <td>571</td>\n",
       "    </tr>\n",
       "    <tr>\n",
       "      <td>Chuck</td>\n",
       "      <td>542</td>\n",
       "      <td>523</td>\n",
       "      <td></td>\n",
       "    </tr>\n",
       "    <tr>\n",
       "      <td>Dan</td>\n",
       "      <td>511</td>\n",
       "      <td>512</td>\n",
       "      <td>532</td>\n",
       "    </tr>\n",
       "    <tr>\n",
       "      <td>Erin</td>\n",
       "      <td></td>\n",
       "      <td>512</td>\n",
       "      <td>513</td>\n",
       "    </tr>\n",
       "    <tr>\n",
       "      <td>Faith</td>\n",
       "      <td>521</td>\n",
       "      <td>531</td>\n",
       "      <td>513</td>\n",
       "    </tr>\n",
       "    <tr>\n",
       "      <td>Grace</td>\n",
       "      <td>521</td>\n",
       "      <td></td>\n",
       "      <td></td>\n",
       "    </tr>\n",
       "    <tr>\n",
       "      <td>Heidi</td>\n",
       "      <td>511</td>\n",
       "      <td>523</td>\n",
       "      <td>561</td>\n",
       "    </tr>\n",
       "    <tr>\n",
       "      <td>Ivan</td>\n",
       "      <td>542</td>\n",
       "      <td></td>\n",
       "      <td>532</td>\n",
       "    </tr>\n",
       "  </tbody>\n",
       "</table>\n",
       "</div>"
      ],
      "text/plain": [
       "         1    2    3\n",
       "Alice       552  571\n",
       "Bob    551  531  561\n",
       "Carol  551  552  571\n",
       "Chuck  542  523     \n",
       "Dan    511  512  532\n",
       "Erin        512  513\n",
       "Faith  521  531  513\n",
       "Grace  521          \n",
       "Heidi  511  523  561\n",
       "Ivan   542       532"
      ]
     },
     "execution_count": 52,
     "metadata": {},
     "output_type": "execute_result"
    }
   ],
   "source": [
    "out_df_by_TA = pd.DataFrame(\"\", index=TAs, columns=blocks)\n",
    "for TA in TAs:\n",
    "    for course in courses:\n",
    "        if pulp.value(x[TA][course]) == 1:\n",
    "            out_df_by_TA.loc[TA, courses_df.loc[course, \"block\"]] = course\n",
    "out_df_by_TA"
   ]
  },
  {
   "cell_type": "code",
   "execution_count": 53,
   "metadata": {},
   "outputs": [
    {
     "data": {
      "text/html": [
       "<div>\n",
       "<style scoped>\n",
       "    .dataframe tbody tr th:only-of-type {\n",
       "        vertical-align: middle;\n",
       "    }\n",
       "\n",
       "    .dataframe tbody tr th {\n",
       "        vertical-align: top;\n",
       "    }\n",
       "\n",
       "    .dataframe thead th {\n",
       "        text-align: right;\n",
       "    }\n",
       "</style>\n",
       "<table border=\"1\" class=\"dataframe\">\n",
       "  <thead>\n",
       "    <tr style=\"text-align: right;\">\n",
       "      <th></th>\n",
       "      <th>TA 1</th>\n",
       "      <th>TA 2</th>\n",
       "    </tr>\n",
       "  </thead>\n",
       "  <tbody>\n",
       "    <tr>\n",
       "      <td>511</td>\n",
       "      <td>Dan</td>\n",
       "      <td>Heidi</td>\n",
       "    </tr>\n",
       "    <tr>\n",
       "      <td>521</td>\n",
       "      <td>Faith</td>\n",
       "      <td>Grace</td>\n",
       "    </tr>\n",
       "    <tr>\n",
       "      <td>542</td>\n",
       "      <td>Chuck</td>\n",
       "      <td>Ivan</td>\n",
       "    </tr>\n",
       "    <tr>\n",
       "      <td>551</td>\n",
       "      <td>Bob</td>\n",
       "      <td>Carol</td>\n",
       "    </tr>\n",
       "    <tr>\n",
       "      <td>512</td>\n",
       "      <td>Dan</td>\n",
       "      <td>Erin</td>\n",
       "    </tr>\n",
       "    <tr>\n",
       "      <td>523</td>\n",
       "      <td>Chuck</td>\n",
       "      <td>Heidi</td>\n",
       "    </tr>\n",
       "    <tr>\n",
       "      <td>531</td>\n",
       "      <td>Bob</td>\n",
       "      <td>Faith</td>\n",
       "    </tr>\n",
       "    <tr>\n",
       "      <td>552</td>\n",
       "      <td>Alice</td>\n",
       "      <td>Carol</td>\n",
       "    </tr>\n",
       "    <tr>\n",
       "      <td>513</td>\n",
       "      <td>Erin</td>\n",
       "      <td>Faith</td>\n",
       "    </tr>\n",
       "    <tr>\n",
       "      <td>561</td>\n",
       "      <td>Bob</td>\n",
       "      <td>Heidi</td>\n",
       "    </tr>\n",
       "    <tr>\n",
       "      <td>571</td>\n",
       "      <td>Alice</td>\n",
       "      <td>Carol</td>\n",
       "    </tr>\n",
       "    <tr>\n",
       "      <td>532</td>\n",
       "      <td>Dan</td>\n",
       "      <td>Ivan</td>\n",
       "    </tr>\n",
       "  </tbody>\n",
       "</table>\n",
       "</div>"
      ],
      "text/plain": [
       "      TA 1   TA 2\n",
       "511    Dan  Heidi\n",
       "521  Faith  Grace\n",
       "542  Chuck   Ivan\n",
       "551    Bob  Carol\n",
       "512    Dan   Erin\n",
       "523  Chuck  Heidi\n",
       "531    Bob  Faith\n",
       "552  Alice  Carol\n",
       "513   Erin  Faith\n",
       "561    Bob  Heidi\n",
       "571  Alice  Carol\n",
       "532    Dan   Ivan"
      ]
     },
     "execution_count": 53,
     "metadata": {},
     "output_type": "execute_result"
    }
   ],
   "source": [
    "tas_by_course = defaultdict(list)\n",
    "for course in courses:\n",
    "    for TA in TAs:\n",
    "        if pulp.value(x[TA][course]) == 1:\n",
    "            tas_by_course[course].append(TA)\n",
    "out_df_by_course = pd.DataFrame.from_dict(data=tas_by_course, columns=[\"TA 1\", \"TA 2\"], orient=\"index\")\n",
    "out_df_by_course"
   ]
  },
  {
   "cell_type": "code",
   "execution_count": 54,
   "metadata": {},
   "outputs": [
    {
     "name": "stdout",
     "output_type": "stream",
     "text": [
      "Heidi   is enthusiastic about DSCI 511!\n",
      "Faith   is enthusiastic about DSCI 521!\n",
      "Chuck   is enthusiastic about DSCI 542!\n",
      "Bob     is enthusiastic about DSCI 551!\n",
      "Carol   is enthusiastic about DSCI 551!\n",
      "Dan     is enthusiastic about DSCI 512!\n",
      "Erin    is enthusiastic about DSCI 512!\n",
      "Chuck   is enthusiastic about DSCI 523!\n",
      "Heidi   is enthusiastic about DSCI 523!\n",
      "Carol   is enthusiastic about DSCI 552!\n",
      "Erin    is enthusiastic about DSCI 513!\n",
      "Faith   is enthusiastic about DSCI 513!\n",
      "Bob     is enthusiastic about DSCI 561!\n",
      "Heidi   is enthusiastic about DSCI 561!\n",
      "Alice   is enthusiastic about DSCI 571!\n",
      "Carol   is enthusiastic about DSCI 571!\n"
     ]
    }
   ],
   "source": [
    "# Enthusiastic courses\n",
    "for course in courses:\n",
    "    for TA in TAs:\n",
    "        if pulp.value(x[TA][course]) == 1 and course in TAs_df.loc[TA][\"enthusiastic\"]:\n",
    "            print(\"%-7s is enthusiastic about DSCI %d!\" % (TA, course))"
   ]
  },
  {
   "cell_type": "markdown",
   "metadata": {},
   "source": [
    "#### On your own time\n",
    "\n",
    "- Try playing around with the code above when you remove constraints.\n",
    "- This will give you a good feeling for the optimization problem.\n",
    "- With fewer constraints you'll get a better objective value, but the solutions won't make sense.\n",
    "- Often when looking at the solution you'll realize you forgot a constraint, like a TA doing multiple courses in the same block."
   ]
  },
  {
   "cell_type": "markdown",
   "metadata": {},
   "source": [
    "#### So how did this work?\n",
    "\n",
    "- Earlier we solved the \"English words in a string\" problem with brute force.\n",
    "- What would that look like here?\n",
    "- Well, how big is $x$?"
   ]
  },
  {
   "cell_type": "code",
   "execution_count": null,
   "metadata": {},
   "outputs": [],
   "source": [
    "len(TAs)"
   ]
  },
  {
   "cell_type": "code",
   "execution_count": null,
   "metadata": {},
   "outputs": [],
   "source": [
    "len(courses)"
   ]
  },
  {
   "cell_type": "code",
   "execution_count": null,
   "metadata": {},
   "outputs": [],
   "source": [
    "len(TAs) * len(courses)"
   ]
  },
  {
   "cell_type": "markdown",
   "metadata": {},
   "source": [
    "- We have 132 binary variables. \n",
    "- So, there are $2^{132}$ possible configurations of our binary variables."
   ]
  },
  {
   "cell_type": "code",
   "execution_count": null,
   "metadata": {},
   "outputs": [],
   "source": [
    "2**132"
   ]
  },
  {
   "cell_type": "markdown",
   "metadata": {},
   "source": [
    "- Brute force is completely out of the question here.\n",
    "- What did PuLP do to make it so fast?\n",
    "- It took advantage of the problem being _linear_.\n",
    "- For example, we have a constraint that a TA can only cover one course per block, which we encoded as $\\sum_j x_{ij} \\leq 1$\n",
    "- So if PuLP is considering a solution where $\\sum_j x_{ij}=2$ for some TA $i$, it can discard _all_ possible solutions like this, regardless of the configurations of _all other TAs_.\n",
    "  - That is a HUGE time saving.\n",
    "  - Furthermore it can discard all possible solutions with _more_ courses for that TA (i.e. 3 or 4 courses in a block). \n",
    "- This type of reasoning wouldn't have worked for the English words example because the solver doesn't \"know\" the constraints. For example if `aaabbbbb` is not allowed because you can't have more than 2 of a letter, it has no way to know that `aaabbbbd` is also violating the constraint - it can only find out whether the constraint is `True` or `False` for a given input without knowing the _structure_.\n",
    "- The above discussion pertains to exploiting the linearity of the constraints; there are similar gains to be had from the linearity of the objective."
   ]
  },
  {
   "cell_type": "markdown",
   "metadata": {},
   "source": [
    "#### (optional) Regular (non-integer) linear programming\n",
    "\n",
    "- FYI that the term \"linear programing\" (LP) usually refers to the case where the decision variables ($x$) are continuous; what we did with discrete $x$ is called integer linear programming (ILP).\n",
    "  - (You can also have a mix of continuous and discrete variables.)\n",
    "- PuLP can solve these types of problems as well.\n",
    "  - The algorithms under the hood are very different, but from your perspective the interface with PuLP is the same whether the variables are continuous or discrete.\n",
    "- (optional) FYI, discrete problems are generally harder to solve. They have exponential worst-case time though in practice it's fine. Continuous LP problems have better big O bounds. "
   ]
  },
  {
   "cell_type": "markdown",
   "metadata": {},
   "source": [
    "#### (optional) What we actually do for MDS TAs:\n",
    "\n",
    "- All of the above, and...\n",
    "- Match TA programming language proficiency with courses.\n",
    "- Respect TA preferences on max or min number of courses (e.g. 1-2 courses, exactly 3 courses, etc).\n",
    "  - This means you no longer have 3 separate problems for the 3 blocks.\n",
    "- Allow the script to under/over staff if necessary (big term in the objective).\n",
    "- And more!"
   ]
  },
  {
   "cell_type": "markdown",
   "metadata": {},
   "source": [
    "## Types of discrete optimization problems (5 min)\n",
    "\n",
    "- We tend to classify discrete optimization problems into different types, based on the tricks we can use to solve them.\n",
    "- For example, some tough optimization problems are said to be [NP-complete](https://en.wikipedia.org/wiki/NP-completeness). We won't go into detail here, but it's related to the idea that you have to use brute force.\n",
    "- Other optimization problems are called _linear_. Discrete optimization problems that are linear are called [integer linear programs](https://en.wikipedia.org/wiki/Integer_programming). \n",
    "  - There is a technical definition of linear optimization problems, but in short the objective and constraints must be linear functions of the inputs. \n",
    "  - In Python, we can conveniently solve linear optimization problems using the [PuLP](https://pythonhosted.org/PuLP/) package.\n",
    "  - The way these solvers work is outside the scope of MDS.\n",
    "- In general, if your optimization problem falls into a more restrictive class of problems, there are probably tools to solve them faster. \n",
    "- Next class we'll talk about another class of problems that can be solved fast, using \"dynamic programming\"."
   ]
  },
  {
   "cell_type": "markdown",
   "metadata": {},
   "source": [
    "## T/F questions (10 min)\n",
    "\n",
    "1. A solver will violate the constraints if this results in huge gains for the objective function.\n",
    "2. Some discrete optimization problems have multiple solutions.\n",
    "3. Some discrete optimization problems have no solutions at all.\n",
    "4. PuLP can be use to solve any optimization problem, but it may be very slow for some problems."
   ]
  }
 ],
 "metadata": {
  "kernelspec": {
   "display_name": "Python 3",
   "language": "python",
   "name": "python3"
  },
  "language_info": {
   "codemirror_mode": {
    "name": "ipython",
    "version": 3
   },
   "file_extension": ".py",
   "mimetype": "text/x-python",
   "name": "python",
   "nbconvert_exporter": "python",
   "pygments_lexer": "ipython3",
   "version": "3.7.4"
  }
 },
 "nbformat": 4,
 "nbformat_minor": 4
}
